{
 "cells": [
  {
   "attachments": {},
   "cell_type": "markdown",
   "metadata": {},
   "source": [
    "## Use sympy to solve the system of linear equations"
   ]
  },
  {
   "cell_type": "code",
   "execution_count": null,
   "metadata": {},
   "outputs": [],
   "source": [
    "from sympy import (\n",
    "    symbols,\n",
    "    Function,\n",
    "    solve,\n",
    "    simplify,\n",
    ")"
   ]
  },
  {
   "cell_type": "code",
   "execution_count": null,
   "metadata": {},
   "outputs": [],
   "source": [
    "# Declare variables and symbols\n",
    "t, a1, a2, a3, b1, b2, b3, sigma, rho, beta = symbols(\n",
    "    \"t, a1, a2, a3, b1, b2, b3, sigma, rho, beta\"\n",
    ")\n",
    "x1 = Function(\"x1\")(t)\n",
    "x2 = Function(\"x2\")(t)\n",
    "x3 = Function(\"x3\")(t)\n",
    "z1 = Function(\"z1\")(t)\n",
    "z2 = Function(\"z2\")(t)"
   ]
  },
  {
   "attachments": {},
   "cell_type": "markdown",
   "metadata": {},
   "source": [
    "### Write d/dt()"
   ]
  },
  {
   "cell_type": "code",
   "execution_count": null,
   "metadata": {},
   "outputs": [],
   "source": [
    "dx1 = sigma * (x2 - x1)\n",
    "dx2 = x1 * (rho - x3) - x2\n",
    "dx3 = x1 * x2 - beta * x3"
   ]
  },
  {
   "attachments": {},
   "cell_type": "markdown",
   "metadata": {},
   "source": [
    "### Calc d/dt()"
   ]
  },
  {
   "cell_type": "code",
   "execution_count": null,
   "metadata": {},
   "outputs": [
    {
     "data": {
      "text/latex": [
       "$\\displaystyle \\sigma \\left(- \\frac{d}{d t} x_{1}{\\left(t \\right)} + \\frac{d}{d t} x_{2}{\\left(t \\right)}\\right)$"
      ],
      "text/plain": [
       "sigma*(-Derivative(x1(t), t) + Derivative(x2(t), t))"
      ]
     },
     "metadata": {},
     "output_type": "display_data"
    },
    {
     "data": {
      "text/latex": [
       "$\\displaystyle \\left(\\rho - x_{3}{\\left(t \\right)}\\right) \\frac{d}{d t} x_{1}{\\left(t \\right)} - x_{1}{\\left(t \\right)} \\frac{d}{d t} x_{3}{\\left(t \\right)} - \\frac{d}{d t} x_{2}{\\left(t \\right)}$"
      ],
      "text/plain": [
       "(rho - x3(t))*Derivative(x1(t), t) - x1(t)*Derivative(x3(t), t) - Derivative(x2(t), t)"
      ]
     },
     "metadata": {},
     "output_type": "display_data"
    },
    {
     "data": {
      "text/latex": [
       "$\\displaystyle - \\beta \\frac{d}{d t} x_{3}{\\left(t \\right)} + x_{1}{\\left(t \\right)} \\frac{d}{d t} x_{2}{\\left(t \\right)} + x_{2}{\\left(t \\right)} \\frac{d}{d t} x_{1}{\\left(t \\right)}$"
      ],
      "text/plain": [
       "-beta*Derivative(x3(t), t) + x1(t)*Derivative(x2(t), t) + x2(t)*Derivative(x1(t), t)"
      ]
     },
     "metadata": {},
     "output_type": "display_data"
    }
   ],
   "source": [
    "ddx1_sym = dx1.diff(t)\n",
    "ddx2_sym = dx2.diff(t)\n",
    "ddx3_sym = dx3.diff(t)\n",
    "\n",
    "display(ddx1_sym)\n",
    "display(ddx2_sym)\n",
    "display(ddx3_sym)"
   ]
  },
  {
   "attachments": {},
   "cell_type": "markdown",
   "metadata": {},
   "source": [
    "### Write d2/dt2()"
   ]
  },
  {
   "cell_type": "code",
   "execution_count": null,
   "metadata": {},
   "outputs": [
    {
     "data": {
      "text/latex": [
       "$\\displaystyle \\sigma \\left(- \\sigma \\left(- x_{1}{\\left(t \\right)} + x_{2}{\\left(t \\right)}\\right) + \\left(\\rho - x_{3}{\\left(t \\right)}\\right) x_{1}{\\left(t \\right)} - x_{2}{\\left(t \\right)}\\right)$"
      ],
      "text/plain": [
       "sigma*(-sigma*(-x1(t) + x2(t)) + (rho - x3(t))*x1(t) - x2(t))"
      ]
     },
     "metadata": {},
     "output_type": "display_data"
    },
    {
     "data": {
      "text/latex": [
       "$\\displaystyle \\sigma \\left(\\rho - x_{3}{\\left(t \\right)}\\right) \\left(- x_{1}{\\left(t \\right)} + x_{2}{\\left(t \\right)}\\right) - \\left(\\rho - x_{3}{\\left(t \\right)}\\right) x_{1}{\\left(t \\right)} - \\left(- \\beta x_{3}{\\left(t \\right)} + x_{1}{\\left(t \\right)} x_{2}{\\left(t \\right)}\\right) x_{1}{\\left(t \\right)} + x_{2}{\\left(t \\right)}$"
      ],
      "text/plain": [
       "sigma*(rho - x3(t))*(-x1(t) + x2(t)) - (rho - x3(t))*x1(t) - (-beta*x3(t) + x1(t)*x2(t))*x1(t) + x2(t)"
      ]
     },
     "metadata": {},
     "output_type": "display_data"
    },
    {
     "data": {
      "text/latex": [
       "$\\displaystyle - \\beta \\left(- \\beta x_{3}{\\left(t \\right)} + x_{1}{\\left(t \\right)} x_{2}{\\left(t \\right)}\\right) + \\sigma \\left(- x_{1}{\\left(t \\right)} + x_{2}{\\left(t \\right)}\\right) x_{2}{\\left(t \\right)} + \\left(\\left(\\rho - x_{3}{\\left(t \\right)}\\right) x_{1}{\\left(t \\right)} - x_{2}{\\left(t \\right)}\\right) x_{1}{\\left(t \\right)}$"
      ],
      "text/plain": [
       "-beta*(-beta*x3(t) + x1(t)*x2(t)) + sigma*(-x1(t) + x2(t))*x2(t) + ((rho - x3(t))*x1(t) - x2(t))*x1(t)"
      ]
     },
     "metadata": {},
     "output_type": "display_data"
    },
    {
     "data": {
      "text/latex": [
       "$\\displaystyle a_{2} \\left(\\sigma \\left(\\rho - x_{3}{\\left(t \\right)}\\right) \\left(- x_{1}{\\left(t \\right)} + x_{2}{\\left(t \\right)}\\right) - \\left(\\rho - x_{3}{\\left(t \\right)}\\right) x_{1}{\\left(t \\right)} - \\left(- \\beta x_{3}{\\left(t \\right)} + x_{1}{\\left(t \\right)} x_{2}{\\left(t \\right)}\\right) x_{1}{\\left(t \\right)} + x_{2}{\\left(t \\right)}\\right) + a_{3} \\left(- \\beta \\left(- \\beta x_{3}{\\left(t \\right)} + x_{1}{\\left(t \\right)} x_{2}{\\left(t \\right)}\\right) + \\sigma \\left(- x_{1}{\\left(t \\right)} + x_{2}{\\left(t \\right)}\\right) x_{2}{\\left(t \\right)} + \\left(\\left(\\rho - x_{3}{\\left(t \\right)}\\right) x_{1}{\\left(t \\right)} - x_{2}{\\left(t \\right)}\\right) x_{1}{\\left(t \\right)}\\right)$"
      ],
      "text/plain": [
       "a2*(sigma*(rho - x3(t))*(-x1(t) + x2(t)) - (rho - x3(t))*x1(t) - (-beta*x3(t) + x1(t)*x2(t))*x1(t) + x2(t)) + a3*(-beta*(-beta*x3(t) + x1(t)*x2(t)) + sigma*(-x1(t) + x2(t))*x2(t) + ((rho - x3(t))*x1(t) - x2(t))*x1(t))"
      ]
     },
     "metadata": {},
     "output_type": "display_data"
    },
    {
     "data": {
      "text/latex": [
       "$\\displaystyle - a_{2} \\left(\\sigma \\left(\\rho - x_{3}{\\left(t \\right)}\\right) \\left(x_{1}{\\left(t \\right)} - x_{2}{\\left(t \\right)}\\right) + \\left(\\rho - x_{3}{\\left(t \\right)}\\right) x_{1}{\\left(t \\right)} - \\left(\\beta x_{3}{\\left(t \\right)} - x_{1}{\\left(t \\right)} x_{2}{\\left(t \\right)}\\right) x_{1}{\\left(t \\right)} - x_{2}{\\left(t \\right)}\\right) + a_{3} \\left(\\beta \\left(\\beta x_{3}{\\left(t \\right)} - x_{1}{\\left(t \\right)} x_{2}{\\left(t \\right)}\\right) - \\sigma \\left(x_{1}{\\left(t \\right)} - x_{2}{\\left(t \\right)}\\right) x_{2}{\\left(t \\right)} + \\left(\\left(\\rho - x_{3}{\\left(t \\right)}\\right) x_{1}{\\left(t \\right)} - x_{2}{\\left(t \\right)}\\right) x_{1}{\\left(t \\right)}\\right)$"
      ],
      "text/plain": [
       "-a2*(sigma*(rho - x3(t))*(x1(t) - x2(t)) + (rho - x3(t))*x1(t) - (beta*x3(t) - x1(t)*x2(t))*x1(t) - x2(t)) + a3*(beta*(beta*x3(t) - x1(t)*x2(t)) - sigma*(x1(t) - x2(t))*x2(t) + ((rho - x3(t))*x1(t) - x2(t))*x1(t))"
      ]
     },
     "execution_count": null,
     "metadata": {},
     "output_type": "execute_result"
    }
   ],
   "source": [
    "ddx1 = sigma * (-dx1 + dx2)\n",
    "ddx2 = (rho - x3) * dx1 - x1 * dx3 - dx2\n",
    "ddx3 = -beta * dx3 + x1 * dx2 + x2 * dx1\n",
    "display(ddx1)\n",
    "display(ddx2)\n",
    "display(ddx3)\n",
    "\n",
    "dz1 = a2 * ddx2 + a3 * ddx3\n",
    "display(dz1)\n",
    "simplify(dz1)"
   ]
  },
  {
   "attachments": {},
   "cell_type": "markdown",
   "metadata": {},
   "source": [
    "## Solve for the equations"
   ]
  },
  {
   "attachments": {},
   "cell_type": "markdown",
   "metadata": {},
   "source": [
    "##### z1 only"
   ]
  },
  {
   "cell_type": "code",
   "execution_count": null,
   "metadata": {},
   "outputs": [
    {
     "data": {
      "text/plain": [
       "[(a2*x2(t) + a3*beta*x3(t) + z1(t))/(a2*rho - a2*x3(t) + a3*x2(t))]"
      ]
     },
     "metadata": {},
     "output_type": "display_data"
    }
   ],
   "source": [
    "eq1 = a2 * dx2 + a3 * dx3 - z1\n",
    "x1_eq1 = solve(eq1, x1)\n",
    "display(x1_eq1)"
   ]
  },
  {
   "cell_type": "code",
   "execution_count": null,
   "metadata": {},
   "outputs": [],
   "source": [
    "\"\"\"\n",
    "x1_res = (a2*x2 + a3*beta*x3 + z1)/(a2*rho - a2*x3 + a3*x2)\n",
    "\"\"\";"
   ]
  },
  {
   "attachments": {},
   "cell_type": "markdown",
   "metadata": {},
   "source": [
    "##### z2 only"
   ]
  },
  {
   "cell_type": "code",
   "execution_count": null,
   "metadata": {},
   "outputs": [],
   "source": [
    "eq2 = b1 * (a2 * ddx2 + a3 * ddx3) + b2 * dx2 + b3 * dx3 - z2\n",
    "x1_eq2 = solve(eq2, x1)\n",
    "display(x1_eq2)"
   ]
  },
  {
   "cell_type": "code",
   "execution_count": null,
   "metadata": {},
   "outputs": [],
   "source": [
    "\"\"\"\n",
    "x1_res_1 = (a2*b1*beta*x3 - a2*b1*rho*sigma - a2*b1*rho + a2*b1*sigma*x3 + a2*b1*x3 - a3*b1*beta*x2 - a3*b1*sigma*x2 - a3*b1*x2 + b2*rho - b2*x3 + b3*x2 - np.sqrt(a2**2*b1**2*beta**2*x3**2 - 2*a2**2*b1**2*beta*rho*sigma*x3 - 2*a2**2*b1**2*beta*rho*x3 + 2*a2**2*b1**2*beta*sigma*x3**2 + 2*a2**2*b1**2*beta*x3**2 + a2**2*b1**2*rho**2*sigma**2 + 2*a2**2*b1**2*rho**2*sigma + a2**2*b1**2*rho**2 - 2*a2**2*b1**2*rho*sigma**2*x3 + 4*a2**2*b1**2*rho*sigma*x2**2 - 4*a2**2*b1**2*rho*sigma*x3 - 2*a2**2*b1**2*rho*x3 + a2**2*b1**2*sigma**2*x3**2 - 4*a2**2*b1**2*sigma*x2**2*x3 + 2*a2**2*b1**2*sigma*x3**2 + 4*a2**2*b1**2*x2**2 + a2**2*b1**2*x3**2 + 2*a2*a3*b1**2*beta**2*x2*x3 + 2*a2*a3*b1**2*beta*rho*sigma*x2 + 2*a2*a3*b1**2*beta*rho*x2 - 4*a2*a3*b1**2*beta*sigma*x2*x3 - 4*a2*a3*b1**2*beta*x2*x3 - 4*a2*a3*b1**2*rho**2*sigma*x2 + 2*a2*a3*b1**2*rho*sigma**2*x2 + 8*a2*a3*b1**2*rho*sigma*x2*x3 + 4*a2*a3*b1**2*rho*sigma*x2 - 2*a2*a3*b1**2*rho*x2 - 2*a2*a3*b1**2*sigma**2*x2*x3 + 4*a2*a3*b1**2*sigma*x2**3 - 4*a2*a3*b1**2*sigma*x2*x3**2 - 4*a2*a3*b1**2*sigma*x2*x3 + 2*a2*a3*b1**2*x2*x3 + 2*a2*b1*b2*beta*rho*x3 - 2*a2*b1*b2*beta*x3**2 - 2*a2*b1*b2*rho**2*sigma - 2*a2*b1*b2*rho**2 + 4*a2*b1*b2*rho*sigma*x3 + 4*a2*b1*b2*rho*x3 - 2*a2*b1*b2*sigma*x3**2 - 4*a2*b1*b2*x2**2 - 2*a2*b1*b2*x3**2 - 2*a2*b1*b3*beta*x2*x3 - 2*a2*b1*b3*rho*sigma*x2 - 2*a2*b1*b3*rho*x2 + 2*a2*b1*b3*sigma*x2*x3 + 2*a2*b1*b3*x2*x3 - 4*a2*b1*x2*z2 - 4*a3**2*b1**2*beta**2*rho*x3 + a3**2*b1**2*beta**2*x2**2 + 4*a3**2*b1**2*beta**2*x3**2 + 2*a3**2*b1**2*beta*sigma*x2**2 + 2*a3**2*b1**2*beta*x2**2 - 4*a3**2*b1**2*rho*sigma*x2**2 + a3**2*b1**2*sigma**2*x2**2 + 4*a3**2*b1**2*sigma*x2**2*x3 + 2*a3**2*b1**2*sigma*x2**2 + a3**2*b1**2*x2**2 - 2*a3*b1*b2*beta*rho*x2 + 2*a3*b1*b2*beta*x2*x3 - 2*a3*b1*b2*rho*sigma*x2 + 2*a3*b1*b2*rho*x2 + 2*a3*b1*b2*sigma*x2*x3 - 2*a3*b1*b2*x2*x3 + 4*a3*b1*b3*beta*rho*x3 - 2*a3*b1*b3*beta*x2**2 - 4*a3*b1*b3*beta*x3**2 - 2*a3*b1*b3*sigma*x2**2 - 2*a3*b1*b3*x2**2 + 4*a3*b1*rho*z2 - 4*a3*b1*x3*z2 + b2**2*rho**2 - 2*b2**2*rho*x3 + b2**2*x3**2 + 2*b2*b3*rho*x2 - 2*b2*b3*x2*x3 + b3**2*x2**2))/(2*b1*(a2*x2 - a3*rho + a3*x3))\n",
    "x1_res_2 = (a2*b1*beta*x3 - a2*b1*rho*sigma - a2*b1*rho + a2*b1*sigma*x3 + a2*b1*x3 - a3*b1*beta*x2 - a3*b1*sigma*x2 - a3*b1*x2 + b2*rho - b2*x3 + b3*x2 + np.sqrt(a2**2*b1**2*beta**2*x3**2 - 2*a2**2*b1**2*beta*rho*sigma*x3 - 2*a2**2*b1**2*beta*rho*x3 + 2*a2**2*b1**2*beta*sigma*x3**2 + 2*a2**2*b1**2*beta*x3**2 + a2**2*b1**2*rho**2*sigma**2 + 2*a2**2*b1**2*rho**2*sigma + a2**2*b1**2*rho**2 - 2*a2**2*b1**2*rho*sigma**2*x3 + 4*a2**2*b1**2*rho*sigma*x2**2 - 4*a2**2*b1**2*rho*sigma*x3 - 2*a2**2*b1**2*rho*x3 + a2**2*b1**2*sigma**2*x3**2 - 4*a2**2*b1**2*sigma*x2**2*x3 + 2*a2**2*b1**2*sigma*x3**2 + 4*a2**2*b1**2*x2**2 + a2**2*b1**2*x3**2 + 2*a2*a3*b1**2*beta**2*x2*x3 + 2*a2*a3*b1**2*beta*rho*sigma*x2 + 2*a2*a3*b1**2*beta*rho*x2 - 4*a2*a3*b1**2*beta*sigma*x2*x3 - 4*a2*a3*b1**2*beta*x2*x3 - 4*a2*a3*b1**2*rho**2*sigma*x2 + 2*a2*a3*b1**2*rho*sigma**2*x2 + 8*a2*a3*b1**2*rho*sigma*x2*x3 + 4*a2*a3*b1**2*rho*sigma*x2 - 2*a2*a3*b1**2*rho*x2 - 2*a2*a3*b1**2*sigma**2*x2*x3 + 4*a2*a3*b1**2*sigma*x2**3 - 4*a2*a3*b1**2*sigma*x2*x3**2 - 4*a2*a3*b1**2*sigma*x2*x3 + 2*a2*a3*b1**2*x2*x3 + 2*a2*b1*b2*beta*rho*x3 - 2*a2*b1*b2*beta*x3**2 - 2*a2*b1*b2*rho**2*sigma - 2*a2*b1*b2*rho**2 + 4*a2*b1*b2*rho*sigma*x3 + 4*a2*b1*b2*rho*x3 - 2*a2*b1*b2*sigma*x3**2 - 4*a2*b1*b2*x2**2 - 2*a2*b1*b2*x3**2 - 2*a2*b1*b3*beta*x2*x3 - 2*a2*b1*b3*rho*sigma*x2 - 2*a2*b1*b3*rho*x2 + 2*a2*b1*b3*sigma*x2*x3 + 2*a2*b1*b3*x2*x3 - 4*a2*b1*x2*z2 - 4*a3**2*b1**2*beta**2*rho*x3 + a3**2*b1**2*beta**2*x2**2 + 4*a3**2*b1**2*beta**2*x3**2 + 2*a3**2*b1**2*beta*sigma*x2**2 + 2*a3**2*b1**2*beta*x2**2 - 4*a3**2*b1**2*rho*sigma*x2**2 + a3**2*b1**2*sigma**2*x2**2 + 4*a3**2*b1**2*sigma*x2**2*x3 + 2*a3**2*b1**2*sigma*x2**2 + a3**2*b1**2*x2**2 - 2*a3*b1*b2*beta*rho*x2 + 2*a3*b1*b2*beta*x2*x3 - 2*a3*b1*b2*rho*sigma*x2 + 2*a3*b1*b2*rho*x2 + 2*a3*b1*b2*sigma*x2*x3 - 2*a3*b1*b2*x2*x3 + 4*a3*b1*b3*beta*rho*x3 - 2*a3*b1*b3*beta*x2**2 - 4*a3*b1*b3*beta*x3**2 - 2*a3*b1*b3*sigma*x2**2 - 2*a3*b1*b3*x2**2 + 4*a3*b1*rho*z2 - 4*a3*b1*x3*z2 + b2**2*rho**2 - 2*b2**2*rho*x3 + b2**2*x3**2 + 2*b2*b3*rho*x2 - 2*b2*b3*x2*x3 + b3**2*x2**2))/(2*b1*(a2*x2 - a3*rho + a3*x3))\n",
    "\"\"\";"
   ]
  },
  {
   "cell_type": "code",
   "execution_count": null,
   "metadata": {},
   "outputs": [],
   "source": [
    "eq3 = eq1 + eq2\n",
    "x1_eq3 = solve(eq3, x1)\n",
    "x1_eq3"
   ]
  },
  {
   "cell_type": "code",
   "execution_count": null,
   "metadata": {},
   "outputs": [],
   "source": [
    "\"\"\"\n",
    "x1_1 = [\n",
    "    (\n",
    "        a2 * b1 * beta * sigma\n",
    "        + a2 * b1 * beta * x2\n",
    "        - a2 * b1 * rho\n",
    "        - a2 * b1 * sigma * x3\n",
    "        + a2 * b1 * x3\n",
    "        + a2 * rho\n",
    "        - a2 * x3\n",
    "        - a3 * b1 * beta * rho\n",
    "        + a3 * b1 * beta * x3\n",
    "        + a3 * b1 * sigma * x2\n",
    "        + a3 * b1 * x2\n",
    "        + a3 * x2\n",
    "        + b2 * rho\n",
    "        - b2 * x3\n",
    "        + b3 * x2\n",
    "        - np.sqrt(\n",
    "            a2**2 * b1**2 * beta**2 * sigma**2\n",
    "            + 2 * a2**2 * b1**2 * beta**2 * sigma * x2\n",
    "            + a2**2 * b1**2 * beta**2 * x2 ** 2\n",
    "            - 2 * a2**2 * b1**2 * beta * rho * sigma\n",
    "            - 2 * a2**2 * b1**2 * beta * rho * x2\n",
    "            - 2 * a2**2 * b1**2 * beta * sigma**2 * x3\n",
    "            - 4 * a2**2 * b1**2 * beta * sigma * x2 ** 2\n",
    "            - 2 * a2**2 * b1**2 * beta * sigma * x2 * x3\n",
    "            + 2 * a2**2 * b1**2 * beta * sigma * x3\n",
    "            + 2 * a2**2 * b1**2 * beta * x2 * x3\n",
    "            + a2**2 * b1**2 * rho**2\n",
    "            + 2 * a2**2 * b1**2 * rho * sigma * x3\n",
    "            - 2 * a2**2 * b1**2 * rho * x3\n",
    "            + a2**2 * b1**2 * sigma**2 * x3 ** 2\n",
    "            + 4 * a2**2 * b1**2 * sigma * x2 ** 2 * x3\n",
    "            - 2 * a2**2 * b1**2 * sigma * x3 ** 2\n",
    "            + 4 * a2**2 * b1**2 * x2 ** 2\n",
    "            + a2**2 * b1**2 * x3 ** 2\n",
    "            + 2 * a2**2 * b1 * beta * rho * sigma\n",
    "            + 2 * a2**2 * b1 * beta * rho * x2\n",
    "            - 2 * a2**2 * b1 * beta * sigma * x3\n",
    "            - 2 * a2**2 * b1 * beta * x2 * x3\n",
    "            - 2 * a2**2 * b1 * rho**2\n",
    "            - 2 * a2**2 * b1 * rho * sigma * x3\n",
    "            + 4 * a2**2 * b1 * rho * x3\n",
    "            + 2 * a2**2 * b1 * sigma * x3 ** 2\n",
    "            - 4 * a2**2 * b1 * x2 ** 2\n",
    "            - 2 * a2**2 * b1 * x3 ** 2\n",
    "            + a2**2 * rho**2\n",
    "            - 2 * a2**2 * rho * x3\n",
    "            + a2**2 * x3 ** 2\n",
    "            - 2 * a2 * a3 * b1**2 * beta**2 * rho * sigma\n",
    "            - 2 * a2 * a3 * b1**2 * beta**2 * rho * x2\n",
    "            + 2 * a2 * a3 * b1**2 * beta**2 * sigma * x3\n",
    "            + 2 * a2 * a3 * b1**2 * beta**2 * x2 * x3\n",
    "            + 2 * a2 * a3 * b1**2 * beta * rho**2\n",
    "            - 4 * a2 * a3 * b1**2 * beta * rho * sigma * x2\n",
    "            + 2 * a2 * a3 * b1**2 * beta * rho * sigma * x3\n",
    "            - 4 * a2 * a3 * b1**2 * beta * rho * x3\n",
    "            + 2 * a2 * a3 * b1**2 * beta * sigma**2 * x2\n",
    "            + 2 * a2 * a3 * b1**2 * beta * sigma * x2 ** 2\n",
    "            + 4 * a2 * a3 * b1**2 * beta * sigma * x2 * x3\n",
    "            + 2 * a2 * a3 * b1**2 * beta * sigma * x2\n",
    "            - 2 * a2 * a3 * b1**2 * beta * sigma * x3 ** 2\n",
    "            + 6 * a2 * a3 * b1**2 * beta * x2 ** 2\n",
    "            + 2 * a2 * a3 * b1**2 * beta * x3 ** 2\n",
    "            + 4 * a2 * a3 * b1**2 * rho * sigma * x2 * x3\n",
    "            - 2 * a2 * a3 * b1**2 * rho * sigma * x2\n",
    "            + 2 * a2 * a3 * b1**2 * rho * x2\n",
    "            - 2 * a2 * a3 * b1**2 * sigma**2 * x2 * x3\n",
    "            - 4 * a2 * a3 * b1**2 * sigma * x2 ** 3\n",
    "            - 4 * a2 * a3 * b1**2 * sigma * x2 * x3 ** 2\n",
    "            - 2 * a2 * a3 * b1**2 * x2 * x3\n",
    "            - 2 * a2 * a3 * b1 * beta * rho**2\n",
    "            + 4 * a2 * a3 * b1 * beta * rho * x3\n",
    "            + 2 * a2 * a3 * b1 * beta * sigma * x2\n",
    "            - 2 * a2 * a3 * b1 * beta * x2 ** 2\n",
    "            - 2 * a2 * a3 * b1 * beta * x3 ** 2\n",
    "            + 2 * a2 * a3 * b1 * rho * sigma * x2\n",
    "            - 4 * a2 * a3 * b1 * rho * x2\n",
    "            - 4 * a2 * a3 * b1 * sigma * x2 * x3\n",
    "            + 4 * a2 * a3 * b1 * x2 * x3\n",
    "            + 2 * a2 * a3 * rho * x2\n",
    "            - 2 * a2 * a3 * x2 * x3\n",
    "            + 2 * a2 * b1 * b2 * beta * rho * sigma\n",
    "            + 2 * a2 * b1 * b2 * beta * rho * x2\n",
    "            - 2 * a2 * b1 * b2 * beta * sigma * x3\n",
    "            - 2 * a2 * b1 * b2 * beta * x2 * x3\n",
    "            - 2 * a2 * b1 * b2 * rho**2\n",
    "            - 2 * a2 * b1 * b2 * rho * sigma * x3\n",
    "            + 4 * a2 * b1 * b2 * rho * x3\n",
    "            + 2 * a2 * b1 * b2 * sigma * x3 ** 2\n",
    "            - 4 * a2 * b1 * b2 * x2 ** 2\n",
    "            - 2 * a2 * b1 * b2 * x3 ** 2\n",
    "            + 2 * a2 * b1 * b3 * beta * sigma * x2\n",
    "            - 2 * a2 * b1 * b3 * beta * x2 ** 2\n",
    "            - 2 * a2 * b1 * b3 * rho * x2\n",
    "            - 2 * a2 * b1 * b3 * sigma * x2 * x3\n",
    "            + 2 * a2 * b1 * b3 * x2 * x3\n",
    "            - 4 * a2 * b1 * x2 * z1\n",
    "            - 4 * a2 * b1 * x2 * z2\n",
    "            + 2 * a2 * b2 * rho**2\n",
    "            - 4 * a2 * b2 * rho * x3\n",
    "            + 2 * a2 * b2 * x3 ** 2\n",
    "            + 2 * a2 * b3 * rho * x2\n",
    "            - 2 * a2 * b3 * x2 * x3\n",
    "            + a3**2 * b1**2 * beta**2 * rho**2\n",
    "            - 2 * a3**2 * b1**2 * beta**2 * rho * x3\n",
    "            + a3**2 * b1**2 * beta**2 * x3 ** 2\n",
    "            - 2 * a3**2 * b1**2 * beta * rho * sigma * x2\n",
    "            + 2 * a3**2 * b1**2 * beta * rho * x2\n",
    "            + 2 * a3**2 * b1**2 * beta * sigma * x2 * x3\n",
    "            - 2 * a3**2 * b1**2 * beta * x2 * x3\n",
    "            - 4 * a3**2 * b1**2 * rho * sigma * x2 ** 2\n",
    "            + a3**2 * b1**2 * sigma**2 * x2 ** 2\n",
    "            + 4 * a3**2 * b1**2 * sigma * x2 ** 2 * x3\n",
    "            + 2 * a3**2 * b1**2 * sigma * x2 ** 2\n",
    "            + a3**2 * b1**2 * x2 ** 2\n",
    "            - 6 * a3**2 * b1 * beta * rho * x2\n",
    "            + 6 * a3**2 * b1 * beta * x2 * x3\n",
    "            + 2 * a3**2 * b1 * sigma * x2 ** 2\n",
    "            + 2 * a3**2 * b1 * x2 ** 2\n",
    "            + a3**2 * x2 ** 2\n",
    "            - 2 * a3 * b1 * b2 * beta * rho**2\n",
    "            + 4 * a3 * b1 * b2 * beta * rho * x3\n",
    "            - 2 * a3 * b1 * b2 * beta * x3 ** 2\n",
    "            + 2 * a3 * b1 * b2 * rho * sigma * x2\n",
    "            - 2 * a3 * b1 * b2 * rho * x2\n",
    "            - 2 * a3 * b1 * b2 * sigma * x2 * x3\n",
    "            + 2 * a3 * b1 * b2 * x2 * x3\n",
    "            - 6 * a3 * b1 * b3 * beta * rho * x2\n",
    "            + 6 * a3 * b1 * b3 * beta * x2 * x3\n",
    "            + 2 * a3 * b1 * b3 * sigma * x2 ** 2\n",
    "            + 2 * a3 * b1 * b3 * x2 ** 2\n",
    "            - 4 * a3 * b1 * rho * z1\n",
    "            - 4 * a3 * b1 * rho * z2\n",
    "            + 4 * a3 * b1 * x3 * z1\n",
    "            + 4 * a3 * b1 * x3 * z2\n",
    "            + 2 * a3 * b2 * rho * x2\n",
    "            - 2 * a3 * b2 * x2 * x3\n",
    "            + 2 * a3 * b3 * x2 ** 2\n",
    "            + b2**2 * rho**2\n",
    "            - 2 * b2**2 * rho * x3\n",
    "            + b2**2 * x3 ** 2\n",
    "            + 2 * b2 * b3 * rho * x2\n",
    "            - 2 * b2 * b3 * x2 * x3\n",
    "            + b3**2 * x2 ** 2\n",
    "        )\n",
    "    )\n",
    "    / (2 * b1 * (a2 * x2 + a3 * rho - a3 * x3))\n",
    "]\n",
    "x1_2 = [\n",
    "    (\n",
    "        a2 * b1 * beta * sigma\n",
    "        + a2 * b1 * beta * x2\n",
    "        - a2 * b1 * rho\n",
    "        - a2 * b1 * sigma * x3\n",
    "        + a2 * b1 * x3\n",
    "        + a2 * rho\n",
    "        - a2 * x3\n",
    "        - a3 * b1 * beta * rho\n",
    "        + a3 * b1 * beta * x3\n",
    "        + a3 * b1 * sigma * x2\n",
    "        + a3 * b1 * x2\n",
    "        + a3 * x2\n",
    "        + b2 * rho\n",
    "        - b2 * x3\n",
    "        + b3 * x2\n",
    "        + np.sqrt(\n",
    "            a2**2 * b1**2 * beta**2 * sigma**2\n",
    "            + 2 * a2**2 * b1**2 * beta**2 * sigma * x2\n",
    "            + a2**2 * b1**2 * beta**2 * x2 ** 2\n",
    "            - 2 * a2**2 * b1**2 * beta * rho * sigma\n",
    "            - 2 * a2**2 * b1**2 * beta * rho * x2\n",
    "            - 2 * a2**2 * b1**2 * beta * sigma**2 * x3\n",
    "            - 4 * a2**2 * b1**2 * beta * sigma * x2 ** 2\n",
    "            - 2 * a2**2 * b1**2 * beta * sigma * x2 * x3\n",
    "            + 2 * a2**2 * b1**2 * beta * sigma * x3\n",
    "            + 2 * a2**2 * b1**2 * beta * x2 * x3\n",
    "            + a2**2 * b1**2 * rho**2\n",
    "            + 2 * a2**2 * b1**2 * rho * sigma * x3\n",
    "            - 2 * a2**2 * b1**2 * rho * x3\n",
    "            + a2**2 * b1**2 * sigma**2 * x3 ** 2\n",
    "            + 4 * a2**2 * b1**2 * sigma * x2 ** 2 * x3\n",
    "            - 2 * a2**2 * b1**2 * sigma * x3 ** 2\n",
    "            + 4 * a2**2 * b1**2 * x2 ** 2\n",
    "            + a2**2 * b1**2 * x3 ** 2\n",
    "            + 2 * a2**2 * b1 * beta * rho * sigma\n",
    "            + 2 * a2**2 * b1 * beta * rho * x2\n",
    "            - 2 * a2**2 * b1 * beta * sigma * x3\n",
    "            - 2 * a2**2 * b1 * beta * x2 * x3\n",
    "            - 2 * a2**2 * b1 * rho**2\n",
    "            - 2 * a2**2 * b1 * rho * sigma * x3\n",
    "            + 4 * a2**2 * b1 * rho * x3\n",
    "            + 2 * a2**2 * b1 * sigma * x3 ** 2\n",
    "            - 4 * a2**2 * b1 * x2 ** 2\n",
    "            - 2 * a2**2 * b1 * x3 ** 2\n",
    "            + a2**2 * rho**2\n",
    "            - 2 * a2**2 * rho * x3\n",
    "            + a2**2 * x3 ** 2\n",
    "            - 2 * a2 * a3 * b1**2 * beta**2 * rho * sigma\n",
    "            - 2 * a2 * a3 * b1**2 * beta**2 * rho * x2\n",
    "            + 2 * a2 * a3 * b1**2 * beta**2 * sigma * x3\n",
    "            + 2 * a2 * a3 * b1**2 * beta**2 * x2 * x3\n",
    "            + 2 * a2 * a3 * b1**2 * beta * rho**2\n",
    "            - 4 * a2 * a3 * b1**2 * beta * rho * sigma * x2\n",
    "            + 2 * a2 * a3 * b1**2 * beta * rho * sigma * x3\n",
    "            - 4 * a2 * a3 * b1**2 * beta * rho * x3\n",
    "            + 2 * a2 * a3 * b1**2 * beta * sigma**2 * x2\n",
    "            + 2 * a2 * a3 * b1**2 * beta * sigma * x2 ** 2\n",
    "            + 4 * a2 * a3 * b1**2 * beta * sigma * x2 * x3\n",
    "            + 2 * a2 * a3 * b1**2 * beta * sigma * x2\n",
    "            - 2 * a2 * a3 * b1**2 * beta * sigma * x3 ** 2\n",
    "            + 6 * a2 * a3 * b1**2 * beta * x2 ** 2\n",
    "            + 2 * a2 * a3 * b1**2 * beta * x3 ** 2\n",
    "            + 4 * a2 * a3 * b1**2 * rho * sigma * x2 * x3\n",
    "            - 2 * a2 * a3 * b1**2 * rho * sigma * x2\n",
    "            + 2 * a2 * a3 * b1**2 * rho * x2\n",
    "            - 2 * a2 * a3 * b1**2 * sigma**2 * x2 * x3\n",
    "            - 4 * a2 * a3 * b1**2 * sigma * x2 ** 3\n",
    "            - 4 * a2 * a3 * b1**2 * sigma * x2 * x3 ** 2\n",
    "            - 2 * a2 * a3 * b1**2 * x2 * x3\n",
    "            - 2 * a2 * a3 * b1 * beta * rho**2\n",
    "            + 4 * a2 * a3 * b1 * beta * rho * x3\n",
    "            + 2 * a2 * a3 * b1 * beta * sigma * x2\n",
    "            - 2 * a2 * a3 * b1 * beta * x2 ** 2\n",
    "            - 2 * a2 * a3 * b1 * beta * x3 ** 2\n",
    "            + 2 * a2 * a3 * b1 * rho * sigma * x2\n",
    "            - 4 * a2 * a3 * b1 * rho * x2\n",
    "            - 4 * a2 * a3 * b1 * sigma * x2 * x3\n",
    "            + 4 * a2 * a3 * b1 * x2 * x3\n",
    "            + 2 * a2 * a3 * rho * x2\n",
    "            - 2 * a2 * a3 * x2 * x3\n",
    "            + 2 * a2 * b1 * b2 * beta * rho * sigma\n",
    "            + 2 * a2 * b1 * b2 * beta * rho * x2\n",
    "            - 2 * a2 * b1 * b2 * beta * sigma * x3\n",
    "            - 2 * a2 * b1 * b2 * beta * x2 * x3\n",
    "            - 2 * a2 * b1 * b2 * rho**2\n",
    "            - 2 * a2 * b1 * b2 * rho * sigma * x3\n",
    "            + 4 * a2 * b1 * b2 * rho * x3\n",
    "            + 2 * a2 * b1 * b2 * sigma * x3 ** 2\n",
    "            - 4 * a2 * b1 * b2 * x2 ** 2\n",
    "            - 2 * a2 * b1 * b2 * x3 ** 2\n",
    "            + 2 * a2 * b1 * b3 * beta * sigma * x2\n",
    "            - 2 * a2 * b1 * b3 * beta * x2 ** 2\n",
    "            - 2 * a2 * b1 * b3 * rho * x2\n",
    "            - 2 * a2 * b1 * b3 * sigma * x2 * x3\n",
    "            + 2 * a2 * b1 * b3 * x2 * x3\n",
    "            - 4 * a2 * b1 * x2 * z1\n",
    "            - 4 * a2 * b1 * x2 * z2\n",
    "            + 2 * a2 * b2 * rho**2\n",
    "            - 4 * a2 * b2 * rho * x3\n",
    "            + 2 * a2 * b2 * x3 ** 2\n",
    "            + 2 * a2 * b3 * rho * x2\n",
    "            - 2 * a2 * b3 * x2 * x3\n",
    "            + a3**2 * b1**2 * beta**2 * rho**2\n",
    "            - 2 * a3**2 * b1**2 * beta**2 * rho * x3\n",
    "            + a3**2 * b1**2 * beta**2 * x3 ** 2\n",
    "            - 2 * a3**2 * b1**2 * beta * rho * sigma * x2\n",
    "            + 2 * a3**2 * b1**2 * beta * rho * x2\n",
    "            + 2 * a3**2 * b1**2 * beta * sigma * x2 * x3\n",
    "            - 2 * a3**2 * b1**2 * beta * x2 * x3\n",
    "            - 4 * a3**2 * b1**2 * rho * sigma * x2 ** 2\n",
    "            + a3**2 * b1**2 * sigma**2 * x2 ** 2\n",
    "            + 4 * a3**2 * b1**2 * sigma * x2 ** 2 * x3\n",
    "            + 2 * a3**2 * b1**2 * sigma * x2 ** 2\n",
    "            + a3**2 * b1**2 * x2 ** 2\n",
    "            - 6 * a3**2 * b1 * beta * rho * x2\n",
    "            + 6 * a3**2 * b1 * beta * x2 * x3\n",
    "            + 2 * a3**2 * b1 * sigma * x2 ** 2\n",
    "            + 2 * a3**2 * b1 * x2 ** 2\n",
    "            + a3**2 * x2 ** 2\n",
    "            - 2 * a3 * b1 * b2 * beta * rho**2\n",
    "            + 4 * a3 * b1 * b2 * beta * rho * x3\n",
    "            - 2 * a3 * b1 * b2 * beta * x3 ** 2\n",
    "            + 2 * a3 * b1 * b2 * rho * sigma * x2\n",
    "            - 2 * a3 * b1 * b2 * rho * x2\n",
    "            - 2 * a3 * b1 * b2 * sigma * x2 * x3\n",
    "            + 2 * a3 * b1 * b2 * x2 * x3\n",
    "            - 6 * a3 * b1 * b3 * beta * rho * x2\n",
    "            + 6 * a3 * b1 * b3 * beta * x2 * x3\n",
    "            + 2 * a3 * b1 * b3 * sigma * x2 ** 2\n",
    "            + 2 * a3 * b1 * b3 * x2 ** 2\n",
    "            - 4 * a3 * b1 * rho * z1\n",
    "            - 4 * a3 * b1 * rho * z2\n",
    "            + 4 * a3 * b1 * x3 * z1\n",
    "            + 4 * a3 * b1 * x3 * z2\n",
    "            + 2 * a3 * b2 * rho * x2\n",
    "            - 2 * a3 * b2 * x2 * x3\n",
    "            + 2 * a3 * b3 * x2 ** 2\n",
    "            + b2**2 * rho**2\n",
    "            - 2 * b2**2 * rho * x3\n",
    "            + b2**2 * x3 ** 2\n",
    "            + 2 * b2 * b3 * rho * x2\n",
    "            - 2 * b2 * b3 * x2 * x3\n",
    "            + b3**2 * x2 ** 2\n",
    "        )\n",
    "    )\n",
    "    / (2 * b1 * (a2 * x2 + a3 * rho - a3 * x3))\n",
    "]\n",
    "\"\"\";"
   ]
  },
  {
   "attachments": {},
   "cell_type": "markdown",
   "metadata": {},
   "source": [
    "#### Plugging in x1 reconstructed from z1 into eq. 2 should yield a new equation which sets the connection between z1 and z2, that needs to be fullfield."
   ]
  },
  {
   "cell_type": "code",
   "execution_count": null,
   "metadata": {},
   "outputs": [],
   "source": [
    "eq1_restored = eq1\n",
    "eq1_restored_1 = eq1_restored.subs(x1, x1_eq2[0])\n",
    "eq1_restored_2 = eq1_restored.subs(x1, x1_eq2[1])\n",
    "eq2_restored = eq2\n",
    "eq2_restored = eq2_restored.subs(x1, x1_eq1[0])\n",
    "\n",
    "eq_all = eq2_restored - (eq1_restored_1 - eq1_restored_2)"
   ]
  },
  {
   "cell_type": "code",
   "execution_count": null,
   "metadata": {},
   "outputs": [
    {
     "data": {
      "text/latex": [
       "$\\displaystyle - 3429.78964369537 \\sqrt{3.40036096531828 \\cdot 10^{-7} z_{1}^{2}{\\left(t \\right)} - 0.00105785229631052 z_{1}{\\left(t \\right)} + 1} - 0.00138504155124654 z_{1}^{2}{\\left(t \\right)} + 4.30886426592798 z_{1}{\\left(t \\right)} + 29.9058171745202$"
      ],
      "text/plain": [
       "-3429.78964369537*sqrt(3.40036096531828e-7*z1(t)**2 - 0.00105785229631052*z1(t) + 1) - 0.00138504155124654*z1(t)**2 + 4.30886426592798*z1(t) + 29.9058171745202"
      ]
     },
     "metadata": {},
     "output_type": "display_data"
    },
    {
     "data": {
      "text/latex": [
       "$\\displaystyle 3429.78964369537 \\sqrt{3.40036096531828 \\cdot 10^{-7} z_{1}^{2}{\\left(t \\right)} - 0.00105785229631052 z_{1}{\\left(t \\right)} + 1} - 0.00138504155124654 z_{1}^{2}{\\left(t \\right)} + 4.30886426592798 z_{1}{\\left(t \\right)} + 29.9058171745202$"
      ],
      "text/plain": [
       "3429.78964369537*sqrt(3.40036096531828e-7*z1(t)**2 - 0.00105785229631052*z1(t) + 1) - 0.00138504155124654*z1(t)**2 + 4.30886426592798*z1(t) + 29.9058171745202"
      ]
     },
     "metadata": {},
     "output_type": "display_data"
    }
   ],
   "source": [
    "eq_all = eq_all.subs(\n",
    "    [\n",
    "        [sigma, 10],\n",
    "        [rho, 28],\n",
    "        [beta, 8],\n",
    "        [x2, 20],\n",
    "        [x3, 10],\n",
    "        [a2, 0.5],\n",
    "        [a3, 0.5],\n",
    "        [b1, 0.5],\n",
    "        [b2, 0.5],\n",
    "        [b3, 0.5],\n",
    "    ]\n",
    ")\n",
    "\n",
    "solved_z2 = solve(eq_all, z2)\n",
    "display(solved_z2[0])\n",
    "display(solved_z2[1])"
   ]
  }
 ],
 "metadata": {
  "kernelspec": {
   "display_name": "symbolic_math",
   "language": "python",
   "name": "python3"
  },
  "language_info": {
   "codemirror_mode": {
    "name": "ipython",
    "version": 3
   },
   "file_extension": ".py",
   "mimetype": "text/x-python",
   "name": "python",
   "nbconvert_exporter": "python",
   "pygments_lexer": "ipython3",
   "version": "3.11.3"
  }
 },
 "nbformat": 4,
 "nbformat_minor": 2
}
