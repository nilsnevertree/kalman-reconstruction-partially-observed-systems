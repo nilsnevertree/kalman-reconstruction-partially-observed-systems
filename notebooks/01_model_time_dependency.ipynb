{
 "cells": [
  {
   "cell_type": "code",
   "execution_count": null,
   "metadata": {},
   "outputs": [],
   "source": [
    "# %load_ext autoreload\n",
    "# %autoreload 2\n",
    "import kalman_reconstruction\n",
    "from kalman_reconstruction.kalman import (\n",
    "    Kalman_SEM,\n",
    "    Kalman_filter,\n",
    "    Kalman_smoother,\n",
    "    )\n",
    "from kalman_reconstruction.statistics import (\n",
    "    gaussian_weights\n",
    "    )\n",
    "\n",
    "from scipy.integrate import odeint\n",
    "from sklearn.linear_model import LinearRegression\n",
    "import numpy as np\n",
    "import scipy as sp\n",
    "import random\n",
    "import importlib\n",
    "from tqdm import tqdm\n",
    "\n",
    "import matplotlib.pyplot as plt\n",
    "plt.rcParams['figure.figsize'] = (10, 5)\n",
    "# Set default matplotlib style\n",
    "MEDIUM_SIZE = 12\n",
    "BIGGER_SIZE = 15\n",
    "plt.style.use('seaborn-v0_8-whitegrid')\n",
    "# plt.style.use('dark_background')\n",
    "\n",
    "plt.rcParams['figure.figsize'] = (10.0, 6.0)\n",
    "plt.rc('font', size=MEDIUM_SIZE)          # controls default text sizes\n",
    "plt.rc('axes', titlesize=BIGGER_SIZE)     # fontsize of the axes title\n",
    "plt.rc('axes', labelsize=MEDIUM_SIZE)    # fontsize of the x and y labels\n",
    "plt.rc('xtick', labelsize=MEDIUM_SIZE)    # fontsize of the tick labels\n",
    "plt.rc('ytick', labelsize=MEDIUM_SIZE)    # fontsize of the tick labels\n",
    "plt.rc('legend', fontsize=MEDIUM_SIZE)    # legend fontsize\n",
    "plt.rc('figure', titlesize=BIGGER_SIZE)  # fontsize of the figure title\n",
    "plt.rc('legend', loc='upper right')\n",
    "# use colorblind save colors https://davidmathlogic.com/colorblind\n",
    "colors = [\n",
    "    '#CC6677',\n",
    "    '#44AA99',\n",
    "    '#DDCC77',\n",
    "    '#6E9CB3',\n",
    "    '#AA4499',\n",
    "    '#A494F5',\n",
    "]\n",
    "plt.rcParams['axes.prop_cycle'] = plt.cycler(color=colors) \n"
   ]
  },
  {
   "cell_type": "code",
   "execution_count": null,
   "metadata": {},
   "outputs": [],
   "source": [
    "\n",
    "def Kalman_SEM_timedependent(x, y, H, R, nb_iter_SEM, alpha = 0.2):  # , x_t, t):\n",
    "    \"\"\"Apply the stochastic expectation-maximization algorithm.\"\"\"\n",
    "\n",
    "    # fix the seed\n",
    "    np.random.seed(11)\n",
    "\n",
    "    # copy x\n",
    "    x_out = x.copy()\n",
    "\n",
    "    # shapes\n",
    "    dim0_length = np.shape(x_out)[0]\n",
    "    n = np.shape(x_out)[1]\n",
    "\n",
    "    # tab to store the np.log-likelihood\n",
    "    tab_loglik = []\n",
    "    M = np.empty((dim0_length, n, n))\n",
    "\n",
    "    # loop on the SEM iterations\n",
    "    for i in tqdm(np.arange(0, nb_iter_SEM)):\n",
    "        for x_idx in tqdm(range(0, dim0_length)) :\n",
    "            # get the sample weights \n",
    "            sample_weight = gaussian_weights(x_out[:-1,], x_out[x_idx,], axis = 1)\n",
    "            # Kalman parameters\n",
    "            reg = LinearRegression(fit_intercept=False).fit(x_out[:-1,], x_out[1:,], sample_weight=sample_weight)\n",
    "            M[x_idx,] = reg.coef_\n",
    "            Q = np.cov((x_out[1:,] - reg.predict(x_out[:-1,])).T)\n",
    "            # R   = np.cov(y.T - H @ x.T)\n",
    "\n",
    "        # Kalman initialization\n",
    "        if i == 0:\n",
    "            x0 = np.empty(n)\n",
    "            P0 = np.eye(n)\n",
    "        else:\n",
    "            x0 = x_s[0, :]\n",
    "            P0 = P_s[\n",
    "                0,\n",
    "                :,\n",
    "                :,\n",
    "            ]\n",
    "\n",
    "        # # apply the Kalman smoother\n",
    "        # x_f, P_f, x_a, P_a, x_s, P_s, loglik, P_s_lag = Kalman_smoother(\n",
    "        #     y, x0, P0, M, Q, H, R\n",
    "        # )\n",
    "\n",
    "        # # store the np.log-likelihod\n",
    "        # tab_loglik = np.append(tab_loglik, sum(loglik))\n",
    "\n",
    "        # # simulate the new x\n",
    "        # for k in range(len(x_s)):\n",
    "        #     x_out[k, :] = np.random.multivariate_normal(x_s[k, :], P_s[k, :, :])\n",
    "\n",
    "    return x_s, P_s, M, tab_loglik, x_out, x_f, Q\n"
   ]
  },
  {
   "cell_type": "code",
   "execution_count": null,
   "metadata": {},
   "outputs": [],
   "source": [
    "# generate a and b\n",
    "np.random.seed(0) # setting seed for reproducability\n",
    "amount = 100 # number of sample\n",
    "components = 2\n",
    "length = 2*np.pi\n",
    "\n",
    "coords_x = np.linspace(0, length, amount)\n",
    "coords_y = np.arange(components)\n",
    "\n",
    "x_test = np.zeros((amount, components)) + coords_x[:,np.newaxis]\n",
    "y_test = np.sin(x_test) + np.random.normal(0, 0.25, size=np.shape(x_test))\n",
    "\n",
    "x_0_test = (1 + coords_y) * 2\n",
    "weights = gaussian_weights(x_test, x_0_test, axis = 1, alpha = 0.3)\n",
    "fig, axs = plt.subplots(nrows =3)\n",
    "axs = axs.flatten()\n",
    "axs[0].pcolor(coords_x, coords_y, y_test.T, cmap = 'RdBu_r', vmin = -1, vmax = 1)\n",
    "axs[1].pcolor(coords_x, coords_y, weights.T, cmap = \"Reds\")\n",
    "axs[2].pcolor(coords_x, coords_y, (y_test * weights).T, cmap = \"RdBu_r\", vmin = -0.1, vmax = 0.1)\n",
    "plt.plot(x_0_test, coords_y, 'X', color='w', label = 'Center of Gausian')\n",
    "for ax in axs:\n",
    "    ax.set_ylabel('component index')\n",
    "    ax.set_xlabel('time')\n",
    "\n",
    "fig.suptitle(\"2D linear regression problem\\nusing 2D weights\")\n",
    "fig.tight_layout()\n",
    "fig.savefig('2D-linear-regression-problem.png')"
   ]
  },
  {
   "cell_type": "code",
   "execution_count": null,
   "metadata": {},
   "outputs": [],
   "source": [
    "variance_obs_comp = 0.00001\n",
    "nb_iter_SEM = 2\n",
    "# shapes\n",
    "n = np.shape(x_test)[1]\n",
    "p = np.shape(y_test)[1]\n",
    "\n",
    "# kalman parameters\n",
    "H_test = np.eye(n)\n",
    "R_test = variance_obs_comp*np.eye(p)\n",
    "\n",
    "# stochasti\n",
    "\n",
    "Kalman_SEM_timedependent(x_test, y_test, H_test, R_test, nb_iter_SEM, alpha = 0.2)"
   ]
  },
  {
   "cell_type": "code",
   "execution_count": null,
   "metadata": {},
   "outputs": [],
   "source": [
    "x_test[:-1,].shape"
   ]
  },
  {
   "attachments": {},
   "cell_type": "markdown",
   "metadata": {},
   "source": [
    "### Important parameters"
   ]
  },
  {
   "cell_type": "code",
   "execution_count": null,
   "metadata": {},
   "outputs": [],
   "source": [
    "# index of the unobserved component\n",
    "i_unobs_comp = 0\n",
    "\n",
    "# integration time step\n",
    "dt = 0.01\n",
    "\n",
    "# variance of the random white noise of z\n",
    "variance_unobs_comp = 5\n",
    "\n",
    "# variance of the observation error used in Kalman\n",
    "variance_obs_comp = 0.0001\n",
    "\n",
    "# number of Lorenz-63 times\n",
    "nb_loop = 2\n",
    "\n",
    "# number of SEM iterations\n",
    "nb_iter_SEM = 30"
   ]
  },
  {
   "attachments": {},
   "cell_type": "markdown",
   "metadata": {},
   "source": [
    "### Generate simulated data"
   ]
  },
  {
   "cell_type": "code",
   "execution_count": null,
   "metadata": {
    "nbpresent": {
     "id": "81f56606-9081-47fd-8968-13d85c93063c"
    }
   },
   "outputs": [],
   "source": [
    "# Lorenz-63 dynamical model\n",
    "def Lorenz_63(x, dx, sigma, rho, beta):\n",
    "    dx = np.empty((3))\n",
    "    dx[0] = sigma*(x[1]-x[0])\n",
    "    dx[1] = x[0]*(rho-x[2])-x[1]\n",
    "    dx[2] = x[0]*x[1] - beta*x[2]\n",
    "    return dx\n",
    "\n",
    "# Lorenz-63 parameters\n",
    "x0 = np.array([8, 0, 30]) # initial condition\n",
    "sigma = 10; rho = 28; beta = 8/3 # physical parameters\n",
    "\n",
    "# time and truth\n",
    "t   = np.arange(0.01, nb_loop, dt)\n",
    "x_t = odeint(Lorenz_63, x0, np.arange(0.01, nb_loop, dt), args=(sigma, rho, beta))\n",
    "\n",
    "# observations\n",
    "y = x_t.copy()\n",
    "# remove unobserved component\n",
    "y = np.delete(y, i_unobs_comp, axis=1) # add noise here?"
   ]
  },
  {
   "cell_type": "code",
   "execution_count": null,
   "metadata": {},
   "outputs": [],
   "source": [
    "x_t.shape"
   ]
  },
  {
   "attachments": {},
   "cell_type": "markdown",
   "metadata": {},
   "source": [
    "## Time independent reconstruction"
   ]
  },
  {
   "attachments": {},
   "cell_type": "markdown",
   "metadata": {},
   "source": [
    "### V0: $x = [x_2, x_3]$"
   ]
  },
  {
   "cell_type": "code",
   "execution_count": null,
   "metadata": {},
   "outputs": [],
   "source": [
    "# state\n",
    "x = np.c_[y[:,0], y[:,1]]\n",
    "\n",
    "# shapes\n",
    "n = np.shape(x)[1]\n",
    "p = np.shape(y)[1]\n",
    "\n",
    "# colors and labels of the components\n",
    "tab_labels = ['$x_2$', '$x_3$']\n",
    "\n",
    "# plot the components\n",
    "plt.plot(t, x)\n",
    "plt.xlabel('System loops', size=20)\n",
    "plt.ylabel('Components of the system', size=20)\n",
    "plt.legend(tab_labels, loc=1, fontsize='xx-large')\n",
    "plt.title('Observed components', size=30)"
   ]
  },
  {
   "cell_type": "code",
   "execution_count": null,
   "metadata": {},
   "outputs": [],
   "source": [
    "# kalman parameters\n",
    "H = np.eye(n)\n",
    "R = variance_obs_comp*np.eye(p)\n",
    "\n",
    "# stochastic EM\n",
    "x_s_V0, P_s_V0, M_V0, loglik_V0, x, x_f_V0, Q_V0 = Kalman_SEM(x, y, H, R, nb_iter_SEM)"
   ]
  },
  {
   "attachments": {},
   "cell_type": "markdown",
   "metadata": {},
   "source": [
    "### V1: $x = [x_2, x_3, z_1]$"
   ]
  },
  {
   "cell_type": "code",
   "execution_count": null,
   "metadata": {},
   "outputs": [],
   "source": [
    "# state\n",
    "z = np.random.normal(loc=x_t[:,i_unobs_comp]*0, scale=variance_unobs_comp, size=np.shape(y)[0])\n",
    "x = np.c_[y[:,0], y[:,1], z]\n",
    "\n",
    "# shapes\n",
    "n = np.shape(x)[1]\n",
    "p = np.shape(y)[1]"
   ]
  },
  {
   "cell_type": "code",
   "execution_count": null,
   "metadata": {},
   "outputs": [],
   "source": [
    "##################\n",
    "### FIGURE 1-a ###\n",
    "##################\n",
    "\n",
    "tab_labels = ['$y_2 \\ (2^{nd} \\ \\mathrm{Lorenz \\ component})$', '$y_3 \\ (3^{rd} \\ \\mathrm{Lorenz \\ component})$', '$z_1 = Random(\\mathcal{N}(0,\\sigma^2))$']\n",
    "for i in [2,0,1]:\n",
    "    plt.plot(t, x[:,i], color=colors[i], label=tab_labels[i])\n",
    "plt.xlabel('Time')\n",
    "plt.legend(loc=1)\n",
    "plt.ylim([-25,45])\n",
    "plt.xlim([t[0],t[-1]])"
   ]
  },
  {
   "cell_type": "code",
   "execution_count": null,
   "metadata": {},
   "outputs": [],
   "source": [
    "# kalman parameters\n",
    "H = np.delete(np.eye(n), 2, axis=0)\n",
    "R = variance_obs_comp*np.eye(p)\n",
    "\n",
    "# stochastic EM\n",
    "x_s_V1, P_s_V1, M_V1, loglik_V1, x, x_f_V1, Q_V1 = Kalman_SEM(x, y, H, R, nb_iter_SEM)"
   ]
  },
  {
   "cell_type": "code",
   "execution_count": null,
   "metadata": {},
   "outputs": [],
   "source": [
    "##################\n",
    "### FIGURE 1-b ###\n",
    "##################\n",
    "\n",
    "tab_labels = ['$x^s_2$', '$x^s_3$', '$x^s_1 \\pm 1.96 \\sqrt{P^s_1}$']\n",
    "for i in [2,0,1]:\n",
    "    plt.plot(t, x_s_V1[:,i], color=colors[i], label=tab_labels[i])\n",
    "    plt.fill_between(t, x_s_V1[:,i]-1.96*np.sqrt(P_s_V1[:,i,i]), x_s_V1[:,i]+1.96*np.sqrt(P_s_V1[:,i,i]),\n",
    "                 facecolor=colors[i], alpha=0.50)   \n",
    "plt.xlabel('Time')\n",
    "plt.legend(loc=1)\n",
    "plt.ylim([-25,45])\n",
    "plt.xlim([t[0],t[-1]])"
   ]
  },
  {
   "attachments": {},
   "cell_type": "markdown",
   "metadata": {},
   "source": [
    "## Time dependent Model"
   ]
  },
  {
   "attachments": {},
   "cell_type": "markdown",
   "metadata": {},
   "source": [
    "### test Gaussian weights function"
   ]
  },
  {
   "cell_type": "code",
   "execution_count": null,
   "metadata": {},
   "outputs": [],
   "source": []
  }
 ],
 "metadata": {
  "anaconda-cloud": {},
  "kernelspec": {
   "display_name": "Python 3",
   "language": "python",
   "name": "python3"
  },
  "language_info": {
   "codemirror_mode": {
    "name": "ipython",
    "version": 3
   },
   "file_extension": ".py",
   "mimetype": "text/x-python",
   "name": "python",
   "nbconvert_exporter": "python",
   "pygments_lexer": "ipython3",
   "version": "3.10.9"
  },
  "nbpresent": {
   "slides": {
    "1d42f838-0c49-4169-ace3-6cbe2ef3bcb8": {
     "id": "1d42f838-0c49-4169-ace3-6cbe2ef3bcb8",
     "prev": "a79bbd87-5da4-453d-b024-19a2123d05bd",
     "regions": {
      "1265fdae-ba33-4f63-bb1b-066a18e00ea9": {
       "attrs": {
        "height": 0.8,
        "width": 0.8,
        "x": 0.1,
        "y": 0.1
       },
       "content": {
        "cell": "d1760a5b-8d30-43df-87d2-fa83c3bd6553",
        "part": "whole"
       },
       "id": "1265fdae-ba33-4f63-bb1b-066a18e00ea9"
      }
     }
    },
    "2ced89bd-2571-4751-aebc-f597ccefbe76": {
     "id": "2ced89bd-2571-4751-aebc-f597ccefbe76",
     "prev": "add23d58-b14d-49d8-b2aa-577f38d2e1e2",
     "regions": {
      "17b915d1-242d-4df1-82e2-63084727c865": {
       "attrs": {
        "height": 0.8,
        "width": 0.8,
        "x": 0.1,
        "y": 0.1
       },
       "content": {
        "cell": "3c8d57d0-c7b5-4ec6-9ecb-d91aaffbf836",
        "part": "whole"
       },
       "id": "17b915d1-242d-4df1-82e2-63084727c865"
      }
     }
    },
    "336153f3-0ab5-44bc-a573-edaf69c0b238": {
     "id": "336153f3-0ab5-44bc-a573-edaf69c0b238",
     "prev": "42177add-a63c-4114-b63f-3ddf964ef110",
     "regions": {
      "ba96f47c-67a0-4f8e-8aa5-df9e5aaacc1f": {
       "attrs": {
        "height": 0.8,
        "width": 0.8,
        "x": 0.1,
        "y": 0.1
       },
       "content": {
        "cell": "837aa478-c139-42fb-9609-b0a98c79fae1",
        "part": "whole"
       },
       "id": "ba96f47c-67a0-4f8e-8aa5-df9e5aaacc1f"
      }
     }
    },
    "42177add-a63c-4114-b63f-3ddf964ef110": {
     "id": "42177add-a63c-4114-b63f-3ddf964ef110",
     "prev": "724df457-c17c-4540-b34c-7bef5cb716ca",
     "regions": {
      "54f1cdca-2aa4-4698-8246-2a1c5e145547": {
       "attrs": {
        "height": 0.8,
        "width": 0.8,
        "x": 0.1,
        "y": 0.1
       },
       "content": {
        "cell": "241f9ce2-fe11-4533-be8f-991a700f3920",
        "part": "whole"
       },
       "id": "54f1cdca-2aa4-4698-8246-2a1c5e145547"
      }
     }
    },
    "5828c160-102d-4b0b-a02e-a1347935177e": {
     "id": "5828c160-102d-4b0b-a02e-a1347935177e",
     "prev": "aa2c9167-4c71-4984-8932-50f07ece09ee",
     "regions": {
      "844a550a-1b12-4ed5-996d-bdc5c6673cfb": {
       "attrs": {
        "height": 0.8,
        "width": 0.8,
        "x": 0.1,
        "y": 0.1
       },
       "content": {
        "cell": "150c861c-fecc-4dfc-8bb7-c54189d675cb",
        "part": "whole"
       },
       "id": "844a550a-1b12-4ed5-996d-bdc5c6673cfb"
      }
     }
    },
    "67ee6b5b-5315-44b8-ae26-5f1cd7459cdf": {
     "id": "67ee6b5b-5315-44b8-ae26-5f1cd7459cdf",
     "prev": "78cfb209-fb42-41a3-9b67-2d8976535bfd",
     "regions": {
      "69ee6591-33f8-486f-abd2-80b224924624": {
       "attrs": {
        "height": 0.8,
        "width": 0.8,
        "x": 0.1,
        "y": 0.1
       },
       "content": {
        "cell": "f975dd20-65cf-43f8-8a6e-96f2acbad4e4",
        "part": "whole"
       },
       "id": "69ee6591-33f8-486f-abd2-80b224924624"
      }
     }
    },
    "724df457-c17c-4540-b34c-7bef5cb716ca": {
     "id": "724df457-c17c-4540-b34c-7bef5cb716ca",
     "prev": "9fe87c5b-707b-4b01-b745-e8ded89e9df3",
     "regions": {
      "240d4d84-1531-44fe-a100-4420357b11d5": {
       "attrs": {
        "height": 0.8,
        "width": 0.8,
        "x": 0.1,
        "y": 0.1
       },
       "content": {
        "cell": "81f56606-9081-47fd-8968-13d85c93063c",
        "part": "whole"
       },
       "id": "240d4d84-1531-44fe-a100-4420357b11d5"
      }
     }
    },
    "77584b6a-a79a-4c2a-9877-16ceb1f8abd0": {
     "id": "77584b6a-a79a-4c2a-9877-16ceb1f8abd0",
     "prev": "5828c160-102d-4b0b-a02e-a1347935177e",
     "regions": {
      "8c07716a-3ea3-46ee-9c54-ad6fc7312519": {
       "attrs": {
        "height": 0.8,
        "width": 0.8,
        "x": 0.1,
        "y": 0.1
       },
       "content": {
        "cell": "8150ad94-0ca4-4664-99f2-16b477d0a987",
        "part": "whole"
       },
       "id": "8c07716a-3ea3-46ee-9c54-ad6fc7312519"
      }
     }
    },
    "78cfb209-fb42-41a3-9b67-2d8976535bfd": {
     "id": "78cfb209-fb42-41a3-9b67-2d8976535bfd",
     "prev": "c903fa48-923d-4a62-9cb0-bb5947fd72fc",
     "regions": {
      "ccafd74d-69fc-4fee-a9d4-a08c42b93603": {
       "attrs": {
        "height": 0.8,
        "width": 0.8,
        "x": 0.1,
        "y": 0.1
       },
       "content": {
        "cell": "af657441-0912-4749-b537-6e1734f875bb",
        "part": "whole"
       },
       "id": "ccafd74d-69fc-4fee-a9d4-a08c42b93603"
      }
     }
    },
    "7adb904a-fb6f-4d67-94d8-4c711e07ac11": {
     "id": "7adb904a-fb6f-4d67-94d8-4c711e07ac11",
     "prev": "d17e8d89-9e35-46c9-b929-566d91fdb7f1",
     "regions": {
      "7ea089b6-47be-4579-9234-db684b9d36a5": {
       "attrs": {
        "height": 0.8,
        "width": 0.8,
        "x": 0.1,
        "y": 0.1
       },
       "content": {
        "cell": "c4e459e9-33bc-43f1-91e8-5a5d05746979",
        "part": "whole"
       },
       "id": "7ea089b6-47be-4579-9234-db684b9d36a5"
      }
     }
    },
    "9563799e-a48a-4472-be8d-4d8cd293d2ad": {
     "id": "9563799e-a48a-4472-be8d-4d8cd293d2ad",
     "prev": "f27ef294-a3b8-4e5c-9050-45addbe0b149",
     "regions": {
      "98b47946-ed94-4959-9d5f-02151a5ec080": {
       "attrs": {
        "height": 0.8,
        "width": 0.8,
        "x": 0.1,
        "y": 0.1
       },
       "content": {
        "cell": "7a6c203f-bcbb-4c52-8b85-7e6be3945044",
        "part": "whole"
       },
       "id": "98b47946-ed94-4959-9d5f-02151a5ec080"
      }
     }
    },
    "9fe87c5b-707b-4b01-b745-e8ded89e9df3": {
     "id": "9fe87c5b-707b-4b01-b745-e8ded89e9df3",
     "prev": "67ee6b5b-5315-44b8-ae26-5f1cd7459cdf",
     "regions": {
      "88a6792f-b8da-46f8-9d2f-4f7eb16621dd": {
       "attrs": {
        "height": 0.8,
        "width": 0.8,
        "x": 0.1,
        "y": 0.1
       },
       "content": {
        "cell": "702967c4-5161-4544-a9f1-88cd5d0155da",
        "part": "whole"
       },
       "id": "88a6792f-b8da-46f8-9d2f-4f7eb16621dd"
      }
     }
    },
    "a79bbd87-5da4-453d-b024-19a2123d05bd": {
     "id": "a79bbd87-5da4-453d-b024-19a2123d05bd",
     "prev": "7adb904a-fb6f-4d67-94d8-4c711e07ac11",
     "regions": {
      "4f5dad50-8402-438d-a99a-65f489665bcb": {
       "attrs": {
        "height": 0.8,
        "width": 0.8,
        "x": 0.1,
        "y": 0.1
       },
       "content": {
        "cell": "b00e2703-18c9-46e3-b935-dd07e82d80e5",
        "part": "whole"
       },
       "id": "4f5dad50-8402-438d-a99a-65f489665bcb"
      }
     }
    },
    "aa2c9167-4c71-4984-8932-50f07ece09ee": {
     "id": "aa2c9167-4c71-4984-8932-50f07ece09ee",
     "prev": "1d42f838-0c49-4169-ace3-6cbe2ef3bcb8",
     "regions": {
      "320b99ad-7a18-4224-a500-b94e65a48833": {
       "attrs": {
        "height": 0.8,
        "width": 0.8,
        "x": 0.1,
        "y": 0.1
       },
       "content": {
        "cell": "604a659e-82bf-4618-95bf-77ef755b9088",
        "part": "whole"
       },
       "id": "320b99ad-7a18-4224-a500-b94e65a48833"
      }
     }
    },
    "ad8135f7-ac79-4ac1-a610-10a935b49a98": {
     "id": "ad8135f7-ac79-4ac1-a610-10a935b49a98",
     "prev": "2ced89bd-2571-4751-aebc-f597ccefbe76",
     "regions": {
      "0e52e387-23f1-4ed3-9940-8c389e971206": {
       "attrs": {
        "height": 0.8,
        "width": 0.8,
        "x": 0.1,
        "y": 0.1
       },
       "content": {
        "cell": "8f5b99c6-6771-4a2f-8ff5-f6693d6b9916",
        "part": "whole"
       },
       "id": "0e52e387-23f1-4ed3-9940-8c389e971206"
      }
     }
    },
    "add23d58-b14d-49d8-b2aa-577f38d2e1e2": {
     "id": "add23d58-b14d-49d8-b2aa-577f38d2e1e2",
     "prev": "ee4674c1-f707-4364-8f98-920a3a4dccdd",
     "regions": {
      "4ff09800-dc8f-4d70-a6fa-122728d7b7ce": {
       "attrs": {
        "height": 0.8,
        "width": 0.8,
        "x": 0.1,
        "y": 0.1
       },
       "content": {
        "cell": "35f54171-6e87-4b0f-9cb2-821d9c0d8b96",
        "part": "whole"
       },
       "id": "4ff09800-dc8f-4d70-a6fa-122728d7b7ce"
      }
     }
    },
    "c903fa48-923d-4a62-9cb0-bb5947fd72fc": {
     "id": "c903fa48-923d-4a62-9cb0-bb5947fd72fc",
     "prev": null,
     "regions": {
      "9af22ce6-60f7-4b0f-b583-587632ca1c4d": {
       "attrs": {
        "height": 0.8,
        "width": 0.8,
        "x": 0.1,
        "y": 0.1
       },
       "content": {
        "cell": "76428090-b279-4d85-b5bc-e0fdefafc294",
        "part": "whole"
       },
       "id": "9af22ce6-60f7-4b0f-b583-587632ca1c4d"
      }
     }
    },
    "d17e8d89-9e35-46c9-b929-566d91fdb7f1": {
     "id": "d17e8d89-9e35-46c9-b929-566d91fdb7f1",
     "prev": "9563799e-a48a-4472-be8d-4d8cd293d2ad",
     "regions": {
      "8014a801-52b8-4b31-b0b3-57c09db3642a": {
       "attrs": {
        "height": 0.8,
        "width": 0.8,
        "x": 0.1,
        "y": 0.1
       },
       "content": {
        "cell": "971ff88b-e8dc-43dc-897e-71a7b6b659c0",
        "part": "whole"
       },
       "id": "8014a801-52b8-4b31-b0b3-57c09db3642a"
      }
     }
    },
    "ee4674c1-f707-4364-8f98-920a3a4dccdd": {
     "id": "ee4674c1-f707-4364-8f98-920a3a4dccdd",
     "prev": "77584b6a-a79a-4c2a-9877-16ceb1f8abd0",
     "regions": {
      "88808a64-d487-4a72-b74f-5b1db506cbec": {
       "attrs": {
        "height": 0.8,
        "width": 0.8,
        "x": 0.1,
        "y": 0.1
       },
       "content": {
        "cell": "02cf2959-e712-4af8-8bb6-f914608e15ac",
        "part": "whole"
       },
       "id": "88808a64-d487-4a72-b74f-5b1db506cbec"
      }
     }
    },
    "f27ef294-a3b8-4e5c-9050-45addbe0b149": {
     "id": "f27ef294-a3b8-4e5c-9050-45addbe0b149",
     "prev": "336153f3-0ab5-44bc-a573-edaf69c0b238",
     "regions": {
      "c15a426b-5006-40a7-b0ef-45a7aa142ea6": {
       "attrs": {
        "height": 0.8,
        "width": 0.8,
        "x": 0.1,
        "y": 0.1
       },
       "content": {
        "cell": "3ed39876-5608-4f08-ba3c-a08d1c1d2c84",
        "part": "whole"
       },
       "id": "c15a426b-5006-40a7-b0ef-45a7aa142ea6"
      }
     }
    }
   },
   "themes": {}
  }
 },
 "nbformat": 4,
 "nbformat_minor": 1
}
