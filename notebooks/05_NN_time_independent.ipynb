{
 "cells": [
  {
   "cell_type": "code",
   "execution_count": null,
   "metadata": {},
   "outputs": [],
   "source": [
    "import numpy as np\n",
    "import xarray as xr\n",
    "from kalman_reconstruction import pipeline\n",
    "from kalman_reconstruction import example_models\n",
    "from kalman_reconstruction.statistics import (\n",
    "    coverage,\n",
    "    xarray_coverage_prob,\n",
    "    xarray_RMSE,\n",
    ")\n",
    "from kalman_reconstruction.custom_plot import (\n",
    "    plot_state_with_probability,\n",
    "    set_custom_rcParams,\n",
    ")\n",
    "import matplotlib.pyplot as plt\n",
    "\n",
    "set_custom_rcParams()\n",
    "plt.rcParams[\"figure.figsize\"] = (8, 5)\n",
    "colors = plt.rcParams[\"axes.prop_cycle\"].by_key()[\"color\"]"
   ]
  },
  {
   "cell_type": "code",
   "execution_count": null,
   "metadata": {},
   "outputs": [
    {
     "data": {
      "text/plain": [
       "<module 'kalman_reconstruction.pipeline' from 'C:\\\\Users\\\\Niebaum\\\\Documents\\\\Repositories\\\\kalman-reconstruction-partially-observered-systems\\\\kalman_reconstruction\\\\pipeline.py'>"
      ]
     },
     "execution_count": null,
     "metadata": {},
     "output_type": "execute_result"
    }
   ],
   "source": [
    "from importlib import reload\n",
    "from kalman_reconstruction import statistics\n",
    "\n",
    "reload(statistics)\n",
    "reload(pipeline)"
   ]
  },
  {
   "cell_type": "code",
   "execution_count": null,
   "metadata": {},
   "outputs": [],
   "source": [
    "seed = 39264\n",
    "variance = 5\n",
    "nb_iter_SEM = 30\n",
    "dt = 0.01\n",
    "number_loops = 3\n",
    "forcast_duration = 0.5\n",
    "forecast_length = int(forcast_duration / dt)\n",
    "\n",
    "start_times = np.arange(10 * dt, number_loops, 2 * forcast_duration)\n",
    "model_result = example_models.Lorenz_63_xarray(\n",
    "    dt=dt, time_length=number_loops, time_steps=None\n",
    ")\n",
    "\n",
    "rng1 = np.random.default_rng(seed=seed)\n",
    "rng2 = np.random.default_rng(seed=seed + 1)\n",
    "rng3 = np.random.default_rng(seed=seed + 2)\n",
    "rng4 = np.random.default_rng(seed=seed + 3)"
   ]
  },
  {
   "cell_type": "code",
   "execution_count": null,
   "metadata": {},
   "outputs": [],
   "source": [
    "data_train = dict()\n",
    "kalman_train = dict()\n",
    "names = [\n",
    "    \"$x = [x_2, x_3]$\",\n",
    "    \"$x = [x_2, x_3, z_1]$\",\n",
    "    \"$x = [x_2, x_3, z_1, z_2]$\",\n",
    "    # \"$x = [x_2, x_3, z_1, z_2, z_3]$\",\n",
    "]"
   ]
  },
  {
   "attachments": {},
   "cell_type": "markdown",
   "metadata": {},
   "source": [
    "### Apply the Kalman SEM using latent variables \n"
   ]
  },
  {
   "attachments": {},
   "cell_type": "markdown",
   "metadata": {},
   "source": [
    "#### 0 latent variables"
   ]
  },
  {
   "cell_type": "code",
   "execution_count": null,
   "metadata": {},
   "outputs": [
    {
     "name": "stderr",
     "output_type": "stream",
     "text": [
      "100%|██████████| 30/30 [00:06<00:00,  4.97it/s]\n"
     ]
    }
   ],
   "source": [
    "new_name = names[0]\n",
    "\n",
    "data_train[new_name] = model_result.copy()\n",
    "# Run Klman_SEM\n",
    "kalman_train[new_name] = pipeline.xarray_Kalman_SEM(\n",
    "    ds=data_train[new_name],\n",
    "    observation_variables=[\"x2\", \"x3\"],\n",
    "    state_variables=[\"x2\", \"x3\"],\n",
    "    nb_iter_SEM=nb_iter_SEM,\n",
    "    variance_obs_comp=0.0001,\n",
    ")\n",
    "\n",
    "fig, ax = plt.subplots(1, 1)\n",
    "for var in kalman_train[new_name].state_name:\n",
    "    plot_state_with_probability(\n",
    "        ax=ax,\n",
    "        x_value=kalman_train[new_name].time,\n",
    "        state=kalman_train[new_name].states.sel(state_name=var),\n",
    "        prob=kalman_train[new_name].covariance.sel(state_name=var, state_name_copy=var),\n",
    "        line_kwargs={\"label\": var.values},\n",
    "    )\n",
    "\n",
    "ax.legend()\n",
    "# ax.set_xlim((0, 2))\n",
    "ax.set_xlabel(\"time\")\n",
    "ax.set_ylabel(\"Values\")\n",
    "ax.set_title(\"Using multiple random latent variables\");"
   ]
  },
  {
   "attachments": {},
   "cell_type": "markdown",
   "metadata": {},
   "source": [
    "#### 1 latent variables"
   ]
  },
  {
   "cell_type": "code",
   "execution_count": null,
   "metadata": {},
   "outputs": [
    {
     "name": "stderr",
     "output_type": "stream",
     "text": [
      "100%|██████████| 30/30 [00:04<00:00,  6.76it/s]\n"
     ]
    },
    {
     "data": {
      "text/plain": [
       "Text(0.5, 1.0, 'Using multiple random latent variables')"
      ]
     },
     "execution_count": null,
     "metadata": {},
     "output_type": "execute_result"
    }
   ],
   "source": [
    "old_name = names[0]\n",
    "new_name = names[1]\n",
    "\n",
    "data_train[new_name] = data_train[old_name].copy()\n",
    "# Add latent variable\n",
    "pipeline.add_random_variable(\n",
    "    data_train[new_name], var_name=\"z1\", random_generator=rng1, variance=variance\n",
    ")\n",
    "# Run Klman_SEM\n",
    "kalman_train[new_name] = pipeline.xarray_Kalman_SEM(\n",
    "    ds=data_train[new_name],\n",
    "    observation_variables=[\"x2\", \"x3\"],\n",
    "    state_variables=[\"x2\", \"x3\", \"z1\"],\n",
    "    nb_iter_SEM=nb_iter_SEM,\n",
    "    variance_obs_comp=0.0001,\n",
    ")\n",
    "\n",
    "fig, ax = plt.subplots(1, 1)\n",
    "for var in kalman_train[new_name].state_name:\n",
    "    plot_state_with_probability(\n",
    "        ax=ax,\n",
    "        x_value=kalman_train[new_name].time,\n",
    "        state=kalman_train[new_name].states.sel(state_name=var),\n",
    "        prob=kalman_train[new_name].covariance.sel(state_name=var, state_name_copy=var),\n",
    "        line_kwargs={\"label\": var.values},\n",
    "    )\n",
    "\n",
    "ax.legend()\n",
    "# ax.set_xlim((0, 2))\n",
    "ax.set_xlabel(\"time\")\n",
    "ax.set_ylabel(\"Values\")\n",
    "ax.set_title(\"Using multiple random latent variables\")"
   ]
  },
  {
   "attachments": {},
   "cell_type": "markdown",
   "metadata": {},
   "source": [
    "#### 2 latent variables"
   ]
  },
  {
   "cell_type": "code",
   "execution_count": null,
   "metadata": {},
   "outputs": [
    {
     "name": "stderr",
     "output_type": "stream",
     "text": [
      "100%|██████████| 30/30 [00:04<00:00,  6.95it/s]\n"
     ]
    }
   ],
   "source": [
    "old_name = names[1]\n",
    "new_name = names[2]\n",
    "\n",
    "data_train[new_name] = data_train[old_name].copy()\n",
    "data_train[new_name][\"z1\"] = kalman_train[old_name].states.sel(state_name=\"z1\")\n",
    "# Add latent variable\n",
    "pipeline.add_random_variable(\n",
    "    data_train[new_name], var_name=\"z2\", random_generator=rng1, variance=variance\n",
    ")\n",
    "# Run Klman_SEM\n",
    "kalman_train[new_name] = pipeline.xarray_Kalman_SEM(\n",
    "    ds=data_train[new_name],\n",
    "    observation_variables=[\"x2\", \"x3\"],\n",
    "    state_variables=[\"x2\", \"x3\", \"z1\", \"z2\"],\n",
    "    nb_iter_SEM=nb_iter_SEM,\n",
    "    variance_obs_comp=0.0001,\n",
    ")\n",
    "\n",
    "fig, ax = plt.subplots(1, 1)\n",
    "for var in kalman_train[new_name].state_name:\n",
    "    plot_state_with_probability(\n",
    "        ax=ax,\n",
    "        x_value=kalman_train[new_name].time,\n",
    "        state=kalman_train[new_name].states.sel(state_name=var),\n",
    "        prob=kalman_train[new_name].covariance.sel(state_name=var, state_name_copy=var),\n",
    "        line_kwargs={\"label\": var.values},\n",
    "    )\n",
    "\n",
    "ax.legend()\n",
    "# ax.set_xlim((0, 2))\n",
    "ax.set_xlabel(\"time\")\n",
    "ax.set_ylabel(\"Values\")\n",
    "ax.set_title(\"Using multiple random latent variables\");"
   ]
  },
  {
   "attachments": {},
   "cell_type": "markdown",
   "metadata": {},
   "source": [
    "#### 3 latent variables"
   ]
  },
  {
   "cell_type": "code",
   "execution_count": null,
   "metadata": {},
   "outputs": [],
   "source": [
    "# old_name = names[2]\n",
    "# new_name = names[3]\n",
    "\n",
    "# data_train[new_name] = data_train[old_name].copy()\n",
    "# data_train[new_name][\"z2\"] = kalman_train[old_name].states.sel(state_name=\"z2\")\n",
    "# # Add latent variable\n",
    "# pipeline.add_random_variable(\n",
    "#     data_train[new_name], var_name=\"z3\", random_generator=rng1, variance=variance\n",
    "# )\n",
    "# # Run Klman_SEM\n",
    "# kalman_train[new_name] = pipeline.xarray_Kalman_SEM(\n",
    "#     ds=data_train[new_name],\n",
    "#     observation_variables=[\"x2\", \"x3\"],\n",
    "#     state_variables=[\"x2\", \"x3\", \"z1\", \"z2\", \"z3\"],\n",
    "#     nb_iter_SEM=nb_iter_SEM,\n",
    "#     variance_obs_comp=0.0001,\n",
    "# )\n",
    "\n",
    "# fig, ax = plt.subplots(1, 1)\n",
    "# for var in kalman_train[new_name].state_name:\n",
    "#     plot_state_with_probability(\n",
    "#         ax=ax,\n",
    "#         x_value=kalman_train[new_name].time,\n",
    "#         state=kalman_train[new_name].states.sel(state_name=var),\n",
    "#         prob=kalman_train[new_name].covariance.sel(state_name=var, state_name_copy=var),\n",
    "#         line_kwargs={\"label\": var.values},\n",
    "#     )\n",
    "\n",
    "# ax.legend()\n",
    "# #ax.set_xlim((0, 2))\n",
    "# ax.set_xlabel(\"time\")\n",
    "# ax.set_ylabel(\"Values\")\n",
    "# ax.set_title(\"Using multiple random latent variables\");"
   ]
  },
  {
   "attachments": {},
   "cell_type": "markdown",
   "metadata": {},
   "source": [
    "## Test the forecast skill\n",
    "To test the forecast skill, we will create a test dataset starting from the end of the initial training data_train."
   ]
  },
  {
   "cell_type": "code",
   "execution_count": null,
   "metadata": {},
   "outputs": [
    {
     "data": {
      "text/plain": [
       "array([ 7.54287543,  1.01909002, 32.93193306])"
      ]
     },
     "execution_count": null,
     "metadata": {},
     "output_type": "execute_result"
    }
   ],
   "source": [
    "test_initial_condition = np.array(\n",
    "    [model_result[var].isel(time=-1).values for var in [\"x1\", \"x2\", \"x3\"]]\n",
    ")\n",
    "test_initial_condition"
   ]
  },
  {
   "cell_type": "code",
   "execution_count": null,
   "metadata": {},
   "outputs": [],
   "source": [
    "model_result_test = example_models.Lorenz_63_xarray(\n",
    "    dt=dt,\n",
    "    time_length=number_loops,\n",
    "    time_steps=None,\n",
    "    initial_condition=test_initial_condition,\n",
    ")"
   ]
  },
  {
   "cell_type": "code",
   "execution_count": null,
   "metadata": {},
   "outputs": [],
   "source": [
    "data_test = dict()\n",
    "kalman_test = kalman_train  # use the trained ``M`` and ``Q`` for the smoother later on\n",
    "smoother_test = dict()\n",
    "forecast_test = dict()"
   ]
  },
  {
   "attachments": {},
   "cell_type": "markdown",
   "metadata": {},
   "source": [
    "Create the test dataset with newly initialized latent varibables\n",
    "\n",
    "Make sure to swap the random number generator between here and the initialization before to check if it still works fine.\n",
    "\n",
    "It is sufficient here to only apply the Kalman smoother to the dataset in order to get proper results, as ``M`` and ``Q`` were trained on the period before."
   ]
  },
  {
   "cell_type": "code",
   "execution_count": null,
   "metadata": {},
   "outputs": [],
   "source": [
    "\"\"\"0 Latent\"\"\"\n",
    "\n",
    "new_name = names[0]\n",
    "data_test[new_name] = model_result_test.copy()\n",
    "\n",
    "\"\"\"1 Latent\"\"\"\n",
    "old_name = names[0]\n",
    "new_name = names[1]\n",
    "# copy dataset\n",
    "data_test[new_name] = data_test[old_name].copy()\n",
    "# Add latent variable\n",
    "pipeline.add_random_variable(\n",
    "    data_test[new_name], var_name=\"z1\", random_generator=rng3, variance=variance\n",
    ")\n",
    "\n",
    "\"\"\"2 Latent\"\"\"\n",
    "old_name = names[1]\n",
    "new_name = names[2]\n",
    "# copy dataset\n",
    "data_test[new_name] = data_test[old_name].copy()\n",
    "data_test[new_name][\"z1\"] = data_test[old_name][\"z1\"]\n",
    "# Add latent variable\n",
    "pipeline.add_random_variable(\n",
    "    data_test[new_name], var_name=\"z2\", random_generator=rng4, variance=variance\n",
    ")\n",
    "\n",
    "\n",
    "# # \"\"\"3 Latent\"\"\"\n",
    "# # old_name = names[2]\n",
    "# # new_name = names[3]\n",
    "# # # copy dataset\n",
    "# # data_test[new_name] = data_test[old_name].copy()\n",
    "# # data_test[new_name][\"z2\"] = data_test[old_name].states.sel(state_name=\"z2\")\n",
    "# # # Add latent variable\n",
    "# # pipeline.add_random_variable(\n",
    "# #     data_test[new_name], var_name=\"z3\", random_generator=rng1, variance=variance\n",
    "# # )"
   ]
  },
  {
   "cell_type": "code",
   "execution_count": null,
   "metadata": {},
   "outputs": [
    {
     "data": {
      "text/plain": [
       "[<matplotlib.lines.Line2D at 0x211c5e53bb0>]"
      ]
     },
     "execution_count": null,
     "metadata": {},
     "output_type": "execute_result"
    }
   ],
   "source": [
    "plt.plot(data_test[names[2]].x2, label=\"x2\")\n",
    "plt.plot(data_test[names[2]].x3, label=\"x3\")\n",
    "plt.plot(data_test[names[2]].z1, label=\"z1\")\n",
    "plt.plot(data_test[names[2]].z2, label=\"z2\", zorder=0)"
   ]
  },
  {
   "attachments": {},
   "cell_type": "markdown",
   "metadata": {},
   "source": [
    "Perform Kalman smoother using the last timestep as start.\n",
    "The ``M`` and ``Q`` Matrices from the ``Kalman_SEM`` are used."
   ]
  },
  {
   "cell_type": "code",
   "execution_count": null,
   "metadata": {},
   "outputs": [],
   "source": [
    "idx = -1\n",
    "\"\"\"0 Latent\"\"\"\n",
    "observation_variables = [\"x2\", \"x3\"]\n",
    "state_variables = [\"x2\", \"x3\"]\n",
    "H, R = pipeline._input_matrices_H_R_from_n_p(\n",
    "    n=len(state_variables), p=len(observation_variables)\n",
    ")\n",
    "smoother_test[names[0]] = pipeline.xarray_Kalman_smoother(\n",
    "    ds=data_test[names[0]],\n",
    "    state_variables=state_variables,\n",
    "    observation_variables=observation_variables,\n",
    "    initial_covariance_matrix=kalman_test[names[0]].covariance.isel(time=idx),\n",
    "    M=kalman_test[names[0]].M.values,\n",
    "    Q=kalman_test[names[0]].Q.values,\n",
    "    H=H,\n",
    "    R=R,\n",
    "    estimation_idx=idx,\n",
    "    dim=\"time\",\n",
    ")\n",
    "\n",
    "\"\"\"1 Latent\"\"\"\n",
    "observation_variables = [\"x2\", \"x3\"]\n",
    "state_variables = [\"x2\", \"x3\", \"z1\"]\n",
    "H, R = pipeline._input_matrices_H_R_from_n_p(\n",
    "    n=len(state_variables), p=len(observation_variables)\n",
    ")\n",
    "smoother_test[names[1]] = pipeline.xarray_Kalman_smoother(\n",
    "    ds=data_test[names[1]],\n",
    "    state_variables=state_variables,\n",
    "    observation_variables=observation_variables,\n",
    "    initial_covariance_matrix=kalman_test[names[1]].covariance.isel(time=idx),\n",
    "    M=kalman_test[names[1]].M.values,\n",
    "    Q=kalman_test[names[1]].Q.values,\n",
    "    H=H,\n",
    "    R=R,\n",
    "    estimation_idx=idx,\n",
    "    dim=\"time\",\n",
    ")\n",
    "\n",
    "\"\"\"2 Latent\"\"\"\n",
    "observation_variables = [\"x2\", \"x3\"]\n",
    "state_variables = [\"x2\", \"x3\", \"z1\", \"z2\"]\n",
    "H, R = pipeline._input_matrices_H_R_from_n_p(\n",
    "    n=len(state_variables), p=len(observation_variables)\n",
    ")\n",
    "smoother_test[names[2]] = pipeline.xarray_Kalman_smoother(\n",
    "    ds=data_test[names[2]],\n",
    "    state_variables=state_variables,\n",
    "    observation_variables=observation_variables,\n",
    "    initial_covariance_matrix=kalman_test[names[2]].covariance.isel(time=idx),\n",
    "    M=kalman_test[names[2]].M.values,\n",
    "    Q=kalman_test[names[2]].Q.values,\n",
    "    H=H,\n",
    "    R=R,\n",
    "    estimation_idx=idx,\n",
    "    dim=\"time\",\n",
    ")\n",
    "\n",
    "'''\n",
    "# \"\"\"3 Latent\"\"\"\n",
    "# observation_variables = [\"x2\", \"x3\"]\n",
    "# state_variables=[\"x2\", \"x3\", \"z1\", \"z2\", \"z3\"]\n",
    "\n",
    "# H, R = pipeline._input_matrices_H_R_from_n_p(n=len(state_variables), p=len(observation_variables))\n",
    "# smoother_test[names[3]] = pipeline.xarray_Kalman_smoother(\n",
    "#     ds=data_test[names[2]],\n",
    "#     state_variables=state_variables,\n",
    "#     observation_variables=observation_variables,\n",
    "#     initial_covariance_matrix=kalman_test[names[2]].covariance.isel(time=idx),\n",
    "#     M=kalman_test[names[2]].M.values,\n",
    "#     Q=kalman_test[names[2]].Q.values,\n",
    "#     H=H,\n",
    "#     R=R,\n",
    "#     estimation_idx=idx,\n",
    "#     dim=\"time\",\n",
    "# )\n",
    "''';"
   ]
  },
  {
   "cell_type": "code",
   "execution_count": null,
   "metadata": {},
   "outputs": [
    {
     "data": {
      "text/plain": [
       "<matplotlib.legend.Legend at 0x211c546ebf0>"
      ]
     },
     "execution_count": null,
     "metadata": {},
     "output_type": "execute_result"
    }
   ],
   "source": [
    "plt.plot(\n",
    "    smoother_test[names[2]].state_smooth,\n",
    "    label=smoother_test[names[2]].state_name.values,\n",
    ")\n",
    "plt.legend()"
   ]
  },
  {
   "attachments": {},
   "cell_type": "markdown",
   "metadata": {},
   "source": [
    "Now create the forcast of the system and compute the RMSE and coverage_prbability"
   ]
  },
  {
   "cell_type": "code",
   "execution_count": null,
   "metadata": {},
   "outputs": [],
   "source": [
    "forecast_test = dict()\n",
    "for nb_latent in names:\n",
    "    forecast_test[nb_latent] = pipeline.forcast_from_kalman(\n",
    "        ds_kalman_SEM=kalman_test[nb_latent],\n",
    "        ds_state_covariance=smoother_test[nb_latent],\n",
    "        state_var_name=\"state_smooth\",\n",
    "        covariance_var_name=\"covariance_smooth\",\n",
    "        forecast_length=forecast_length,\n",
    "    )"
   ]
  },
  {
   "cell_type": "code",
   "execution_count": null,
   "metadata": {},
   "outputs": [
    {
     "data": {
      "text/plain": [
       "Text(0.5, 0, 'Time')"
      ]
     },
     "execution_count": null,
     "metadata": {},
     "output_type": "execute_result"
    }
   ],
   "source": [
    "varibales_to_plot = [\"x2\", \"x3\"]\n",
    "fig, axs = plt.subplots(nrows=2, ncols=1, sharex=True, sharey=False)\n",
    "axs = axs.flatten()\n",
    "\n",
    "# plot x2\n",
    "state = \"x2\"\n",
    "axs_idx = 0\n",
    "axs[axs_idx].plot(\n",
    "    model_result_test.time,\n",
    "    model_result_test[state],\n",
    "    color=\"k\",\n",
    "    alpha=0.75,\n",
    "    label=state,\n",
    ")\n",
    "\n",
    "\n",
    "for (key, ds), color in zip(forecast_test.items(), colors[0 : len(forecast_test)]):\n",
    "    for idx, start_time in enumerate(start_times):\n",
    "        if idx == 0:\n",
    "            line_kwargs = dict(color=color, label=key)\n",
    "        else:\n",
    "            line_kwargs = dict(color=color)\n",
    "        plot_state_with_probability(\n",
    "            ax=axs[axs_idx],\n",
    "            x_value=start_time + ds.horizon * dt,\n",
    "            state=ds.states.sel(state_name=state).sel(\n",
    "                time=start_time, method=\"nearest\"\n",
    "            ),\n",
    "            prob=ds.covariance.sel(state_name=state, state_name_copy=state).sel(\n",
    "                time=start_time, method=\"nearest\"\n",
    "            ),\n",
    "            line_kwargs=line_kwargs,\n",
    "            stds=0.64,\n",
    "        )\n",
    "\n",
    "# plot x3\n",
    "state = \"x3\"\n",
    "axs_idx = 1\n",
    "axs[axs_idx].plot(\n",
    "    model_result_test.time,\n",
    "    model_result_test[state],\n",
    "    color=\"k\",\n",
    "    alpha=0.75,\n",
    "    label=state,\n",
    ")\n",
    "\n",
    "\n",
    "for (key, ds), color in zip(forecast_test.items(), colors[0 : len(forecast_test)]):\n",
    "    for idx, start_time in enumerate(start_times):\n",
    "        if idx == 0:\n",
    "            line_kwargs = dict(color=color, label=key)\n",
    "        else:\n",
    "            line_kwargs = dict(color=color)\n",
    "        plot_state_with_probability(\n",
    "            ax=axs[axs_idx],\n",
    "            x_value=start_time + ds.horizon * dt,\n",
    "            state=ds.states.sel(state_name=state).sel(\n",
    "                time=start_time, method=\"nearest\"\n",
    "            ),\n",
    "            prob=ds.covariance.sel(state_name=state, state_name_copy=state).sel(\n",
    "                time=start_time, method=\"nearest\"\n",
    "            ),\n",
    "            line_kwargs=line_kwargs,\n",
    "            stds=0.64,\n",
    "        )\n",
    "\n",
    "\n",
    "axs[0].legend()\n",
    "axs[1].legend()\n",
    "axs[0].set_ylim(-30, 30)\n",
    "axs[1].set_ylim(-10, 50)\n",
    "axs[0].set_ylabel(\"Values\")\n",
    "axs[0].set_xlabel(\"Time\")\n",
    "axs[1].set_xlabel(\"Time\")"
   ]
  },
  {
   "cell_type": "code",
   "execution_count": null,
   "metadata": {},
   "outputs": [],
   "source": [
    "model_standard = pipeline.to_standard_dataset(ds=model_result_test)\n",
    "perfect = pipeline.perfect_forcast(model_standard, forecast_length=forecast_length)"
   ]
  },
  {
   "cell_type": "code",
   "execution_count": null,
   "metadata": {},
   "outputs": [],
   "source": [
    "states_to_plot = [\"x2\", \"x3\"]\n",
    "fig = plt.figure()\n",
    "subfigs = subfigs = fig.subfigures(ncols=1, nrows=2)\n",
    "\n",
    "axs_rmse = subfigs[0].subplots(ncols=2, nrows=1, sharex=True, sharey=True)\n",
    "axs_covp = subfigs[1].subplots(ncols=2, nrows=1, sharex=True, sharey=True)\n",
    "\n",
    "\n",
    "for key in names:\n",
    "    for idx, state in enumerate(states_to_plot):\n",
    "        cover_prob_ = xarray_coverage_prob(\n",
    "            x=forecast_test[key].states.sel(state_name=state),\n",
    "            P=forecast_test[key].covariance.sel(\n",
    "                state_name=state, state_name_copy=state\n",
    "            ),\n",
    "            y=perfect.states.sel(state_name=state),\n",
    "            stds=0.64,\n",
    "            dim=\"time\",\n",
    "        )\n",
    "        rmse_ = xarray_RMSE(\n",
    "            x=forecast_test[key].states.sel(state_name=state),\n",
    "            y=perfect.states.sel(state_name=state),\n",
    "            dim=\"time\",\n",
    "        )\n",
    "\n",
    "        # plot rmse:\n",
    "        axs_rmse[idx].plot(perfect.horizon * dt, rmse_, label=key)\n",
    "        axs_rmse[idx].set_title(state)\n",
    "        # plot rmse:\n",
    "        axs_covp[idx].plot(perfect.horizon * dt, cover_prob_, label=key)\n",
    "        axs_covp[idx].set_xlabel(\"forecast horizon\")\n",
    "        # plt.plot(perfect.horizon * dt, 20 * cover_prob, label=key)\n",
    "        # plt.plot(perfect.horizon * dt, rmse_, label=key)\n",
    "axs_rmse[0].set_ylabel(\"RMSE\")\n",
    "axs_covp[0].set_ylabel(\"coverage probability\")\n",
    "\n",
    "for ax in axs_rmse:\n",
    "    ax.legend()\n",
    "    ax.set_ylim((-1, 35))\n",
    "\n",
    "for ax in axs_covp:\n",
    "    ax.axhline(0.5, color=\"k\", alpha=0.5, linestyle=\":\")\n",
    "    ax.legend()\n",
    "\n",
    "\n",
    "# Write a function that takes in the dict of dataset"
   ]
  },
  {
   "cell_type": "code",
   "execution_count": null,
   "metadata": {},
   "outputs": [
    {
     "data": {
      "text/plain": [
       "<matplotlib.legend.Legend at 0x211c0f4f610>"
      ]
     },
     "execution_count": null,
     "metadata": {},
     "output_type": "execute_result"
    }
   ],
   "source": [
    "fig, ax = plt.subplots(nrows=1, ncols=1)\n",
    "\n",
    "ax.plot(\n",
    "    model_result_test[\"x2\"],\n",
    "    model_result_test[\"x3\"],\n",
    "    color=\"k\",\n",
    "    alpha=0.75,\n",
    "    label=state,\n",
    ")\n",
    "\n",
    "\n",
    "for (key, ds), color in zip(forecast_test.items(), colors[0 : len(forecast_test)]):\n",
    "    for idx, start_time in enumerate(start_times):\n",
    "        if idx == 0:\n",
    "            line_kwargs = dict(color=color, label=key)\n",
    "        else:\n",
    "            line_kwargs = dict(color=color)\n",
    "        ax.plot(\n",
    "            ds.states.sel(state_name=\"x2\").sel(time=start_time, method=\"nearest\"),\n",
    "            ds.states.sel(state_name=\"x3\").sel(time=start_time, method=\"nearest\"),\n",
    "            **line_kwargs,\n",
    "        )\n",
    "\n",
    "ax.set_xlim([-30, 30])\n",
    "ax.set_ylim([10, 50])\n",
    "ax.legend()"
   ]
  },
  {
   "cell_type": "code",
   "execution_count": null,
   "metadata": {},
   "outputs": [],
   "source": [
    "import seaborn as sns\n",
    "\n",
    "fig, axs = plt.subplots(ncols=3, nrows=1, figsize=(15, 5))\n",
    "for idx, (key, ds) in enumerate(forecast_test.items()):\n",
    "    ax = axs[idx]\n",
    "    sns.heatmap(ds.M, ax=ax, cmap=\"RdBu_r\", vmin=-1, vmax=1, square=True, annot=True)\n",
    "    ax.set_title(key)\n",
    "fig.tight_layout()"
   ]
  },
  {
   "cell_type": "code",
   "execution_count": null,
   "metadata": {},
   "outputs": [],
   "source": []
  }
 ],
 "metadata": {
  "kernelspec": {
   "display_name": "climNum",
   "language": "python",
   "name": "python3"
  },
  "language_info": {
   "codemirror_mode": {
    "name": "ipython",
    "version": 3
   },
   "file_extension": ".py",
   "mimetype": "text/x-python",
   "name": "python",
   "nbconvert_exporter": "python",
   "pygments_lexer": "ipython3",
   "version": "3.10.9"
  }
 },
 "nbformat": 4,
 "nbformat_minor": 2
}
