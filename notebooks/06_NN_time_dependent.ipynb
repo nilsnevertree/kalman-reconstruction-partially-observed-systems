{
 "cells": [
  {
   "cell_type": "code",
   "execution_count": null,
   "metadata": {},
   "outputs": [],
   "source": [
    "import numpy as np\n",
    "import xarray as xr\n",
    "from kalman_reconstruction.pipeline import (\n",
    "    xarray_Kalman_smoother_time_dependent,\n",
    "    xarray_Kalman_SEM_time_dependent,\n",
    "    add_random_variable,\n",
    "    from_standard_dataset,\n",
    "    to_standard_dataset,\n",
    "    _input_matrices_H_R_from_n_p,\n",
    "    forcast_from_kalman,\n",
    "    perfect_forcast,\n",
    ")\n",
    "from kalman_reconstruction import example_models\n",
    "from kalman_reconstruction.statistics import (\n",
    "    coverage,\n",
    "    xarray_coverage_prob,\n",
    "    xarray_RMSE,\n",
    "    normalize,\n",
    ")\n",
    "from kalman_reconstruction.custom_plot import (\n",
    "    plot_state_with_probability,\n",
    "    set_custom_rcParams,\n",
    "    plot_colors,\n",
    "    adjust_lightness,\n",
    ")\n",
    "import matplotlib.pyplot as plt\n",
    "from kalman_reconstruction import statistics\n",
    "\n",
    "from matplotlib.figure import Figure\n",
    "from os import PathLike\n",
    "from pathlib import Path\n",
    "from typing import Dict\n",
    "import seaborn as sns\n",
    "\n",
    "set_custom_rcParams()\n",
    "# plt.rcParams[\"figure.figsize\"] = (8, 5)\n",
    "colors = plt.rcParams[\"axes.prop_cycle\"].by_key()[\"color\"]"
   ]
  },
  {
   "cell_type": "code",
   "execution_count": null,
   "metadata": {},
   "outputs": [],
   "source": [
    "## LIGHT THEME\n",
    "plt.style.use(\"seaborn-v0_8-whitegrid\")\n",
    "dark_color = [0.3, 0.3, 0.3]\n",
    "light_color = [0.8, 0.8, 0.8]\n",
    "lightness_0 = 0.75\n",
    "lightness_1 = 0.5\n",
    "cmap = \"rocket\"\n",
    "cmap_r = \"rocket_r\"\n",
    "\n",
    "# ### DARK THEME\n",
    "# plt.style.use(\"dark_background\")\n",
    "# dark_color = [0.7, 0.7, 0.7]\n",
    "# light_color = [0.2, 0.2, 0.2]\n",
    "# lightness_0 = 1.15\n",
    "# lightness_1 = 1.5\n",
    "# cmap = \"rocket_r\"\n",
    "# cmap_r = \"rocket\"\n",
    "\n",
    "\n",
    "colors = set_custom_rcParams()\n",
    "plt.rcParams[\"axes.grid\"] = True\n",
    "plot_colors(colors)\n",
    "\n",
    "variables_color = dict()\n",
    "variables_color[\"x2\"] = colors[0]\n",
    "variables_color[\"x3\"] = colors[1]\n",
    "variables_color[\"z1\"] = colors[2]\n",
    "variables_color[\"z2\"] = colors[3]\n",
    "variables_color[\"z3\"] = colors[4]\n",
    "variables_color[\"x1\"] = colors[5]"
   ]
  },
  {
   "cell_type": "code",
   "execution_count": null,
   "metadata": {},
   "outputs": [],
   "source": [
    "REPO_PATH = Path(\".\").resolve().parent\n",
    "results_path = REPO_PATH / Path(\"results\") / \"Report\" / \"method_enhancement\"\n",
    "results_path.mkdir(parents=True, exist_ok=True)\n",
    "SAVE_FIGURES = True\n",
    "\n",
    "\n",
    "def save_fig(fig: Figure, relative_path: PathLike, kwargs: Dict = dict()):\n",
    "    store_path = results_path / relative_path\n",
    "    store_path.parent.mkdir(parents=True, exist_ok=True)\n",
    "    if SAVE_FIGURES:\n",
    "        fig.savefig(store_path, **kwargs)\n",
    "    else:\n",
    "        pass"
   ]
  },
  {
   "cell_type": "code",
   "execution_count": null,
   "metadata": {},
   "outputs": [
    {
     "name": "stdout",
     "output_type": "stream",
     "text": [
      "20\n"
     ]
    }
   ],
   "source": [
    "seed = 39264\n",
    "variance = 5\n",
    "nb_iter_SEM = 30\n",
    "dt = 0.005\n",
    "number_loops = 10\n",
    "forcast_duration = 0.5\n",
    "forecast_length = int(forcast_duration / dt)\n",
    "\n",
    "simga_in_time = 0.1\n",
    "sigma = int(simga_in_time / dt)\n",
    "print(sigma)\n",
    "\n",
    "start_times = np.arange(10 * dt, number_loops, 2.6 * forcast_duration)\n",
    "model_result = example_models.Lorenz_63_xarray(\n",
    "    dt=dt, time_length=number_loops, time_steps=None\n",
    ")\n",
    "\n",
    "rng1 = np.random.default_rng(seed=seed)\n",
    "rng2 = np.random.default_rng(seed=seed + 1)\n",
    "rng3 = np.random.default_rng(seed=seed + 2)\n",
    "rng4 = np.random.default_rng(seed=seed + 3)"
   ]
  },
  {
   "attachments": {},
   "cell_type": "markdown",
   "metadata": {},
   "source": [
    "### Plot example of Lorenz Model\n"
   ]
  },
  {
   "cell_type": "code",
   "execution_count": null,
   "metadata": {},
   "outputs": [],
   "source": [
    "gs_kw = dict(height_ratios=[1.5, 1], hspace=0.001)\n",
    "fig, axs = plt.subplots(\n",
    "    nrows=2,\n",
    "    ncols=1,\n",
    "    figsize=(4, 5),\n",
    "    sharex=False,\n",
    "    sharey=False,\n",
    "    gridspec_kw=gs_kw,\n",
    "    layout=\"constrained\",\n",
    ")\n",
    "\n",
    "stop = 5\n",
    "for var in model_result.data_vars:\n",
    "    axs[0].plot(\n",
    "        model_result.time,\n",
    "        model_result[var],\n",
    "        label=var,\n",
    "        linewidth=3,\n",
    "    )\n",
    "\n",
    "axs[0].set_xlabel(\"Time in cycles of Lorenz63\")\n",
    "axs[0].set_ylabel(\"Values of states\")\n",
    "# axs[0].set_title(r\"Example Evolution of $\\overline{x}$\")\n",
    "axs[0].legend(loc=\"lower right\", handlelength=1)\n",
    "axs[0].set_xlim(0, stop)\n",
    "used_loops = model_result.sel(time=slice(0, stop))\n",
    "sc = axs[1].scatter(\n",
    "    x=used_loops[\"x2\"],\n",
    "    y=used_loops[\"x3\"],\n",
    "    c=used_loops[\"x1\"],\n",
    "    cmap=\"flare\",\n",
    "    s=5,\n",
    ")\n",
    "cbar = fig.colorbar(mappable=sc, ax=axs[1], location=\"right\", pad=-0.04)\n",
    "cbar.ax.set_title(\"x1\", fontdict=dict(size=12))\n",
    "axs[1].set_xlabel(\"x2\")\n",
    "axs[1].set_ylabel(\"x3\")\n",
    "# axs[1].set_title(\"Spacial Evolution\")\n",
    "# fig.tight_layout()\n",
    "save_fig(fig, relative_path=\"Example_Lorenz63.pdf\")"
   ]
  },
  {
   "cell_type": "code",
   "execution_count": null,
   "metadata": {},
   "outputs": [],
   "source": [
    "# dictonaries to store the input data and the results of the Kalman-SEM\n",
    "data_train = dict()\n",
    "kalman_train = dict()"
   ]
  },
  {
   "cell_type": "code",
   "execution_count": null,
   "metadata": {},
   "outputs": [],
   "source": [
    "names = [\n",
    "    \"0 latent\",\n",
    "    \"1 latent\",\n",
    "    \"2 latent\",\n",
    "    # \"$x = [x_2, x_3, z_1, z_2, z_3]$\",\n",
    "]"
   ]
  },
  {
   "attachments": {},
   "cell_type": "markdown",
   "metadata": {},
   "source": [
    "### Apply the Kalman SEM using latent variables \n"
   ]
  },
  {
   "attachments": {},
   "cell_type": "markdown",
   "metadata": {},
   "source": [
    "#### 0 latent variables"
   ]
  },
  {
   "cell_type": "code",
   "execution_count": null,
   "metadata": {},
   "outputs": [
    {
     "name": "stderr",
     "output_type": "stream",
     "text": [
      "100%|██████████| 30/30 [34:21<00:00, 68.70s/it]\n"
     ]
    }
   ],
   "source": [
    "new_name = names[0]\n",
    "\n",
    "data_train[new_name] = model_result.copy()\n",
    "# Run Klman_SEM\n",
    "kalman_train[new_name] = xarray_Kalman_SEM_time_dependent(\n",
    "    ds=data_train[new_name],\n",
    "    observation_variables=[\"x2\", \"x3\"],\n",
    "    state_variables=[\"x2\", \"x3\"],\n",
    "    nb_iter_SEM=nb_iter_SEM,\n",
    "    variance_obs_comp=0.0001,\n",
    "    sigma=sigma,\n",
    ")\n",
    "\n",
    "fig, ax = plt.subplots(1, 1)\n",
    "for var in kalman_train[new_name].state_name:\n",
    "    var = str(var.values)\n",
    "    plot_state_with_probability(\n",
    "        ax=ax,\n",
    "        x_value=kalman_train[new_name].time,\n",
    "        state=kalman_train[new_name].states.sel(state_name=var),\n",
    "        prob=kalman_train[new_name].covariance.sel(state_name=var, state_name_copy=var),\n",
    "        line_kwargs=dict(label=var, color=variables_color[var]),\n",
    "    )\n",
    "\n",
    "ax.legend()\n",
    "# ax.set_xlim((0, 2))\n",
    "ax.set_xlabel(\"time\")\n",
    "ax.set_ylabel(\"Values\")\n",
    "ax.set_title(\"Using multiple random latent variables\");"
   ]
  },
  {
   "attachments": {},
   "cell_type": "markdown",
   "metadata": {},
   "source": [
    "#### 1 latent variables"
   ]
  },
  {
   "cell_type": "code",
   "execution_count": null,
   "metadata": {},
   "outputs": [
    {
     "name": "stderr",
     "output_type": "stream",
     "text": [
      "  0%|          | 0/30 [00:00<?, ?it/s]"
     ]
    },
    {
     "name": "stderr",
     "output_type": "stream",
     "text": [
      "100%|██████████| 30/30 [45:56<00:00, 91.88s/it] \n"
     ]
    },
    {
     "data": {
      "text/plain": [
       "Text(0.5, 0.98, 'Using multiple random latent variables')"
      ]
     },
     "execution_count": null,
     "metadata": {},
     "output_type": "execute_result"
    }
   ],
   "source": [
    "old_name = names[0]\n",
    "new_name = names[1]\n",
    "\n",
    "data_train[new_name] = data_train[old_name].copy()\n",
    "# Add latent variable\n",
    "add_random_variable(\n",
    "    data_train[new_name], var_name=\"z1\", random_generator=rng1, variance=variance\n",
    ")\n",
    "# Run Klman_SEM\n",
    "kalman_train[new_name] = xarray_Kalman_SEM_time_dependent(\n",
    "    ds=data_train[new_name],\n",
    "    observation_variables=[\"x2\", \"x3\"],\n",
    "    state_variables=[\"x2\", \"x3\", \"z1\"],\n",
    "    nb_iter_SEM=nb_iter_SEM,\n",
    "    variance_obs_comp=0.0001,\n",
    "    sigma=sigma,\n",
    ")\n",
    "\n",
    "fig, axs = plt.subplots(ncols=2, nrows=1, figsize=(12, 6), sharex=True, sharey=True)\n",
    "\n",
    "for var in data_train[new_name].data_vars:\n",
    "    var = str(var)\n",
    "    plot_state_with_probability(\n",
    "        ax=axs[0],\n",
    "        x_value=data_train[new_name].time,\n",
    "        state=data_train[new_name][var],\n",
    "        prob=0,\n",
    "        line_kwargs=dict(label=var, color=variables_color[var]),\n",
    "    )\n",
    "for var in kalman_train[new_name].state_name:\n",
    "    var = str(var.values)\n",
    "    plot_state_with_probability(\n",
    "        ax=axs[1],\n",
    "        x_value=kalman_train[new_name].time,\n",
    "        state=kalman_train[new_name].states.sel(state_name=var),\n",
    "        prob=kalman_train[new_name].covariance.sel(state_name=var, state_name_copy=var),\n",
    "        line_kwargs=dict(label=var, color=variables_color[var]),\n",
    "    )\n",
    "\n",
    "\n",
    "for ax in axs.flatten():\n",
    "    ax.legend()\n",
    "    # ax.set_xlim((0, 2))\n",
    "    ax.set_xlabel(\"time\")\n",
    "    ax.set_ylabel(\"Values\")\n",
    "fig.suptitle(\"Using multiple random latent variables\")"
   ]
  },
  {
   "attachments": {},
   "cell_type": "markdown",
   "metadata": {},
   "source": [
    "#### 2 latent variables"
   ]
  },
  {
   "cell_type": "code",
   "execution_count": null,
   "metadata": {},
   "outputs": [
    {
     "name": "stderr",
     "output_type": "stream",
     "text": [
      "  0%|          | 0/30 [00:00<?, ?it/s]"
     ]
    },
    {
     "name": "stderr",
     "output_type": "stream",
     "text": [
      "100%|██████████| 30/30 [25:11<00:00, 50.38s/it]\n"
     ]
    },
    {
     "data": {
      "text/plain": [
       "Text(0.5, 0.98, 'Using multiple random latent variables')"
      ]
     },
     "execution_count": null,
     "metadata": {},
     "output_type": "execute_result"
    }
   ],
   "source": [
    "old_name = names[1]\n",
    "new_name = names[2]\n",
    "\n",
    "data_train[new_name] = data_train[old_name].copy()\n",
    "data_train[new_name][\"z1\"] = normalize(\n",
    "    kalman_train[old_name].states.sel(state_name=\"z1\")\n",
    ")\n",
    "# Add latent variable\n",
    "add_random_variable(\n",
    "    data_train[new_name], var_name=\"z2\", random_generator=rng1, variance=variance\n",
    ")\n",
    "# Run Klman_SEM\n",
    "kalman_train[new_name] = xarray_Kalman_SEM_time_dependent(\n",
    "    ds=data_train[new_name],\n",
    "    observation_variables=[\"x2\", \"x3\"],\n",
    "    state_variables=[\"x2\", \"x3\", \"z1\", \"z2\"],\n",
    "    nb_iter_SEM=nb_iter_SEM,\n",
    "    variance_obs_comp=0.0001,\n",
    "    sigma=sigma,\n",
    ")\n",
    "\n",
    "fig, axs = plt.subplots(ncols=2, nrows=1, figsize=(12, 6), sharex=True, sharey=True)\n",
    "\n",
    "for var in data_train[new_name].data_vars:\n",
    "    var = str(var)\n",
    "    plot_state_with_probability(\n",
    "        ax=axs[0],\n",
    "        x_value=data_train[new_name].time,\n",
    "        state=data_train[new_name][var],\n",
    "        prob=0,\n",
    "        line_kwargs=dict(label=var, color=variables_color[var]),\n",
    "    )\n",
    "for var in kalman_train[new_name].state_name:\n",
    "    var = str(var.values)\n",
    "    plot_state_with_probability(\n",
    "        ax=axs[1],\n",
    "        x_value=kalman_train[new_name].time,\n",
    "        state=kalman_train[new_name].states.sel(state_name=var),\n",
    "        prob=kalman_train[new_name].covariance.sel(state_name=var, state_name_copy=var),\n",
    "        line_kwargs=dict(label=var, color=variables_color[var]),\n",
    "    )\n",
    "\n",
    "\n",
    "for ax in axs.flatten():\n",
    "    ax.legend()\n",
    "    # ax.set_xlim((0, 2))\n",
    "    ax.set_xlabel(\"time\")\n",
    "    ax.set_ylabel(\"Values\")\n",
    "fig.suptitle(\"Using multiple random latent variables\")"
   ]
  },
  {
   "attachments": {},
   "cell_type": "markdown",
   "metadata": {},
   "source": [
    "#### 3 latent variables"
   ]
  },
  {
   "cell_type": "code",
   "execution_count": null,
   "metadata": {},
   "outputs": [],
   "source": [
    "# old_name = names[2]\n",
    "# new_name = names[3]\n",
    "\n",
    "# data_train[new_name] = data_train[old_name].copy()\n",
    "# data_train[new_name][\"z2\"] = kalman_train[old_name].states.sel(state_name=\"z2\")\n",
    "# # Add latent variable\n",
    "# add_random_variable(\n",
    "#     data_train[new_name], var_name=\"z3\", random_generator=rng1, variance=variance\n",
    "# )\n",
    "# # Run Klman_SEM\n",
    "# kalman_train[new_name] = xarray_Kalman_SEM_time_dependent(\n",
    "#     ds=data_train[new_name],\n",
    "#     observation_variables=[\"x2\", \"x3\"],\n",
    "#     state_variables=[\"x2\", \"x3\", \"z1\", \"z2\", \"z3\"],\n",
    "#     nb_iter_SEM=nb_iter_SEM,\n",
    "#     variance_obs_comp=0.0001, sigma = sigma,\n",
    "# )\n",
    "\n",
    "# fig, axs = plt.subplots(ncols = 2, nrows = 1, figsize = (12,6), sharex=True, sharey=True)\n",
    "\n",
    "# for var in data_train[new_name].data_vars:\n",
    "#     var = str(var)\n",
    "#     plot_state_with_probability(\n",
    "#         ax=axs[0],\n",
    "#         x_value=data_train[new_name].time,\n",
    "#         state=data_train[new_name][var],\n",
    "#         prob=0,\n",
    "#         line_kwargs=dict(label = var, color= variables_color[var]),\n",
    "#     )\n",
    "# for var in kalman_train[new_name].state_name:\n",
    "#     var = str(var.values)\n",
    "#     plot_state_with_probability(\n",
    "#         ax=axs[1],\n",
    "#         x_value=kalman_train[new_name].time,\n",
    "#         state=kalman_train[new_name].states.sel(state_name=var),\n",
    "#         prob=kalman_train[new_name].covariance.sel(state_name=var, state_name_copy=var),\n",
    "#         line_kwargs=dict(label = var, color= variables_color[var]),\n",
    "#     )\n",
    "\n",
    "\n",
    "# for ax in axs.flatten():\n",
    "#     ax.legend()\n",
    "#     # ax.set_xlim((0, 2))\n",
    "#     ax.set_xlabel(\"time\")\n",
    "#     ax.set_ylabel(\"Values\")\n",
    "# fig.suptitle(\"Using multiple random latent variables\")"
   ]
  },
  {
   "attachments": {},
   "cell_type": "markdown",
   "metadata": {},
   "source": [
    "## Test the forecast skill\n",
    "To test the forecast skill, we will create a test dataset starting from the end of the initial training data_train."
   ]
  },
  {
   "cell_type": "code",
   "execution_count": null,
   "metadata": {},
   "outputs": [],
   "source": [
    "# test_initial_condition = np.array(\n",
    "#     [model_result[var].isel(time=-1).values for var in [\"x1\", \"x2\", \"x3\"]]\n",
    "# )\n",
    "# test_initial_condition"
   ]
  },
  {
   "cell_type": "code",
   "execution_count": null,
   "metadata": {},
   "outputs": [],
   "source": [
    "# model_result_test = example_models.Lorenz_63_xarray(\n",
    "#     dt=dt,\n",
    "#     time_length=number_loops,\n",
    "#     time_steps=None,\n",
    "#     initial_condition=test_initial_condition,\n",
    "# )\n",
    "model_result_test = model_result.copy()"
   ]
  },
  {
   "cell_type": "code",
   "execution_count": null,
   "metadata": {},
   "outputs": [],
   "source": [
    "data_test = dict()\n",
    "kalman_test = kalman_train  # use the trained ``M`` and ``Q`` for the smoother later on\n",
    "smoother_test = dict()\n",
    "forecast_test = dict()"
   ]
  },
  {
   "attachments": {},
   "cell_type": "markdown",
   "metadata": {},
   "source": [
    "Create the test dataset with newly initialized latent varibables\n",
    "\n",
    "Make sure to swap the random number generator between here and the initialization before to check if it still works fine.\n",
    "\n",
    "It is sufficient here to only apply the Kalman smoother to the dataset in order to get proper results, as ``M`` and ``Q`` were trained on the period before."
   ]
  },
  {
   "cell_type": "code",
   "execution_count": null,
   "metadata": {},
   "outputs": [],
   "source": [
    "\"\"\"0 Latent\"\"\"\n",
    "\n",
    "new_name = names[0]\n",
    "data_test[new_name] = model_result_test.copy()\n",
    "\n",
    "\"\"\"1 Latent\"\"\"\n",
    "old_name = names[0]\n",
    "new_name = names[1]\n",
    "# copy dataset\n",
    "data_test[new_name] = data_test[old_name].copy()\n",
    "# Add latent variable\n",
    "add_random_variable(\n",
    "    data_test[new_name], var_name=\"z1\", random_generator=rng3, variance=variance\n",
    ")\n",
    "\n",
    "\"\"\"2 Latent\"\"\"\n",
    "old_name = names[1]\n",
    "new_name = names[2]\n",
    "# copy dataset\n",
    "data_test[new_name] = data_test[old_name].copy()\n",
    "data_test[new_name][\"z1\"] = data_test[old_name][\"z1\"]\n",
    "# Add latent variable\n",
    "add_random_variable(\n",
    "    data_test[new_name], var_name=\"z2\", random_generator=rng4, variance=variance\n",
    ")\n",
    "\n",
    "\n",
    "# # \"\"\"3 Latent\"\"\"\n",
    "# # old_name = names[2]\n",
    "# # new_name = names[3]\n",
    "# # # copy dataset\n",
    "# # data_test[new_name] = data_test[old_name].copy()\n",
    "# # data_test[new_name][\"z2\"] = data_test[old_name].states.sel(state_name=\"z2\")\n",
    "# # # Add latent variable\n",
    "# # add_random_variable(\n",
    "# #     data_test[new_name], var_name=\"z3\", random_generator=rng1, variance=variance\n",
    "# # )"
   ]
  },
  {
   "cell_type": "code",
   "execution_count": null,
   "metadata": {},
   "outputs": [
    {
     "data": {
      "text/plain": [
       "[<matplotlib.lines.Line2D at 0x1c3ae349f90>]"
      ]
     },
     "execution_count": null,
     "metadata": {},
     "output_type": "execute_result"
    }
   ],
   "source": [
    "plt.plot(data_test[names[2]].x2, label=\"x2\")\n",
    "plt.plot(data_test[names[2]].x3, label=\"x3\")\n",
    "plt.plot(data_test[names[2]].z1, label=\"z1\")\n",
    "plt.plot(data_test[names[2]].z2, label=\"z2\", zorder=0)"
   ]
  },
  {
   "attachments": {},
   "cell_type": "markdown",
   "metadata": {},
   "source": [
    "### Perform Kalman smoother using the last timestep as start.\n",
    "The ``M`` and ``Q`` Matrices from the ``Kalman_SEM`` are used."
   ]
  },
  {
   "cell_type": "code",
   "execution_count": null,
   "metadata": {},
   "outputs": [],
   "source": [
    "idx = -1\n",
    "\"\"\"0 Latent\"\"\"\n",
    "observation_variables = [\"x2\", \"x3\"]\n",
    "state_variables = [\"x2\", \"x3\"]\n",
    "H, R = _input_matrices_H_R_from_n_p(\n",
    "    n=len(state_variables), p=len(observation_variables)\n",
    ")\n",
    "smoother_test[names[0]] = xarray_Kalman_smoother_time_dependent(\n",
    "    ds=data_test[names[0]],\n",
    "    state_variables=state_variables,\n",
    "    observation_variables=observation_variables,\n",
    "    initial_covariance_matrix=kalman_test[names[0]].covariance.isel(time=idx),\n",
    "    M=kalman_test[names[0]].M.values,\n",
    "    Q=kalman_test[names[0]].Q.values,\n",
    "    H=H,\n",
    "    R=R,\n",
    "    estimation_idx=idx,\n",
    "    dim=\"time\",\n",
    ")\n",
    "\n",
    "\"\"\"1 Latent\"\"\"\n",
    "observation_variables = [\"x2\", \"x3\"]\n",
    "state_variables = [\"x2\", \"x3\", \"z1\"]\n",
    "H, R = _input_matrices_H_R_from_n_p(\n",
    "    n=len(state_variables), p=len(observation_variables)\n",
    ")\n",
    "smoother_test[names[1]] = xarray_Kalman_smoother_time_dependent(\n",
    "    ds=data_test[names[1]],\n",
    "    state_variables=state_variables,\n",
    "    observation_variables=observation_variables,\n",
    "    initial_covariance_matrix=kalman_test[names[1]].covariance.isel(time=idx),\n",
    "    M=kalman_test[names[1]].M.values,\n",
    "    Q=kalman_test[names[1]].Q.values,\n",
    "    H=H,\n",
    "    R=R,\n",
    "    estimation_idx=idx,\n",
    "    dim=\"time\",\n",
    ")\n",
    "\n",
    "\"\"\"2 Latent\"\"\"\n",
    "observation_variables = [\"x2\", \"x3\"]\n",
    "state_variables = [\"x2\", \"x3\", \"z1\", \"z2\"]\n",
    "H, R = _input_matrices_H_R_from_n_p(\n",
    "    n=len(state_variables), p=len(observation_variables)\n",
    ")\n",
    "smoother_test[names[2]] = xarray_Kalman_smoother_time_dependent(\n",
    "    ds=data_test[names[2]],\n",
    "    state_variables=state_variables,\n",
    "    observation_variables=observation_variables,\n",
    "    initial_covariance_matrix=kalman_test[names[2]].covariance.isel(time=idx),\n",
    "    M=kalman_test[names[2]].M.values,\n",
    "    Q=kalman_test[names[2]].Q.values,\n",
    "    H=H,\n",
    "    R=R,\n",
    "    estimation_idx=idx,\n",
    "    dim=\"time\",\n",
    ")\n",
    "\n",
    "'''\n",
    "# \"\"\"3 Latent\"\"\"\n",
    "# observation_variables = [\"x2\", \"x3\"]\n",
    "# state_variables=[\"x2\", \"x3\", \"z1\", \"z2\", \"z3\"]\n",
    "\n",
    "# H, R = _input_matrices_H_R_from_n_p(n=len(state_variables), p=len(observation_variables))\n",
    "# smoother_test[names[3]] = xarray_Kalman_smoother_time_dependent(\n",
    "#     ds=data_test[names[2]],\n",
    "#     state_variables=state_variables,\n",
    "#     observation_variables=observation_variables,\n",
    "#     initial_covariance_matrix=kalman_test[names[2]].covariance.isel(time=idx),\n",
    "#     M=kalman_test[names[2]].M.values,\n",
    "#     Q=kalman_test[names[2]].Q.values,\n",
    "#     H=H,\n",
    "#     R=R,\n",
    "#     estimation_idx=idx,\n",
    "#     dim=\"time\",\n",
    "# )\n",
    "''';"
   ]
  },
  {
   "cell_type": "code",
   "execution_count": null,
   "metadata": {},
   "outputs": [
    {
     "data": {
      "text/plain": [
       "<matplotlib.legend.Legend at 0x1c3ae373310>"
      ]
     },
     "execution_count": null,
     "metadata": {},
     "output_type": "execute_result"
    }
   ],
   "source": [
    "plt.plot(\n",
    "    smoother_test[names[2]].state_smooth,\n",
    "    label=smoother_test[names[2]].state_name.values,\n",
    ")\n",
    "plt.legend()"
   ]
  },
  {
   "attachments": {},
   "cell_type": "markdown",
   "metadata": {},
   "source": [
    "### Forcast of the system \n",
    "used to compute the RMSE and coverage_prbability"
   ]
  },
  {
   "attachments": {},
   "cell_type": "markdown",
   "metadata": {},
   "source": [
    "##### check if the Matrices are ordered correct\n",
    "This can be used, but shows that a tranpose of the matrix ``M`` leads to bad results"
   ]
  },
  {
   "cell_type": "code",
   "execution_count": null,
   "metadata": {},
   "outputs": [],
   "source": [
    "# kalman_test_false = dict()\n",
    "# for key in names:\n",
    "#     kalman_test_false[key] = kalman_test[key].copy()\n",
    "#     da = kalman_test_false[key][\"M\"]\n",
    "#     kalman_test_false[key][\"M\"] = (\n",
    "#         [\"time\", \"state_name\", \"state_name_copy\"],\n",
    "#         np.transpose(da.values, axes = [0,2,1])\n",
    "#         )"
   ]
  },
  {
   "cell_type": "code",
   "execution_count": null,
   "metadata": {},
   "outputs": [],
   "source": [
    "forecast_test = dict()\n",
    "for nb_latent in names:\n",
    "    forecast_test[nb_latent] = forcast_from_kalman(\n",
    "        ds_kalman_SEM=kalman_test[nb_latent],\n",
    "        ds_state_covariance=smoother_test[nb_latent],\n",
    "        state_var_name=\"state_smooth\",\n",
    "        covariance_var_name=\"covariance_smooth\",\n",
    "        forecast_length=forecast_length,\n",
    "    )"
   ]
  },
  {
   "attachments": {},
   "cell_type": "markdown",
   "metadata": {},
   "source": [
    "### Convert to more readable dataset"
   ]
  },
  {
   "cell_type": "code",
   "execution_count": null,
   "metadata": {},
   "outputs": [],
   "source": [
    "forecast_test_state = dict()\n",
    "forecast_test_covariance = dict()\n",
    "for nb_latent in names:\n",
    "    forecast_test_state[nb_latent] = from_standard_dataset(forecast_test[nb_latent])\n",
    "    forecast_test_covariance[nb_latent] = from_standard_dataset(\n",
    "        forecast_test[nb_latent], var_name=\"covariance\"\n",
    "    )\n",
    "\n",
    "\n",
    "forecast_test_covariance[nb_latent]"
   ]
  },
  {
   "cell_type": "code",
   "execution_count": null,
   "metadata": {},
   "outputs": [
    {
     "data": {
      "text/plain": [
       "Text(0.5, 0, 'Time')"
      ]
     },
     "execution_count": null,
     "metadata": {},
     "output_type": "execute_result"
    }
   ],
   "source": [
    "fig, axs = plt.subplots(nrows=2, ncols=1, sharex=True, sharey=False, figsize=(8, 5))\n",
    "\n",
    "# plot x2\n",
    "for var, ax in zip([\"x2\", \"x3\"], axs):\n",
    "    ax.plot(\n",
    "        model_result_test.time,\n",
    "        model_result_test[var],\n",
    "        color=dark_color,\n",
    "        alpha=0.75,\n",
    "        linewidth=2,\n",
    "        # label=var,\n",
    "    )\n",
    "    ax.set_title(f\"{var}\")\n",
    "for var, ax in zip([\"x2\", \"x3\"], axs):\n",
    "    for idx, key in enumerate(names):\n",
    "        state = forecast_test_state[key][var]\n",
    "        prob = forecast_test_covariance[key][var].sel(state_name_copy=var)\n",
    "        for jdx, start_time in enumerate(start_times):\n",
    "            if jdx == 0:\n",
    "                line_kwargs = dict(\n",
    "                    color=colors[idx],\n",
    "                    label=key,\n",
    "                    linewidth=2,\n",
    "                )\n",
    "            else:\n",
    "                line_kwargs = dict(\n",
    "                    color=colors[idx],\n",
    "                    linewidth=2,\n",
    "                )\n",
    "            plot_state_with_probability(\n",
    "                ax=ax,\n",
    "                x_value=start_time + state[\"horizon\"] * dt,\n",
    "                state=state.sel(time=start_time, method=\"nearest\"),\n",
    "                prob=prob.sel(time=start_time, method=\"nearest\"),\n",
    "                line_kwargs=line_kwargs,\n",
    "                stds=0.64,\n",
    "            )\n",
    "\n",
    "axs[0].set_ylim([-30, 30])\n",
    "ymin, ymax = axs[0].get_ylim()\n",
    "axs[0].set_yticks(np.arange(ymin, ymax, 10))\n",
    "\n",
    "axs[1].set_ylim([0, 45])\n",
    "ymin, ymax = axs[1].get_ylim()\n",
    "axs[1].set_yticks(np.arange(ymin, ymax, 10))\n",
    "\n",
    "for ax in axs:\n",
    "    ax.set_ylabel(\"Values\")\n",
    "    ax.legend()\n",
    "axs[1].set_xlabel(\"Time\")"
   ]
  },
  {
   "attachments": {},
   "cell_type": "markdown",
   "metadata": {},
   "source": [
    "### Create perfect forecast and compare to actuall forecast"
   ]
  },
  {
   "cell_type": "code",
   "execution_count": null,
   "metadata": {},
   "outputs": [],
   "source": [
    "model_standard = to_standard_dataset(ds=model_result_test)\n",
    "perfect = perfect_forcast(model_standard, forecast_length=forecast_length)\n",
    "perfect = from_standard_dataset(perfect)"
   ]
  },
  {
   "cell_type": "code",
   "execution_count": null,
   "metadata": {},
   "outputs": [
    {
     "name": "stderr",
     "output_type": "stream",
     "text": [
      "c:\\Software\\Miniconda3\\envs\\climNum\\lib\\site-packages\\xarray\\core\\computation.py:771: RuntimeWarning: invalid value encountered in sqrt\n",
      "  result_data = func(*input_data)\n",
      "c:\\Software\\Miniconda3\\envs\\climNum\\lib\\site-packages\\xarray\\core\\computation.py:771: RuntimeWarning: invalid value encountered in sqrt\n",
      "  result_data = func(*input_data)\n",
      "c:\\Software\\Miniconda3\\envs\\climNum\\lib\\site-packages\\xarray\\core\\computation.py:771: RuntimeWarning: invalid value encountered in sqrt\n",
      "  result_data = func(*input_data)\n"
     ]
    }
   ],
   "source": [
    "rmse = dict()\n",
    "cov_prob = dict()\n",
    "for key in names:\n",
    "    rmse[key] = xarray_RMSE(\n",
    "        x=forecast_test_state[key],\n",
    "        y=perfect,\n",
    "        dim=\"time\",\n",
    "    )\n",
    "    cov_prob[key] = xarray_coverage_prob(\n",
    "        x=forecast_test_state[key],\n",
    "        y=perfect,\n",
    "        P=forecast_test_covariance[key],\n",
    "        dim=\"time\",\n",
    "    )"
   ]
  },
  {
   "cell_type": "code",
   "execution_count": null,
   "metadata": {},
   "outputs": [],
   "source": [
    "states_to_plot = [\"x2\", \"x3\"]\n",
    "fig = plt.figure()\n",
    "subfigs = subfigs = fig.subfigures(ncols=1, nrows=2)\n",
    "\n",
    "axs_rmse = subfigs[0].subplots(ncols=2, nrows=1, sharex=True, sharey=True)\n",
    "axs_covp = subfigs[1].subplots(ncols=2, nrows=1, sharex=True, sharey=True)\n",
    "\n",
    "\n",
    "for key in names:\n",
    "    for idx, var in enumerate([\"x2\", \"x3\"]):\n",
    "        # plot rmse:\n",
    "        axs_rmse[idx].plot(perfect.horizon * dt, rmse[key][var], label=key)\n",
    "        axs_rmse[idx].set_title(var)\n",
    "        # plot rmse:\n",
    "        axs_covp[idx].plot(\n",
    "            perfect.horizon * dt, cov_prob[key][var].sel(state_name_copy=var), label=key\n",
    "        )\n",
    "        axs_covp[idx].set_xlabel(\"forecast horizon\")\n",
    "axs_rmse[0].set_ylabel(\"RMSE\")\n",
    "axs_covp[0].set_ylabel(\"coverage probability\")\n",
    "\n",
    "for ax in axs_rmse:\n",
    "    ax.legend()\n",
    "    ax.set_ylim((-1, 35))\n",
    "\n",
    "for ax in axs_covp:\n",
    "    ax.axhline(0.5, color=dark_color, alpha=0.5, linestyle=\":\")\n",
    "    ax.legend()\n",
    "\n",
    "\n",
    "# Write a function that takes in the dict of dataset"
   ]
  },
  {
   "cell_type": "code",
   "execution_count": null,
   "metadata": {},
   "outputs": [
    {
     "data": {
      "text/plain": [
       "<matplotlib.legend.Legend at 0x1c3a50786a0>"
      ]
     },
     "execution_count": null,
     "metadata": {},
     "output_type": "execute_result"
    }
   ],
   "source": [
    "fig, ax = plt.subplots(nrows=1, ncols=1, figsize=(6, 4.5))\n",
    "\n",
    "ax.plot(\n",
    "    model_result_test[\"x2\"],\n",
    "    model_result_test[\"x3\"],\n",
    "    color=dark_color,\n",
    "    alpha=0.75,\n",
    "    label=\"truth\",\n",
    ")\n",
    "\n",
    "\n",
    "for (key, ds), color in zip(\n",
    "    forecast_test_state.items(), colors[0 : len(forecast_test)]\n",
    "):\n",
    "    for idx, start_time in enumerate(start_times):\n",
    "        if idx == 0:\n",
    "            line_kwargs = dict(color=color, label=key)\n",
    "        else:\n",
    "            line_kwargs = dict(color=color)\n",
    "        ax.plot(\n",
    "            ds[\"x2\"].sel(time=start_time, method=\"nearest\"),\n",
    "            ds[\"x3\"].sel(time=start_time, method=\"nearest\"),\n",
    "            **line_kwargs,\n",
    "        )\n",
    "\n",
    "ax.set_aspect(\"equal\", adjustable=\"box\")\n",
    "\n",
    "\n",
    "ax.set_xlim([-30, 30])\n",
    "xmin, xmax = ax.get_xlim()\n",
    "ax.set_xticks(np.arange(xmin, xmax, 10), minor=True)\n",
    "\n",
    "ymin, ymax = ax.set_ylim([0, 45])\n",
    "ymin, ymax = ax.get_ylim()\n",
    "ax.set_yticks(np.arange(ymin, ymax, 10))\n",
    "\n",
    "ax.legend()"
   ]
  },
  {
   "attachments": {},
   "cell_type": "markdown",
   "metadata": {},
   "source": [
    "### Visualize the Kernel\n"
   ]
  },
  {
   "cell_type": "code",
   "execution_count": null,
   "metadata": {},
   "outputs": [],
   "source": [
    "from kalman_reconstruction.statistics import gaussian_kernel_1D\n",
    "\n",
    "fig, axs = plt.subplots(\n",
    "    nrows=2, ncols=1, figsize=(4, 5), sharex=True, sharey=True, layout=\"constrained\"\n",
    ")\n",
    "axs = axs.flatten()\n",
    "kernel1 = gaussian_kernel_1D(\n",
    "    x=model_result_test[\"x2\"],\n",
    "    center_idx=300,\n",
    "    axis=0,\n",
    "    sigma=sigma,\n",
    "    same_output_shape=True,\n",
    ")\n",
    "kernel2 = gaussian_kernel_1D(\n",
    "    x=model_result_test[\"x2\"],\n",
    "    center_idx=360,\n",
    "    axis=0,\n",
    "    sigma=sigma,\n",
    "    same_output_shape=True,\n",
    ")\n",
    "for idx, k in enumerate([kernel1, kernel2]):\n",
    "    sc = axs[idx].scatter(\n",
    "        x=model_result_test[\"x2\"],\n",
    "        y=model_result_test[\"x3\"],\n",
    "        c=normalize(k, \"minmax\"),\n",
    "        cmap=cmap,\n",
    "        s=(normalize(k, \"01\") * 50) + 1,\n",
    "        # alpha = 0.5,\n",
    "    )\n",
    "for ax in axs:\n",
    "    ax.set_xlabel(r\"$x_2$\")\n",
    "    ax.set_ylabel(r\"$x_3$\")\n",
    "    ax.set_aspect(\"equal\", adjustable=\"box\")\n",
    "\n",
    "fig.suptitle(\"Example kernels\")\n",
    "plt.colorbar(mappable=sc, ax=axs, label=\"LLR kernel values normalized\")\n",
    "save_fig(fig, relative_path=\"example_kernels.pdf\")"
   ]
  },
  {
   "cell_type": "code",
   "execution_count": null,
   "metadata": {},
   "outputs": [],
   "source": [
    "import seaborn as sns\n",
    "\n",
    "fig, axs = plt.subplots(\n",
    "    ncols=3, nrows=len(start_times), figsize=(10, 10), layout=\"constrained\"\n",
    ")\n",
    "for idx, (key, ds) in enumerate(forecast_test.items()):\n",
    "    ax = axs[:, idx]\n",
    "    for j, start_time in enumerate(start_times):\n",
    "        sns.heatmap(\n",
    "            ds.M.sel(time=start_time, method=\"nearest\"),\n",
    "            ax=ax[j],\n",
    "            cmap=\"RdBu_r\",\n",
    "            vmin=-1,\n",
    "            vmax=1,\n",
    "            square=True,\n",
    "            annot=True,\n",
    "        )\n",
    "        ax[j].set_title(key + f\"t={start_time:.2f}\")"
   ]
  },
  {
   "cell_type": "code",
   "execution_count": null,
   "metadata": {},
   "outputs": [],
   "source": [
    "from pathlib import Path\n",
    "\n",
    "repo_path = Path(\".\").resolve().parent\n",
    "dir_path = repo_path / Path(\n",
    "    \"data/processed/forecast_evaluation_high_resolution/time_dependent\"\n",
    ")\n",
    "dir_path.mkdir(parents=True, exist_ok=True)\n",
    "\n",
    "# save Input\n",
    "save_path = f\"input.nc\"\n",
    "model_result_test.to_netcdf(dir_path / save_path)\n",
    "\n",
    "for key in names:\n",
    "    save_name = key\n",
    "    save_name = save_name.replace(\"$\", \"\")\n",
    "    save_name = save_name.replace(\",\", \"\")\n",
    "    save_name = save_name.replace(\"[\", \"\")\n",
    "    save_name = save_name.replace(\"]\", \"\")\n",
    "    save_name = save_name.replace(\"_\", \"\")\n",
    "    save_name = save_name.replace(\" \", \"_\")\n",
    "\n",
    "    # save State\n",
    "    save_path = f\"state_{save_name}.nc\"\n",
    "    forecast_test_state[key].to_netcdf(dir_path / save_path)\n",
    "    # save Covarinace\n",
    "    save_path = f\"covariance_{save_name}.nc\"\n",
    "    forecast_test_covariance[key].to_netcdf(dir_path / save_path)\n",
    "    # save Coverage probability\n",
    "    save_path = f\"coverage_probability_{save_name}.nc\"\n",
    "    cov_prob[key].to_netcdf(dir_path / save_path)\n",
    "    # save RMSE\n",
    "    save_path = f\"rmse_{save_name}.nc\"\n",
    "    rmse[key].to_netcdf(dir_path / save_path)"
   ]
  },
  {
   "cell_type": "code",
   "execution_count": null,
   "metadata": {},
   "outputs": [],
   "source": []
  }
 ],
 "metadata": {
  "kernelspec": {
   "display_name": "climNum",
   "language": "python",
   "name": "python3"
  },
  "language_info": {
   "codemirror_mode": {
    "name": "ipython",
    "version": 3
   },
   "file_extension": ".py",
   "mimetype": "text/x-python",
   "name": "python",
   "nbconvert_exporter": "python",
   "pygments_lexer": "ipython3",
   "version": "3.10.9"
  }
 },
 "nbformat": 4,
 "nbformat_minor": 2
}
