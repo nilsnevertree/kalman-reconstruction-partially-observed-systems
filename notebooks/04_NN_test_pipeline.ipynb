{
 "cells": [
  {
   "cell_type": "code",
   "execution_count": null,
   "metadata": {},
   "outputs": [],
   "source": [
    "import numpy as np\n",
    "import xarray as xr\n",
    "from kalman_reconstruction import pipeline\n",
    "from kalman_reconstruction import example_models\n",
    "from kalman_reconstruction.custom_plot import (\n",
    "    plot_state_with_probability,\n",
    "    set_custom_rcParams,\n",
    ")\n",
    "import matplotlib.pyplot as plt\n",
    "from kalman_reconstruction.kalman import (\n",
    "    Kalman_filter,\n",
    "    Kalman_smoother,\n",
    ")\n",
    "\n",
    "set_custom_rcParams()"
   ]
  },
  {
   "cell_type": "code",
   "execution_count": null,
   "metadata": {},
   "outputs": [
    {
     "data": {
      "text/plain": [
       "<module 'kalman_reconstruction.pipeline' from 'C:\\\\Users\\\\Niebaum\\\\Documents\\\\Repositories\\\\kalman-reconstruction-partially-observered-systems\\\\kalman_reconstruction\\\\pipeline.py'>"
      ]
     },
     "execution_count": null,
     "metadata": {},
     "output_type": "execute_result"
    }
   ],
   "source": [
    "from importlib import reload\n",
    "\n",
    "reload(pipeline)"
   ]
  },
  {
   "attachments": {},
   "cell_type": "markdown",
   "metadata": {},
   "source": [
    "Now there can be easily multiple random variables add and the Kalman_SEM performs on all of them"
   ]
  },
  {
   "cell_type": "code",
   "execution_count": null,
   "metadata": {},
   "outputs": [],
   "source": [
    "data = example_models.Lorenz_63_xarray(dt=0.01, time_length=5, time_steps=None)\n",
    "seed = 345831200837\n",
    "variance = 5\n",
    "rng1 = np.random.default_rng(seed=seed)\n",
    "rng2 = np.random.default_rng(seed=seed + 1)\n",
    "rng3 = np.random.default_rng(seed=seed + 2)\n",
    "rng4 = np.random.default_rng(seed=seed + 3)\n",
    "pipeline.add_random_variable(\n",
    "    data, var_name=\"z1\", random_generator=rng1, variance=variance\n",
    ")\n",
    "pipeline.add_random_variable(\n",
    "    data, var_name=\"z2\", random_generator=rng2, variance=variance\n",
    ")\n",
    "pipeline.add_random_variable(\n",
    "    data, var_name=\"z3\", random_generator=rng3, variance=variance\n",
    ")\n",
    "pipeline.add_random_variable(\n",
    "    data, var_name=\"z4\", random_generator=rng4, variance=variance\n",
    ")"
   ]
  },
  {
   "cell_type": "code",
   "execution_count": null,
   "metadata": {},
   "outputs": [
    {
     "name": "stderr",
     "output_type": "stream",
     "text": [
      "100%|██████████| 10/10 [00:03<00:00,  2.76it/s]\n"
     ]
    }
   ],
   "source": [
    "test = pipeline.xarray_Kalman_SEM(\n",
    "    ds=data,\n",
    "    observation_variables=[\"x2\", \"x3\"],\n",
    "    random_variables=[\"z1\", \"z2\"],\n",
    "    nb_iter_SEM=10,\n",
    "    variance_obs_comp=0.0001,\n",
    ")\n",
    "\n",
    "fig, ax = plt.subplots(1, 1)\n",
    "for var in test.state_name:\n",
    "    plot_state_with_probability(\n",
    "        ax=ax,\n",
    "        x_value=test.time,\n",
    "        state=test.states.sel(state_name=var),\n",
    "        prob=test.covariance.sel(state_name=var, state_name_copy=var),\n",
    "        line_kwargs={\"label\": var.values},\n",
    "    )\n",
    "\n",
    "ax.legend()\n",
    "ax.set_xlim((0, 2))\n",
    "ax.set_xlabel(\"time\")\n",
    "ax.set_ylabel(\"Values\")\n",
    "ax.set_title(\"Using multiple random latent variables\");"
   ]
  },
  {
   "attachments": {},
   "cell_type": "markdown",
   "metadata": {},
   "source": [
    "## Test on Filter and Smoother results"
   ]
  },
  {
   "attachments": {},
   "cell_type": "markdown",
   "metadata": {},
   "source": [
    "There seems to be a sever issue with the filter and smoother having bad results at the start of the first point index"
   ]
  },
  {
   "cell_type": "code",
   "execution_count": null,
   "metadata": {},
   "outputs": [
    {
     "name": "stderr",
     "output_type": "stream",
     "text": [
      "100%|██████████| 10/10 [00:03<00:00,  2.65it/s]\n"
     ]
    }
   ],
   "source": [
    "test = pipeline.xarray_Kalman_SEM(\n",
    "    ds=data,\n",
    "    observation_variables=[\"x2\", \"x3\"],\n",
    "    random_variables=[\"z1\", \"z2\"],\n",
    "    nb_iter_SEM=10,\n",
    "    variance_obs_comp=0.0001,\n",
    ")\n",
    "\n",
    "fig, ax = plt.subplots(1, 1)\n",
    "for var in test.state_name:\n",
    "    plot_state_with_probability(\n",
    "        ax=ax,\n",
    "        x_value=test.time,\n",
    "        state=test.states.sel(state_name=var),\n",
    "        prob=test.covariance.sel(state_name=var, state_name_copy=var),\n",
    "        line_kwargs={\"label\": var.values},\n",
    "    )\n",
    "\n",
    "ax.legend()\n",
    "ax.set_xlim((0, 2))\n",
    "ax.set_xlabel(\"time\")\n",
    "ax.set_ylabel(\"Values\")\n",
    "ax.set_title(\"Using multiple random latent variables\");"
   ]
  },
  {
   "cell_type": "code",
   "execution_count": null,
   "metadata": {},
   "outputs": [],
   "source": [
    "idx = 100\n",
    "\n",
    "H, R = pipeline._input_matrices_H_R_from_n_p(n=4, p=2)\n",
    "\n",
    "test_filter = pipeline.xarray_Kalman_filter(\n",
    "    ds=data,\n",
    "    state_variables=[\"x2\", \"x3\", \"z1\", \"z2\"],\n",
    "    observation_variables=[\"x2\", \"x3\"],\n",
    "    initial_covariance_matrix=test[\"covariance\"].isel(time=idx).values,\n",
    "    M=test.M.values,\n",
    "    Q=test.Q.values,\n",
    "    H=H,\n",
    "    R=R,\n",
    "    dim=\"time\",\n",
    "    estimation_idx=idx,\n",
    ")\n",
    "\n",
    "test_smoother = pipeline.xarray_Kalman_smoother(\n",
    "    ds=data,\n",
    "    state_variables=[\"x2\", \"x3\", \"z1\", \"z2\"],\n",
    "    observation_variables=[\"x2\", \"x3\"],\n",
    "    initial_covariance_matrix=test[\"covariance\"].isel(time=idx).values,\n",
    "    M=test.M.values,\n",
    "    Q=test.Q.values,\n",
    "    H=H,\n",
    "    R=R,\n",
    "    dim=\"time\",\n",
    "    estimation_idx=idx,\n",
    ")"
   ]
  },
  {
   "attachments": {},
   "cell_type": "markdown",
   "metadata": {},
   "source": [
    "### Filter assertion"
   ]
  },
  {
   "cell_type": "code",
   "execution_count": null,
   "metadata": {},
   "outputs": [],
   "source": [
    "x_f, P_f, x_a, P_a, loglik, K_a = Kalman_filter(\n",
    "    y=np.array([data.x2.values, data.x3.values]).T,\n",
    "    x0=np.array(\n",
    "        [\n",
    "            data.x2.isel(time=idx).values,\n",
    "            data.x3.isel(time=idx).values,\n",
    "            data.z1.isel(time=idx).values,\n",
    "            data.z2.isel(time=idx).values,\n",
    "        ]\n",
    "    ).T,\n",
    "    P0=test[\"covariance\"].isel(time=idx).values,\n",
    "    M=test.M.values,\n",
    "    Q=test.Q.values,\n",
    "    H=H,\n",
    "    R=R,\n",
    ");"
   ]
  },
  {
   "cell_type": "code",
   "execution_count": null,
   "metadata": {},
   "outputs": [],
   "source": [
    "# Check that the result is similar to the real kalman filter:\n",
    "try:\n",
    "    np.testing.assert_array_almost_equal(test_filter.state_forecast, x_f, decimal=6)\n",
    "except Exception as E:\n",
    "    print(\"\\n===========\\nState Forecast\")\n",
    "    print(E)\n",
    "    print(np.abs(test_filter.state_forecast - x_f) < 10 ** (-6))\n",
    "    plt.pcolormesh(\n",
    "        (np.abs(test_filter.state_forecast - x_f)).isel(time=slice(0, 10)),\n",
    "        cmap=\"Reds\",\n",
    "        vmin=0,\n",
    "        vmax=10 ** (-6),\n",
    "    )\n",
    "try:\n",
    "    np.testing.assert_array_almost_equal(\n",
    "        test_filter.covariance_forecast, P_f, decimal=6\n",
    "    )\n",
    "except Exception as E:\n",
    "    print(\"\\n===========\\nState Covariance\")\n",
    "    print(E)\n",
    "    print(np.abs(test_filter.covariance_forecast - P_f) < 10 ** (-6))\n",
    "\n",
    "np.testing.assert_array_almost_equal(test_filter.state_assimilation, x_a, decimal=6)\n",
    "np.testing.assert_array_almost_equal(\n",
    "    test_filter.covariance_assimilation, P_a, decimal=6\n",
    ")\n",
    "np.testing.assert_array_almost_equal(test_filter.log_likelihod, loglik, decimal=6)"
   ]
  },
  {
   "attachments": {},
   "cell_type": "markdown",
   "metadata": {},
   "source": [
    "### Smoother assertion"
   ]
  },
  {
   "cell_type": "code",
   "execution_count": null,
   "metadata": {},
   "outputs": [],
   "source": [
    "x_f, P_f, x_a, P_a, x_s, P_s, loglik, P_s_lag = Kalman_smoother(\n",
    "    y=np.array([data.x2.values, data.x3.values]).T,\n",
    "    x0=np.array(\n",
    "        [\n",
    "            data.x2.isel(time=idx).values,\n",
    "            data.x3.isel(time=idx).values,\n",
    "            data.z1.isel(time=idx).values,\n",
    "            data.z2.isel(time=idx).values,\n",
    "        ]\n",
    "    ).T,\n",
    "    P0=test[\"covariance\"].isel(time=idx).values,\n",
    "    M=test.M.values,\n",
    "    Q=test.Q.values,\n",
    "    H=H,\n",
    "    R=R,\n",
    ");"
   ]
  },
  {
   "cell_type": "code",
   "execution_count": null,
   "metadata": {},
   "outputs": [],
   "source": [
    "# Check that the result is similar to the real kalman filter:\n",
    "try:\n",
    "    np.testing.assert_array_almost_equal(test_filter.state_forecast, x_f, decimal=6)\n",
    "except Exception as E:\n",
    "    print(\"\\n===========\\nState Forecast\")\n",
    "    print(E)\n",
    "    print(np.abs(test_filter.state_forecast - x_f) < 10 ** (-6))\n",
    "try:\n",
    "    np.testing.assert_array_almost_equal(\n",
    "        test_filter.covariance_forecast, P_f, decimal=6\n",
    "    )\n",
    "except Exception as E:\n",
    "    print(\"\\n===========\\nState Covariance\")\n",
    "    print(E)\n",
    "    print(np.abs(test_filter.covariance_forecast - P_f) < 10 ** (-6))\n",
    "\n",
    "np.testing.assert_array_almost_equal(test_smoother.state_smooth, x_s, decimal=6)\n",
    "np.testing.assert_array_almost_equal(test_smoother.covariance_smooth, P_s, decimal=6)\n",
    "\n",
    "np.testing.assert_array_almost_equal(test_smoother.state_assimilation, x_a, decimal=6)\n",
    "np.testing.assert_array_almost_equal(\n",
    "    test_smoother.covariance_assimilation, P_a, decimal=6\n",
    ")\n",
    "np.testing.assert_array_almost_equal(test_smoother.log_likelihod, loglik, decimal=6)"
   ]
  },
  {
   "cell_type": "code",
   "execution_count": null,
   "metadata": {},
   "outputs": [],
   "source": []
  }
 ],
 "metadata": {
  "kernelspec": {
   "display_name": "climNum",
   "language": "python",
   "name": "python3"
  },
  "language_info": {
   "codemirror_mode": {
    "name": "ipython",
    "version": 3
   },
   "file_extension": ".py",
   "mimetype": "text/x-python",
   "name": "python",
   "nbconvert_exporter": "python",
   "pygments_lexer": "ipython3",
   "version": "3.10.9"
  }
 },
 "nbformat": 4,
 "nbformat_minor": 2
}
