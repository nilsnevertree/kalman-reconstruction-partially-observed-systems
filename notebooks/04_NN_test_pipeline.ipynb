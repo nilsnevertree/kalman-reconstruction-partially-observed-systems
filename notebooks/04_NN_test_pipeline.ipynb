{
 "cells": [
  {
   "cell_type": "code",
   "execution_count": null,
   "metadata": {},
   "outputs": [],
   "source": [
    "import numpy as np\n",
    "import xarray as xr\n",
    "from kalman_reconstruction import pipeline\n",
    "from kalman_reconstruction import example_models\n",
    "import matplotlib.pyplot as plt"
   ]
  },
  {
   "attachments": {},
   "cell_type": "markdown",
   "metadata": {},
   "source": [
    "Now there can be easily multiple random variables add and the Kalman_SEM performs on all of them"
   ]
  },
  {
   "cell_type": "code",
   "execution_count": null,
   "metadata": {},
   "outputs": [],
   "source": [
    "data = example_models.Lorenz_63_xarray(dt=0.01, time_length=5, time_steps=None)\n",
    "seed = np.random.default_rng(seed=2349832653).integers(0, 1e12, 1)\n",
    "variance = 5\n",
    "rng1 = np.random.default_rng(seed=seed)\n",
    "rng2 = np.random.default_rng(seed=seed + 1)\n",
    "rng3 = np.random.default_rng(seed=seed + 2)\n",
    "rng4 = np.random.default_rng(seed=seed + 3)\n",
    "pipeline.add_random_variable(\n",
    "    data, var_name=\"z1\", random_generator=rng1, variance=variance\n",
    ")\n",
    "pipeline.add_random_variable(\n",
    "    data, var_name=\"z2\", random_generator=rng2, variance=variance\n",
    ")\n",
    "pipeline.add_random_variable(\n",
    "    data, var_name=\"z3\", random_generator=rng3, variance=variance\n",
    ")\n",
    "pipeline.add_random_variable(\n",
    "    data, var_name=\"z4\", random_generator=rng4, variance=variance\n",
    ")"
   ]
  },
  {
   "cell_type": "code",
   "execution_count": null,
   "metadata": {},
   "outputs": [
    {
     "name": "stderr",
     "output_type": "stream",
     "text": [
      "100%|██████████| 10/10 [00:02<00:00,  3.74it/s]\n"
     ]
    },
    {
     "data": {
      "text/plain": [
       "Text(0.5, 1.0, 'Validation using all states')"
      ]
     },
     "execution_count": null,
     "metadata": {},
     "output_type": "execute_result"
    }
   ],
   "source": [
    "test = pipeline.run_Kalman_SEM_to_xarray(\n",
    "    ds=data,\n",
    "    state_variables=[\"x1\", \"x2\", \"x3\"],\n",
    "    random_variables=[],\n",
    "    nb_iter_SEM=10,\n",
    "    variance_obs_comp=0.0001,\n",
    ")\n",
    "\n",
    "for var in test.state_names:\n",
    "    plt.plot(test.time, test.states.sel(state_names=var), label=var.values)\n",
    "    plt.fill_between(\n",
    "        test.time,\n",
    "        (\n",
    "            test.states.sel(state_names=var)\n",
    "            - 1.96 * test.uncertainties.sel(state_names=var, state_names_copy=var)\n",
    "        ),\n",
    "        (\n",
    "            test.states.sel(state_names=var)\n",
    "            + 1.96 * test.uncertainties.sel(state_names=var, state_names_copy=var)\n",
    "        ),\n",
    "        label=var.values,\n",
    "        alpha=0.25,\n",
    "    )\n",
    "\n",
    "plt.legend()\n",
    "plt.xlim((0, 2))\n",
    "plt.xlabel(\"time\")\n",
    "plt.ylabel(\"Values\")\n",
    "plt.title(\"Validation using all states\")"
   ]
  },
  {
   "cell_type": "code",
   "execution_count": null,
   "metadata": {},
   "outputs": [
    {
     "name": "stderr",
     "output_type": "stream",
     "text": [
      "100%|██████████| 10/10 [00:03<00:00,  2.95it/s]\n"
     ]
    },
    {
     "data": {
      "text/plain": [
       "Text(0.5, 1.0, 'Using multiple random latent variables')"
      ]
     },
     "execution_count": null,
     "metadata": {},
     "output_type": "execute_result"
    }
   ],
   "source": [
    "test = pipeline.run_Kalman_SEM_to_xarray(\n",
    "    ds=data,\n",
    "    state_variables=[\"x1\", \"x2\", \"x3\"],\n",
    "    random_variables=[\"z1\", \"z2\"],\n",
    "    nb_iter_SEM=10,\n",
    "    variance_obs_comp=0.0001,\n",
    ")\n",
    "\n",
    "for var in test.state_names:\n",
    "    plt.plot(test.time, test.states.sel(state_names=var), label=var.values)\n",
    "    plt.fill_between(\n",
    "        test.time,\n",
    "        (\n",
    "            test.states.sel(state_names=var)\n",
    "            - 1.96 * test.uncertainties.sel(state_names=var, state_names_copy=var)\n",
    "        ),\n",
    "        (\n",
    "            test.states.sel(state_names=var)\n",
    "            + 1.96 * test.uncertainties.sel(state_names=var, state_names_copy=var)\n",
    "        ),\n",
    "        alpha=0.25,\n",
    "    )\n",
    "\n",
    "plt.legend()\n",
    "plt.xlim((0, 2))\n",
    "plt.xlabel(\"time\")\n",
    "plt.ylabel(\"Values\")\n",
    "plt.title(\"Using multiple random latent variables\")"
   ]
  }
 ],
 "metadata": {
  "kernelspec": {
   "display_name": "climNum",
   "language": "python",
   "name": "python3"
  },
  "language_info": {
   "codemirror_mode": {
    "name": "ipython",
    "version": 3
   },
   "file_extension": ".py",
   "mimetype": "text/x-python",
   "name": "python",
   "nbconvert_exporter": "python",
   "pygments_lexer": "ipython3",
   "version": "3.10.9"
  }
 },
 "nbformat": 4,
 "nbformat_minor": 2
}
