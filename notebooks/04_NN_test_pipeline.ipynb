{
 "cells": [
  {
   "cell_type": "code",
   "execution_count": null,
   "metadata": {},
   "outputs": [],
   "source": [
    "import numpy as np\n",
    "import xarray as xr\n",
    "from kalman_reconstruction import pipeline\n",
    "from kalman_reconstruction import example_models\n",
    "from kalman_reconstruction.custom_plot import (\n",
    "    plot_state_with_probability,\n",
    "    set_custom_rcParams,\n",
    ")\n",
    "import matplotlib.pyplot as plt\n",
    "\n",
    "set_custom_rcParams()"
   ]
  },
  {
   "attachments": {},
   "cell_type": "markdown",
   "metadata": {},
   "source": [
    "Now there can be easily multiple random variables add and the Kalman_SEM performs on all of them"
   ]
  },
  {
   "cell_type": "code",
   "execution_count": null,
   "metadata": {},
   "outputs": [],
   "source": [
    "data = example_models.Lorenz_63_xarray(dt=0.01, time_length=5, time_steps=None)\n",
    "seed = 345831200837\n",
    "variance = 5\n",
    "rng1 = np.random.default_rng(seed=seed)\n",
    "rng2 = np.random.default_rng(seed=seed + 1)\n",
    "rng3 = np.random.default_rng(seed=seed + 2)\n",
    "rng4 = np.random.default_rng(seed=seed + 3)\n",
    "pipeline.add_random_variable(\n",
    "    data, var_name=\"z1\", random_generator=rng1, variance=variance\n",
    ")\n",
    "pipeline.add_random_variable(\n",
    "    data, var_name=\"z2\", random_generator=rng2, variance=variance\n",
    ")\n",
    "pipeline.add_random_variable(\n",
    "    data, var_name=\"z3\", random_generator=rng3, variance=variance\n",
    ")\n",
    "pipeline.add_random_variable(\n",
    "    data, var_name=\"z4\", random_generator=rng4, variance=variance\n",
    ")"
   ]
  },
  {
   "cell_type": "code",
   "execution_count": null,
   "metadata": {},
   "outputs": [
    {
     "name": "stderr",
     "output_type": "stream",
     "text": [
      "100%|██████████| 10/10 [00:01<00:00,  5.06it/s]\n"
     ]
    }
   ],
   "source": [
    "test = pipeline.run_Kalman_SEM_to_xarray(\n",
    "    ds=data,\n",
    "    state_variables=[\"x1\", \"x2\", \"x3\"],\n",
    "    random_variables=[],\n",
    "    nb_iter_SEM=10,\n",
    "    variance_obs_comp=0.0001,\n",
    ")\n",
    "\n",
    "\n",
    "fig, ax = plt.subplots(1, 1)\n",
    "for var in test.state_names:\n",
    "    plot_state_with_probability(\n",
    "        ax=ax,\n",
    "        x_value=test.time,\n",
    "        state=test.states.sel(state_names=var),\n",
    "        prob=test.uncertainties.sel(state_names=var, state_names_copy=var),\n",
    "        line_kwargs={\"label\": var.values},\n",
    "    )\n",
    "\n",
    "ax.legend()\n",
    "ax.set_xlim((0, 2))\n",
    "ax.set_xlabel(\"time\")\n",
    "ax.set_ylabel(\"Values\")\n",
    "ax.set_title(\"Validation using all states\");"
   ]
  },
  {
   "cell_type": "code",
   "execution_count": null,
   "metadata": {},
   "outputs": [
    {
     "name": "stderr",
     "output_type": "stream",
     "text": [
      "100%|██████████| 10/10 [00:02<00:00,  4.44it/s]\n"
     ]
    }
   ],
   "source": [
    "test = pipeline.run_Kalman_SEM_to_xarray(\n",
    "    ds=data,\n",
    "    state_variables=[\"x2\", \"x3\"],\n",
    "    random_variables=[\"z1\", \"z2\"],\n",
    "    nb_iter_SEM=10,\n",
    "    variance_obs_comp=0.0001,\n",
    ")\n",
    "\n",
    "fig, ax = plt.subplots(1, 1)\n",
    "for var in test.state_names:\n",
    "    plot_state_with_probability(\n",
    "        ax=ax,\n",
    "        x_value=test.time,\n",
    "        state=test.states.sel(state_names=var),\n",
    "        prob=test.uncertainties.sel(state_names=var, state_names_copy=var),\n",
    "        line_kwargs={\"label\": var.values},\n",
    "    )\n",
    "\n",
    "ax.legend()\n",
    "ax.set_xlim((0, 2))\n",
    "ax.set_xlabel(\"time\")\n",
    "ax.set_ylabel(\"Values\")\n",
    "ax.set_title(\"Using multiple random latent variables\");"
   ]
  },
  {
   "cell_type": "code",
   "execution_count": null,
   "metadata": {},
   "outputs": [
    {
     "name": "stderr",
     "output_type": "stream",
     "text": [
      "100%|██████████| 10/10 [00:21<00:00,  2.12s/it]\n"
     ]
    }
   ],
   "source": [
    "test = pipeline.xarray_Kalman_SEM_time_dependent(\n",
    "    ds=data,\n",
    "    state_variables=[\"x2\", \"x3\"],\n",
    "    random_variables=[\"z1\", \"z2\", \"z3\", \"z4\"],\n",
    "    nb_iter_SEM=10,\n",
    "    variance_obs_comp=0.0001,\n",
    ")\n",
    "\n",
    "fig, ax = plt.subplots(1, 1)\n",
    "for var in test.state_names:\n",
    "    plot_state_with_probability(\n",
    "        ax=ax,\n",
    "        x_value=test.time,\n",
    "        state=test.states.sel(state_names=var),\n",
    "        prob=test.uncertainties.sel(state_names=var, state_names_copy=var),\n",
    "        line_kwargs={\"label\": var.values},\n",
    "    )\n",
    "\n",
    "ax.legend()\n",
    "ax.set_xlim((0, 2))\n",
    "ax.set_xlabel(\"time\")\n",
    "ax.set_ylabel(\"Values\")\n",
    "ax.set_title(\"Using multiple random latent variables\");"
   ]
  }
 ],
 "metadata": {
  "kernelspec": {
   "display_name": "climNum",
   "language": "python",
   "name": "python3"
  },
  "language_info": {
   "codemirror_mode": {
    "name": "ipython",
    "version": 3
   },
   "file_extension": ".py",
   "mimetype": "text/x-python",
   "name": "python",
   "nbconvert_exporter": "python",
   "pygments_lexer": "ipython3",
   "version": "3.10.9"
  }
 },
 "nbformat": 4,
 "nbformat_minor": 2
}
