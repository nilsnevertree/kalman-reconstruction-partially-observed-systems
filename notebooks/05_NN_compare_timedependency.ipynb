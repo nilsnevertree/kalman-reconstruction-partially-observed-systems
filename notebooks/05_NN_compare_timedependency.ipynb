{
 "cells": [
  {
   "cell_type": "code",
   "execution_count": null,
   "metadata": {},
   "outputs": [],
   "source": [
    "import numpy as np\n",
    "import xarray as xr\n",
    "from kalman_reconstruction import pipeline\n",
    "from kalman_reconstruction import example_models\n",
    "from kalman_reconstruction.custom_plot import (\n",
    "    plot_state_with_probability,\n",
    "    set_custom_rcParams,\n",
    ")\n",
    "import matplotlib.pyplot as plt\n",
    "\n",
    "set_custom_rcParams()\n",
    "plt.rcParams[\"figure.figsize\"] = (8, 5)"
   ]
  },
  {
   "cell_type": "code",
   "execution_count": null,
   "metadata": {},
   "outputs": [
    {
     "data": {
      "text/plain": [
       "<module 'kalman_reconstruction.pipeline' from 'C:\\\\Users\\\\Niebaum\\\\Documents\\\\Repositories\\\\kalman-reconstruction-partially-observered-systems\\\\kalman_reconstruction\\\\pipeline.py'>"
      ]
     },
     "execution_count": null,
     "metadata": {},
     "output_type": "execute_result"
    }
   ],
   "source": [
    "from importlib import reload\n",
    "\n",
    "reload(pipeline)"
   ]
  },
  {
   "cell_type": "code",
   "execution_count": null,
   "metadata": {},
   "outputs": [],
   "source": [
    "seed = 39264\n",
    "variance = 5\n",
    "nb_iter_SEM = 30\n",
    "dt = 0.001\n",
    "number_loops = 4\n",
    "model_result = example_models.Lorenz_63_xarray(\n",
    "    dt=dt, time_length=number_loops, time_steps=None\n",
    ")\n",
    "\n",
    "rng1 = np.random.default_rng(seed=seed)\n",
    "rng2 = np.random.default_rng(seed=seed + 1)\n",
    "rng3 = np.random.default_rng(seed=seed + 2)\n",
    "rng4 = np.random.default_rng(seed=seed + 3)"
   ]
  },
  {
   "cell_type": "code",
   "execution_count": null,
   "metadata": {},
   "outputs": [],
   "source": [
    "data = dict()\n",
    "result = dict()\n",
    "smoothed = dict()"
   ]
  },
  {
   "attachments": {},
   "cell_type": "markdown",
   "metadata": {},
   "source": [
    "### Apply the Kalman SEM using latent variables \n"
   ]
  },
  {
   "attachments": {},
   "cell_type": "markdown",
   "metadata": {},
   "source": [
    "#### 0 latent variables"
   ]
  },
  {
   "cell_type": "code",
   "execution_count": null,
   "metadata": {},
   "outputs": [
    {
     "name": "stderr",
     "output_type": "stream",
     "text": [
      "100%|██████████| 30/30 [01:29<00:00,  2.98s/it]\n"
     ]
    }
   ],
   "source": [
    "new_name = \"0_latent\"\n",
    "\n",
    "data[new_name] = model_result.copy()\n",
    "# Run Klman_SEM\n",
    "result[new_name] = pipeline.xarray_Kalman_SEM(\n",
    "    ds=data[new_name],\n",
    "    observation_variables=[\"x2\", \"x3\"],\n",
    "    state_variables=[\"x2\", \"x3\"],\n",
    "    nb_iter_SEM=nb_iter_SEM,\n",
    "    variance_obs_comp=0.0001,\n",
    ")\n",
    "\n",
    "fig, ax = plt.subplots(1, 1)\n",
    "for var in result[new_name].state_name:\n",
    "    plot_state_with_probability(\n",
    "        ax=ax,\n",
    "        x_value=result[new_name].time,\n",
    "        state=result[new_name].states.sel(state_name=var),\n",
    "        prob=result[new_name].covariance.sel(state_name=var, state_name_copy=var),\n",
    "        line_kwargs={\"label\": var.values},\n",
    "    )\n",
    "\n",
    "ax.legend()\n",
    "# ax.set_xlim((0, 2))\n",
    "ax.set_xlabel(\"time\")\n",
    "ax.set_ylabel(\"Values\")\n",
    "ax.set_title(\"Using multiple random latent variables\");"
   ]
  },
  {
   "attachments": {},
   "cell_type": "markdown",
   "metadata": {},
   "source": [
    "#### 1 latent variables"
   ]
  },
  {
   "cell_type": "code",
   "execution_count": null,
   "metadata": {},
   "outputs": [
    {
     "name": "stderr",
     "output_type": "stream",
     "text": [
      "100%|██████████| 30/30 [01:23<00:00,  2.77s/it]\n"
     ]
    }
   ],
   "source": [
    "old_name = \"0_latent\"\n",
    "new_name = \"1_latent\"\n",
    "\n",
    "data[new_name] = data[old_name].copy()\n",
    "# Add latent variable\n",
    "pipeline.add_random_variable(\n",
    "    data[new_name], var_name=\"z1\", random_generator=rng1, variance=variance\n",
    ")\n",
    "# Run Klman_SEM\n",
    "result[new_name] = pipeline.xarray_Kalman_SEM(\n",
    "    ds=data[new_name],\n",
    "    observation_variables=[\"x2\", \"x3\"],\n",
    "    state_variables=[\"x2\", \"x3\", \"z1\"],\n",
    "    nb_iter_SEM=nb_iter_SEM,\n",
    "    variance_obs_comp=0.0001,\n",
    ")\n",
    "\n",
    "fig, ax = plt.subplots(1, 1)\n",
    "for var in result[new_name].state_name:\n",
    "    plot_state_with_probability(\n",
    "        ax=ax,\n",
    "        x_value=result[new_name].time,\n",
    "        state=result[new_name].states.sel(state_name=var),\n",
    "        prob=result[new_name].covariance.sel(state_name=var, state_name_copy=var),\n",
    "        line_kwargs={\"label\": var.values},\n",
    "    )\n",
    "\n",
    "ax.legend()\n",
    "# ax.set_xlim((0, 2))\n",
    "ax.set_xlabel(\"time\")\n",
    "ax.set_ylabel(\"Values\")\n",
    "ax.set_title(\"Using multiple random latent variables\")\n",
    "\n",
    "display(result[new_name].M)\n",
    "display(result[new_name].Q)"
   ]
  },
  {
   "cell_type": "code",
   "execution_count": null,
   "metadata": {},
   "outputs": [],
   "source": [
    "display(result[\"1_latent\"].M)\n",
    "display(result[\"1_latent\"].Q)"
   ]
  },
  {
   "attachments": {},
   "cell_type": "markdown",
   "metadata": {},
   "source": [
    "#### 2 latent variables"
   ]
  },
  {
   "cell_type": "code",
   "execution_count": null,
   "metadata": {},
   "outputs": [
    {
     "name": "stderr",
     "output_type": "stream",
     "text": [
      "100%|██████████| 30/30 [01:26<00:00,  2.88s/it]\n"
     ]
    }
   ],
   "source": [
    "old_name = \"1_latent\"\n",
    "new_name = \"2_latent\"\n",
    "\n",
    "data[new_name] = data[old_name].copy()\n",
    "data[new_name][\"z1\"] = result[old_name].states.sel(state_name=\"z1\")\n",
    "# Add latent variable\n",
    "pipeline.add_random_variable(\n",
    "    data[new_name], var_name=\"z2\", random_generator=rng1, variance=variance\n",
    ")\n",
    "# Run Klman_SEM\n",
    "result[new_name] = pipeline.xarray_Kalman_SEM(\n",
    "    ds=data[new_name],\n",
    "    observation_variables=[\"x2\", \"x3\"],\n",
    "    state_variables=[\"x2\", \"x3\", \"z1\", \"z2\"],\n",
    "    nb_iter_SEM=nb_iter_SEM,\n",
    "    variance_obs_comp=0.0001,\n",
    ")\n",
    "\n",
    "fig, ax = plt.subplots(1, 1)\n",
    "for var in result[new_name].state_name:\n",
    "    plot_state_with_probability(\n",
    "        ax=ax,\n",
    "        x_value=result[new_name].time,\n",
    "        state=result[new_name].states.sel(state_name=var),\n",
    "        prob=result[new_name].covariance.sel(state_name=var, state_name_copy=var),\n",
    "        line_kwargs={\"label\": var.values},\n",
    "    )\n",
    "\n",
    "ax.legend()\n",
    "# ax.set_xlim((0, 2))\n",
    "ax.set_xlabel(\"time\")\n",
    "ax.set_ylabel(\"Values\")\n",
    "ax.set_title(\"Using multiple random latent variables\");"
   ]
  },
  {
   "cell_type": "code",
   "execution_count": null,
   "metadata": {},
   "outputs": [
    {
     "data": {
      "text/plain": [
       "<matplotlib.colorbar.Colorbar at 0x14e4cd754e0>"
      ]
     },
     "execution_count": null,
     "metadata": {},
     "output_type": "execute_result"
    }
   ],
   "source": [
    "fig, axs = plt.subplots(nrows=1, ncols=2)\n",
    "mpl = axs[0].imshow(result[\"2_latent\"].M)\n",
    "fig.colorbar(ax=axs[0], mappable=mpl)\n",
    "mpl = axs[1].imshow(result[\"2_latent\"].Q)\n",
    "fig.colorbar(ax=axs[1], mappable=mpl)"
   ]
  },
  {
   "cell_type": "code",
   "execution_count": null,
   "metadata": {},
   "outputs": [],
   "source": [
    "display(result[\"2_latent\"].M)\n",
    "display(result[\"2_latent\"].Q)"
   ]
  },
  {
   "attachments": {},
   "cell_type": "markdown",
   "metadata": {},
   "source": [
    "#### 3 latent variables"
   ]
  },
  {
   "cell_type": "code",
   "execution_count": null,
   "metadata": {},
   "outputs": [],
   "source": [
    "# old_name = \"2_latent\"\n",
    "# new_name = \"3_latent\"\n",
    "\n",
    "# data[new_name] = data[old_name].copy()\n",
    "# data[new_name][\"z2\"] = result[old_name].states.sel(state_name=\"z2\")\n",
    "# # Add latent variable\n",
    "# pipeline.add_random_variable(\n",
    "#     data[new_name], var_name=\"z3\", random_generator=rng1, variance=variance\n",
    "# )\n",
    "# # Run Klman_SEM\n",
    "# result[new_name] = pipeline.xarray_Kalman_SEM(\n",
    "#     ds=data[new_name],\n",
    "#     observation_variables=[\"x2\", \"x3\"],\n",
    "#     state_variables=[\"x2\", \"x3\", \"z1\", \"z2\", \"z3\"],\n",
    "#     nb_iter_SEM=nb_iter_SEM,\n",
    "#     variance_obs_comp=0.0001,\n",
    "# )\n",
    "\n",
    "# fig, ax = plt.subplots(1, 1)\n",
    "# for var in result[new_name].state_name:\n",
    "#     plot_state_with_probability(\n",
    "#         ax=ax,\n",
    "#         x_value=result[new_name].time,\n",
    "#         state=result[new_name].states.sel(state_name=var),\n",
    "#         prob=result[new_name].covariance.sel(state_name=var, state_name_copy=var),\n",
    "#         line_kwargs={\"label\": var.values},\n",
    "#     )\n",
    "\n",
    "# ax.legend()\n",
    "# #ax.set_xlim((0, 2))\n",
    "# ax.set_xlabel(\"time\")\n",
    "# ax.set_ylabel(\"Values\")\n",
    "# ax.set_title(\"Using multiple random latent variables\");"
   ]
  },
  {
   "attachments": {},
   "cell_type": "markdown",
   "metadata": {},
   "source": [
    "## Test the forecast skill\n",
    "To test the forecast skill, we will create a test dataset starting from the end of the initial training data."
   ]
  },
  {
   "cell_type": "code",
   "execution_count": null,
   "metadata": {},
   "outputs": [
    {
     "data": {
      "text/plain": [
       "array([-0.83611822, -1.77794423, 17.937048  ])"
      ]
     },
     "execution_count": null,
     "metadata": {},
     "output_type": "execute_result"
    }
   ],
   "source": [
    "test_initial_condition = np.array(\n",
    "    [model_result[var].isel(time=-1).values for var in [\"x1\", \"x2\", \"x3\"]]\n",
    ")\n",
    "test_initial_condition"
   ]
  },
  {
   "cell_type": "code",
   "execution_count": null,
   "metadata": {},
   "outputs": [],
   "source": [
    "model_result_test = example_models.Lorenz_63_xarray(\n",
    "    dt=dt,\n",
    "    time_length=number_loops,\n",
    "    time_steps=None,\n",
    "    initial_condition=test_initial_condition,\n",
    ")"
   ]
  },
  {
   "cell_type": "code",
   "execution_count": null,
   "metadata": {},
   "outputs": [],
   "source": [
    "data_test = dict()\n",
    "kalman_test = dict()\n",
    "smoother_test = dict()"
   ]
  },
  {
   "attachments": {},
   "cell_type": "markdown",
   "metadata": {},
   "source": [
    "Perform Kalman SEM"
   ]
  },
  {
   "cell_type": "code",
   "execution_count": null,
   "metadata": {},
   "outputs": [
    {
     "name": "stderr",
     "output_type": "stream",
     "text": [
      "100%|██████████| 30/30 [01:50<00:00,  3.68s/it]\n"
     ]
    }
   ],
   "source": [
    "\"\"\"0 Latent\"\"\"\n",
    "\n",
    "new_name = \"0_latent\"\n",
    "data_test[new_name] = model_result_test.copy()\n",
    "# Run Klman_SEM\n",
    "kalman_test[new_name] = pipeline.xarray_Kalman_SEM(\n",
    "    ds=data_test[new_name],\n",
    "    observation_variables=[\"x2\", \"x3\"],\n",
    "    state_variables=[\"x2\", \"x3\"],\n",
    "    nb_iter_SEM=nb_iter_SEM,\n",
    "    variance_obs_comp=0.0001,\n",
    ")\n",
    "\n",
    "\n",
    "\"\"\"1 Latent\"\"\"\n",
    "old_name = \"0_latent\"\n",
    "new_name = \"1_latent\"\n",
    "# copy dataset\n",
    "data_test[new_name] = data_test[old_name].copy()\n",
    "# Add latent variable\n",
    "pipeline.add_random_variable(\n",
    "    data_test[new_name], var_name=\"z1\", random_generator=rng1, variance=variance\n",
    ")\n",
    "# Run Klman_SEM\n",
    "kalman_test[new_name] = pipeline.xarray_Kalman_SEM(\n",
    "    ds=data_test[new_name],\n",
    "    observation_variables=[\"x2\", \"x3\"],\n",
    "    state_variables=[\"x2\", \"x3\", \"z1\"],\n",
    "    nb_iter_SEM=nb_iter_SEM,\n",
    "    variance_obs_comp=0.0001,\n",
    ")\n",
    "\n",
    "\"\"\"2 Latent\"\"\"\n",
    "old_name = \"1_latent\"\n",
    "new_name = \"2_latent\"\n",
    "# copy dataset\n",
    "data_test[new_name] = data_test[old_name].copy()\n",
    "data_test[new_name][\"z1\"] = kalman_test[old_name].states.sel(state_name=\"z1\")\n",
    "# Add latent variable\n",
    "pipeline.add_random_variable(\n",
    "    data_test[new_name], var_name=\"z2\", random_generator=rng1, variance=variance\n",
    ")\n",
    "# Run Klman_SEM\n",
    "kalman_test[new_name] = pipeline.xarray_Kalman_SEM(\n",
    "    ds=data_test[new_name],\n",
    "    observation_variables=[\"x2\", \"x3\"],\n",
    "    state_variables=[\"x2\", \"x3\", \"z1\", \"z2\"],\n",
    "    nb_iter_SEM=nb_iter_SEM,\n",
    "    variance_obs_comp=0.0001,\n",
    ")"
   ]
  },
  {
   "attachments": {},
   "cell_type": "markdown",
   "metadata": {},
   "source": [
    "Perform Kalman smoother using the last timestep as start.\n",
    "The ``M`` and ``Q`` Matrices from the ``Kalman_SEM`` are used."
   ]
  },
  {
   "cell_type": "code",
   "execution_count": null,
   "metadata": {},
   "outputs": [],
   "source": [
    "idx = -1\n",
    "\"\"\"0 Latent\"\"\"\n",
    "H, R = pipeline._input_matrices_H_R_from_n_p(n=2, p=2)\n",
    "smoother_test[\"0_latent\"] = pipeline.xarray_Kalman_smoother(\n",
    "    ds=data_test[\"0_latent\"],\n",
    "    state_variables=[\"x2\", \"x3\"],\n",
    "    observation_variables=[\"x2\", \"x3\"],\n",
    "    initial_covariance_matrix=kalman_test[\"0_latent\"].covariance.isel(time=idx),\n",
    "    M=kalman_test[\"0_latent\"].M.values,\n",
    "    Q=kalman_test[\"0_latent\"].Q.values,\n",
    "    H=H,\n",
    "    R=R,\n",
    "    estimation_idx=idx,\n",
    "    dim=\"time\",\n",
    ")\n",
    "\n",
    "\"\"\"1 Latent\"\"\"\n",
    "idx = -1\n",
    "H, R = pipeline._input_matrices_H_R_from_n_p(n=3, p=2)\n",
    "smoother_test[\"1_latent\"] = pipeline.xarray_Kalman_smoother(\n",
    "    ds=data_test[\"1_latent\"],\n",
    "    state_variables=[\"x2\", \"x3\", \"z1\"],\n",
    "    observation_variables=[\"x2\", \"x3\"],\n",
    "    initial_covariance_matrix=kalman_test[\"1_latent\"].covariance.isel(time=idx),\n",
    "    M=kalman_test[\"1_latent\"].M.values,\n",
    "    Q=kalman_test[\"1_latent\"].Q.values,\n",
    "    H=H,\n",
    "    R=R,\n",
    "    estimation_idx=idx,\n",
    "    dim=\"time\",\n",
    ")\n",
    "\n",
    "\"\"\"2 Latent\"\"\"\n",
    "H, R = pipeline._input_matrices_H_R_from_n_p(n=4, p=2)\n",
    "smoother_test[\"2_latent\"] = pipeline.xarray_Kalman_smoother(\n",
    "    ds=data_test[\"2_latent\"],\n",
    "    state_variables=[\"x2\", \"x3\", \"z1\", \"z2\"],\n",
    "    observation_variables=[\"x2\", \"x3\"],\n",
    "    initial_covariance_matrix=kalman_test[\"2_latent\"].covariance.isel(time=idx),\n",
    "    M=kalman_test[\"2_latent\"].M.values,\n",
    "    Q=kalman_test[\"2_latent\"].Q.values,\n",
    "    H=H,\n",
    "    R=R,\n",
    "    estimation_idx=idx,\n",
    "    dim=\"time\",\n",
    ")"
   ]
  },
  {
   "attachments": {},
   "cell_type": "markdown",
   "metadata": {},
   "source": [
    "It seems the order of the variabels is not fixed. Need to fix it"
   ]
  },
  {
   "cell_type": "code",
   "execution_count": null,
   "metadata": {},
   "outputs": [],
   "source": [
    "horizon_length = 750\n",
    "\n",
    "res = kalman_test[\"2_latent\"]\n",
    "smo = smoother_test[\"2_latent\"]\n",
    "hor = xr.Dataset(coords=res.coords)\n",
    "hor = hor.assign_coords(horizon=np.arange(horizon_length))\n",
    "pipeline.add_empty_dataarrays(hor, res, new_dimension=\"horizon\")\n",
    "res = pipeline.expand_and_assign_coords(res, hor)\n",
    "hor = hor.transpose(\"horizon\", \"time\", \"state_name\", ...)\n",
    "pipeline.assign_variables_by_double_selection(\n",
    "    ds1=hor, ds2=res, select_dict1=dict(horizon=0), select_dict2=dict()\n",
    ")"
   ]
  },
  {
   "cell_type": "code",
   "execution_count": null,
   "metadata": {},
   "outputs": [
    {
     "name": "stdout",
     "output_type": "stream",
     "text": [
      "(4, 4)\n"
     ]
    },
    {
     "data": {
      "text/plain": [
       "(4000, 4)"
      ]
     },
     "execution_count": null,
     "metadata": {},
     "output_type": "execute_result"
    }
   ],
   "source": [
    "print(np.shape(res.M.values))\n",
    "np.shape(hor.states.sel(horizon=horiz).values)"
   ]
  },
  {
   "cell_type": "code",
   "execution_count": null,
   "metadata": {},
   "outputs": [],
   "source": [
    "for horiz in range(0, len(hor.horizon) - 1):\n",
    "    if horiz == 0:\n",
    "        temp = smo.state_smooth\n",
    "        pipeline.assign_variable_by_double_selection(\n",
    "            ds1=hor,\n",
    "            da2=temp,\n",
    "            var_name=\"states\",\n",
    "            select_dict1=dict(horizon=horiz),\n",
    "            select_dict2=dict(),\n",
    "        )\n",
    "\n",
    "    temp = res.M.values @ hor.states.sel(horizon=horiz).values.T\n",
    "\n",
    "    hor[\"states\"][dict(horizon=horiz + 1)] = temp.T\n",
    "    # pipeline.assign_variable_by_double_selection(\n",
    "    #     ds1 = hor,\n",
    "    #     da2= temp,\n",
    "    #     var_name = \"states\",\n",
    "    #     select_dict1=dict(horizon=horiz+1),\n",
    "    #     select_dict2=dict())\n",
    "    if horiz == 0:\n",
    "        temp = smo.covariance_smooth\n",
    "        pipeline.assign_variable_by_double_selection(\n",
    "            ds1=hor,\n",
    "            da2=temp,\n",
    "            var_name=\"covariance\",\n",
    "            select_dict1=dict(horizon=horiz),\n",
    "            select_dict2=dict(),\n",
    "        )\n",
    "    temp = (\n",
    "        res.M.values @ hor.covariance.sel(horizon=horiz).values @ res.M.T.values\n",
    "        + res.Q.values\n",
    "    )\n",
    "    hor[\"covariance\"][dict(horizon=horiz + 1)] = temp\n",
    "    # pipeline.assign_variable_by_double_selection(\n",
    "    #     ds1 = hor,\n",
    "    #     da2= temp,\n",
    "    #     var_name = \"covariance\",\n",
    "    #     select_dict1=dict(horizon=horiz+1),\n",
    "    #     select_dict2=dict())"
   ]
  },
  {
   "cell_type": "code",
   "execution_count": null,
   "metadata": {},
   "outputs": [
    {
     "data": {
      "text/plain": [
       "Text(0.5, 0, 'Time')"
      ]
     },
     "execution_count": null,
     "metadata": {},
     "output_type": "execute_result"
    }
   ],
   "source": [
    "from kalman_reconstruction.custom_plot import plot_state_with_probability\n",
    "\n",
    "varibales_to_plot = [\"x2\", \"x3\"]\n",
    "\n",
    "fig, ax = plt.subplots(1, 1)\n",
    "ax.plot(\n",
    "    hor.time,\n",
    "    hor.states.isel(horizon=0).sel(state_name=varibales_to_plot),\n",
    "    label=hor.state_name.sel(state_name=varibales_to_plot).values,\n",
    ")\n",
    "for start_time in np.arange(100, 4000, 1000):\n",
    "    for state in varibales_to_plot:\n",
    "        plot_state_with_probability(\n",
    "            ax=ax,\n",
    "            x_value=(start_time + hor.horizon) * dt,\n",
    "            state=hor.states.sel(state_name=state).isel(time=start_time),\n",
    "            prob=hor.covariance.sel(state_name=state, state_name_copy=state).isel(\n",
    "                time=start_time\n",
    "            ),\n",
    "            stds=0.64,\n",
    "            line_kwargs=dict(color=[0.5, 0.5, 0.5]),\n",
    "        )\n",
    "\n",
    "ax.legend()\n",
    "ax.set_ylim(-40, 40)\n",
    "ax.set_ylabel(\"Values\")\n",
    "ax.set_xlabel(\"Time\")"
   ]
  },
  {
   "cell_type": "code",
   "execution_count": null,
   "metadata": {},
   "outputs": [],
   "source": [
    "fig, ax = plt.subplots(1, 1)\n",
    "start_time = 100\n",
    "for state in [\"x2\", \"x3\"]:\n",
    "    ax.plot(\n",
    "        hor.horizon.isel(horizon=slice(0, 20)),\n",
    "        hor.covariance.isel(horizon=slice(0, 20))\n",
    "        .sel(state_name=state, state_name_copy=state)\n",
    "        .isel(time=start_time),\n",
    "        linestyle=\"-\",\n",
    "        marker=\"x\",\n",
    "    )"
   ]
  },
  {
   "cell_type": "code",
   "execution_count": null,
   "metadata": {},
   "outputs": [
    {
     "name": "stdout",
     "output_type": "stream",
     "text": [
      "[[ 1.02117966e-03  1.70488565e-05  3.52497384e-03  6.80641054e-02]\n",
      " [ 1.70488565e-05  1.06926073e-03 -7.25975583e-02  5.05067950e-03]\n",
      " [ 3.52497384e-03 -7.25975583e-02  6.41287217e+00  4.70059757e-03]\n",
      " [ 6.80641054e-02  5.05067950e-03  4.70059757e-03  6.00840327e+00]]\n"
     ]
    }
   ],
   "source": [
    "print(res.M.values @ hor.covariance.isel(time=100, horizon=1).values @ res.M.T.values)"
   ]
  },
  {
   "cell_type": "code",
   "execution_count": null,
   "metadata": {},
   "outputs": [
    {
     "data": {
      "text/plain": [
       "<matplotlib.legend.Legend at 0x14e4afcb8b0>"
      ]
     },
     "execution_count": null,
     "metadata": {},
     "output_type": "execute_result"
    }
   ],
   "source": [
    "plt.plot(\n",
    "    hor.covariance.isel(time=100)\n",
    "    .sel(state_name=[\"x2\"], state_name_copy=[\"x2\"])\n",
    "    .squeeze(),\n",
    "    label=\"x2\",\n",
    ")\n",
    "plt.plot(\n",
    "    hor.covariance.isel(time=100)\n",
    "    .sel(state_name=[\"x3\"], state_name_copy=[\"x3\"])\n",
    "    .squeeze(),\n",
    "    label=\"x3\",\n",
    ")\n",
    "plt.legend()"
   ]
  },
  {
   "cell_type": "code",
   "execution_count": null,
   "metadata": {},
   "outputs": [
    {
     "data": {
      "text/plain": [
       "<matplotlib.legend.Legend at 0x14e62da3070>"
      ]
     },
     "execution_count": null,
     "metadata": {},
     "output_type": "execute_result"
    }
   ],
   "source": [
    "plt.plot(hor.states.isel(horizon=0).sel(state_name=[\"x2\"]).squeeze(), label=\"x2\")\n",
    "plt.plot(hor.states.isel(horizon=-1).sel(state_name=[\"x2\"]).squeeze(), label=\"x2\")\n",
    "plt.plot(hor.states.isel(horizon=0).sel(state_name=[\"x3\"]).squeeze(), label=\"x3\")\n",
    "plt.plot(hor.states.isel(horizon=-1).sel(state_name=[\"x3\"]).squeeze(), label=\"x3\")\n",
    "plt.legend()"
   ]
  },
  {
   "cell_type": "code",
   "execution_count": null,
   "metadata": {},
   "outputs": [
    {
     "ename": "KeyError",
     "evalue": "'0_latent'",
     "output_type": "error",
     "traceback": [
      "\u001b[1;31m---------------------------------------------------------------------------\u001b[0m",
      "\u001b[1;31mKeyError\u001b[0m                                  Traceback (most recent call last)",
      "Cell \u001b[1;32mIn[65], line 1\u001b[0m\n\u001b[1;32m----> 1\u001b[0m result[\u001b[39m\"\u001b[39;49m\u001b[39m0_latent\u001b[39;49m\u001b[39m\"\u001b[39;49m]\u001b[39m.\u001b[39mM\n",
      "\u001b[1;31mKeyError\u001b[0m: '0_latent'"
     ]
    }
   ],
   "source": [
    "result[\"0_latent\"].M"
   ]
  }
 ],
 "metadata": {
  "kernelspec": {
   "display_name": "climNum",
   "language": "python",
   "name": "python3"
  },
  "language_info": {
   "codemirror_mode": {
    "name": "ipython",
    "version": 3
   },
   "file_extension": ".py",
   "mimetype": "text/x-python",
   "name": "python",
   "nbconvert_exporter": "python",
   "pygments_lexer": "ipython3",
   "version": "3.10.9"
  }
 },
 "nbformat": 4,
 "nbformat_minor": 2
}
