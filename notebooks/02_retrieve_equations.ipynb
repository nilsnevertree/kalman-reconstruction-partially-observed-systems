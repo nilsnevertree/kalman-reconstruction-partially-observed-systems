{
 "cells": [
  {
   "attachments": {},
   "cell_type": "markdown",
   "metadata": {},
   "source": [
    "# Retrieve the equations from the algorithm.\n",
    "In this Notebook it is investigated how if the original equations can be retrieved for the Lorenz Model."
   ]
  },
  {
   "cell_type": "code",
   "execution_count": null,
   "metadata": {},
   "outputs": [],
   "source": [
    "from scipy.integrate import odeint\n",
    "import numpy as np\n",
    "\n",
    "import matplotlib.pyplot as plt\n",
    "from kalman_reconstruction.kalman import (\n",
    "    Kalman_SEM,\n",
    ")"
   ]
  },
  {
   "cell_type": "code",
   "execution_count": null,
   "metadata": {},
   "outputs": [],
   "source": [
    "plt.rcParams[\"figure.figsize\"] = (10, 5)\n",
    "# Set default matplotlib style\n",
    "SMALL_SIZE = 12\n",
    "MEDIUM_SIZE = 16\n",
    "BIGGER_SIZE = 20\n",
    "plt.style.use(\"seaborn-v0_8-whitegrid\")\n",
    "# plt.style.use('dark_background')\n",
    "\n",
    "plt.rcParams[\"figure.figsize\"] = (10.0, 6.0)\n",
    "plt.rc(\"font\", size=MEDIUM_SIZE)  # controls default text sizes\n",
    "plt.rc(\"axes\", titlesize=BIGGER_SIZE)  # fontsize of the axes title\n",
    "plt.rc(\"axes\", labelsize=MEDIUM_SIZE)  # fontsize of the x and y labels\n",
    "plt.rc(\"xtick\", labelsize=MEDIUM_SIZE)  # fontsize of the tick labels\n",
    "plt.rc(\"ytick\", labelsize=MEDIUM_SIZE)  # fontsize of the tick labels\n",
    "plt.rc(\"legend\", fontsize=SMALL_SIZE)  # legend fontsize\n",
    "plt.rc(\"legend\", fancybox=True)  # legend fontsize\n",
    "plt.rc(\"figure\", titlesize=BIGGER_SIZE)  # fontsize of the figure title\n",
    "plt.rc(\"legend\", loc=\"upper right\")\n",
    "plt.rc(\"lines\", linewidth=1.5)\n",
    "\n",
    "# use colorblind save colors https://davidmathlogic.com/colorblind\n",
    "colors = [\n",
    "    \"#CC6677\",\n",
    "    \"#6E9CB3\",\n",
    "    \"#AA4499\",\n",
    "    \"#CA8727\",\n",
    "    \"#A494F5\",\n",
    "    \"#44AA99\",\n",
    "    \"#D6BE49\",\n",
    "]\n",
    "plt.rcParams[\"axes.prop_cycle\"] = plt.cycler(color=colors)"
   ]
  },
  {
   "attachments": {},
   "cell_type": "markdown",
   "metadata": {},
   "source": [
    "## Reconstruction of $x_1$"
   ]
  },
  {
   "attachments": {},
   "cell_type": "markdown",
   "metadata": {},
   "source": [
    "$x_1$ can be derived from $z_1$ :\n",
    "\n",
    "$ z_1 = a_2 \\cdot d/dt(x_2) +a_3 \\cdot d/dt(x_3) $\n",
    "The solution if the form:\n",
    "\n",
    "$ x_1 \\cdot C_1 + C_0 = 0 $\n",
    "\n",
    "$ C_0 = - z1 - a_2 \\cdot x_2 - a_3 \\cdot \\beta \\cdot x_3 $\n",
    "\n",
    "$ C_1 = a_2 \\cdot (\\rho - x_3) + a_3 \\cdot x_2 $\n",
    "\n",
    "$x_1$ can be derived from $z_1$ :\n",
    "\n",
    "$ z_2 = b_1 \\cdot d/dt(z_1) + b_2 \\cdot d/dt(x_2) + b_3 \\cdot d/dt(x_3) $\n",
    "\n",
    "The solution if the form:\n",
    "\n",
    "$ {x_1}^2 \\cdot C_2 + x_1 \\cdot C_1 + C_0 = 0 $\n",
    "\n",
    "$\n",
    "C_2 = (\\rho - x_3) \\cdot (b_2 \\cdot a_3) - x_2 \\cdot b_1 \\cdot a_2\n",
    "$\n",
    "\n",
    "$\n",
    "C_1 = \n",
    "        (\\rho - x_3) \\cdot (-(\\sigma + 1) \\cdot (b_1 \\cdot a_2) + b_2)\n",
    "        + x_3 \\cdot (b_1 \\cdot a_2 \\cdot \\beta)\n",
    "        + x_2 \\cdot (-(\\sigma + \\beta + 1) \\cdot (b_2 \\cdot a_3) + b_3)\n",
    "$\n",
    "\n",
    "$\n",
    "C_0 = (\n",
    "        -z_2 \n",
    "        + (\\rho -x_3) \\cdot x_2 \\cdot b_1\\cdot a_2 \\cdot \\sigma \n",
    "        + x_2^2 \\cdot \\sigma \\cdot b_2 \\cdot a_3\n",
    "        + x_2 \\cdot (b_1 \\cdot a_2 - b_2)\n",
    "        + x_3 \\cdot (b_2 \\cdot a_3 \\cdot \\beta**2)\n",
    "    )\n",
    "$"
   ]
  },
  {
   "attachments": {},
   "cell_type": "markdown",
   "metadata": {},
   "source": [
    "### Important parameters"
   ]
  },
  {
   "cell_type": "code",
   "execution_count": null,
   "metadata": {},
   "outputs": [],
   "source": [
    "# index of the unobserved component\n",
    "i_unobs_comp = 0\n",
    "\n",
    "# integration time step\n",
    "dt = 0.01\n",
    "\n",
    "# variance of the random white noise of z\n",
    "variance_unobs_comp = 5\n",
    "\n",
    "# variance of the observation error used in Kalman\n",
    "variance_obs_comp = 0.0001\n",
    "\n",
    "# number of Lorenz-63 times\n",
    "nb_loop = 10\n",
    "\n",
    "# number of SEM iterations\n",
    "nb_iter_SEM = 10"
   ]
  },
  {
   "attachments": {},
   "cell_type": "markdown",
   "metadata": {},
   "source": [
    "### Generate simulated data"
   ]
  },
  {
   "cell_type": "code",
   "execution_count": null,
   "metadata": {
    "nbpresent": {
     "id": "81f56606-9081-47fd-8968-13d85c93063c"
    }
   },
   "outputs": [],
   "source": [
    "# Lorenz-63 dynamical model\n",
    "def Lorenz_63(x, dx, sigma, rho, beta):\n",
    "    dx = np.empty((3))\n",
    "    dx[0] = sigma * (x[1] - x[0])\n",
    "    dx[1] = x[0] * (rho - x[2]) - x[1]\n",
    "    dx[2] = x[0] * x[1] - beta * x[2]\n",
    "    return dx\n",
    "\n",
    "\n",
    "# Lorenz-63 parameters\n",
    "x0 = np.array([8, 0, 30])  # initial condition\n",
    "sigma = 10\n",
    "rho = 28\n",
    "beta = 8 / 3  # physical parameters\n",
    "\n",
    "# time and truth\n",
    "t = np.arange(0.01, nb_loop, dt)\n",
    "x_t = odeint(Lorenz_63, x0, np.arange(0.01, nb_loop, dt), args=(sigma, rho, beta))\n",
    "\n",
    "# observations\n",
    "y_t = x_t.copy()"
   ]
  },
  {
   "attachments": {},
   "cell_type": "markdown",
   "metadata": {},
   "source": [
    "### All components observed.\n",
    "$x = [x_1, x_2, x_3]$"
   ]
  },
  {
   "cell_type": "code",
   "execution_count": null,
   "metadata": {},
   "outputs": [
    {
     "data": {
      "text/plain": [
       "Text(0.5, 1.0, 'All Components')"
      ]
     },
     "execution_count": null,
     "metadata": {},
     "output_type": "execute_result"
    }
   ],
   "source": [
    "y = y_t.copy()\n",
    "# state\n",
    "x = y.copy()\n",
    "\n",
    "# shapes\n",
    "n = np.shape(x)[1]\n",
    "p = np.shape(y)[1]\n",
    "\n",
    "# colors and labels of the components\n",
    "tab_labels = [\"$x_1$\", \"$x_2$\", \"$x_3$\"]\n",
    "\n",
    "# plot the components\n",
    "plt.plot(t, x_t, label=tab_labels)\n",
    "plt.xlabel(\"System loops\")\n",
    "plt.ylabel(\"Components of the system\")\n",
    "plt.legend(loc=1)\n",
    "plt.title(\"All Components\")"
   ]
  },
  {
   "attachments": {},
   "cell_type": "markdown",
   "metadata": {},
   "source": [
    "#### Calculate the coefficients from the model.\n",
    "Note that the equation $\\frac{d\\bar{x}}{dt} = M \\cdot \\bar{x}$ can not solve the problem, because it is a non-linear PDE."
   ]
  },
  {
   "cell_type": "code",
   "execution_count": null,
   "metadata": {},
   "outputs": [],
   "source": [
    "# regression coefficients\n",
    "dx_dt = np.diff(x_t, axis=0) / dt\n",
    "regress = np.linalg.lstsq(dx_dt, x_t[0:-1], rcond=None)\n",
    "regress_coef_true = regress[0]\n",
    "x_regress = dx_dt @ regress_coef_true"
   ]
  },
  {
   "cell_type": "code",
   "execution_count": null,
   "metadata": {},
   "outputs": [],
   "source": [
    "fig, ax0 = plt.subplots(1, 1)\n",
    "ax0.plot(t[0:-1], x_t[0:-1], label=[tab + \" true state\" for tab in tab_labels])\n",
    "ax0.legend(loc=\"lower left\")\n",
    "ax1 = ax0.twinx()\n",
    "ax1.sharey(ax0)\n",
    "ax1.plot(\n",
    "    t[0:-1],\n",
    "    x_regress - x_regress[0] + x_t[0],\n",
    "    label=[tab + \" lin. matrix\" for tab in tab_labels],\n",
    "    linestyle=\"--\",\n",
    ")\n",
    "ax1.legend(loc=\"lower center\")\n",
    "ax0.set_xlabel(\"System loops\")\n",
    "ax0.set_ylabel(\"Components of the system\")\n",
    "ax0.set_title(\"True state vs linear matrix equation.\");"
   ]
  },
  {
   "cell_type": "code",
   "execution_count": null,
   "metadata": {},
   "outputs": [
    {
     "name": "stdout",
     "output_type": "stream",
     "text": [
      "x0\t0.066 dx0/dt +\t0.171 dx1/dt +\t-0.015 dx2/dt +\n",
      "x1\t-0.073 dx0/dt +\t-0.078 dx1/dt +\t-0.008 dx2/dt +\n",
      "x2\t0.000 dx0/dt +\t0.000 dx1/dt +\t-0.005 dx2/dt +\n"
     ]
    }
   ],
   "source": [
    "def coef_to_ode_str(coef):\n",
    "    eq_dim = np.shape(coef)[0]\n",
    "    state_dim = np.shape(coef)[1]\n",
    "    state_names = [f\"x{num}\" for num in range(state_dim)]\n",
    "    for i in range(eq_dim):\n",
    "        res = f\"{state_names[i]}\"\n",
    "        for j in range(state_dim):\n",
    "            res += f\"\\t{coef[i][j]:.3f} d{state_names[j]}/dt +\"\n",
    "        print(res)\n",
    "\n",
    "\n",
    "coef_to_ode_str(regress_coef_true)"
   ]
  },
  {
   "attachments": {},
   "cell_type": "markdown",
   "metadata": {},
   "source": [
    "### V0: $x = [x_2, x_3]$"
   ]
  },
  {
   "cell_type": "code",
   "execution_count": null,
   "metadata": {},
   "outputs": [
    {
     "data": {
      "text/plain": [
       "Text(0.5, 1.0, 'Observed components')"
      ]
     },
     "execution_count": null,
     "metadata": {},
     "output_type": "execute_result"
    }
   ],
   "source": [
    "# state\n",
    "y = y_t[:, [1, 2]]\n",
    "x = np.c_[y[:, 0], y[:, 1]]\n",
    "\n",
    "# shapes\n",
    "n = np.shape(x)[1]\n",
    "p = np.shape(y)[1]\n",
    "\n",
    "# colors and labels of the components\n",
    "tab_labels = [\"$x_2$\", \"$x_3$\"]\n",
    "\n",
    "# plot the components\n",
    "plt.plot(t, x)\n",
    "plt.xlabel(\"System loops\")\n",
    "plt.ylabel(\"Components of the system\")\n",
    "plt.legend(tab_labels, loc=1)\n",
    "plt.title(\"Observed components\")"
   ]
  },
  {
   "cell_type": "code",
   "execution_count": null,
   "metadata": {},
   "outputs": [
    {
     "name": "stderr",
     "output_type": "stream",
     "text": [
      "100%|██████████| 10/10 [00:04<00:00,  2.40it/s]\n"
     ]
    }
   ],
   "source": [
    "# kalman parameters\n",
    "H = np.eye(n)\n",
    "R = variance_obs_comp * np.eye(p)\n",
    "\n",
    "# stochastic EM\n",
    "# x_s_V0, P_s_V0, M_V0, loglik_V0, x, x_f_V0, Q_V0 = Kalman_SEM(x, y, H, R, nb_iter_SEM)\n",
    "\n",
    "x_s_V0, P_s_V0, M_V0, loglik_V0, x, x_f_V0, Q_V0 = Kalman_SEM(x, y, H, R, nb_iter_SEM)"
   ]
  },
  {
   "attachments": {},
   "cell_type": "markdown",
   "metadata": {},
   "source": [
    "### V1: $x = [x_2, x_3, z_1]$"
   ]
  },
  {
   "cell_type": "code",
   "execution_count": null,
   "metadata": {},
   "outputs": [],
   "source": [
    "# state\n",
    "y = y_t[:, [1, 2]]\n",
    "z = np.random.normal(loc=0, scale=variance_unobs_comp, size=np.shape(y)[0])\n",
    "x = np.c_[y[:, 0], y[:, 1], z]\n",
    "\n",
    "# shapes\n",
    "n = np.shape(x)[1]\n",
    "p = np.shape(y)[1]"
   ]
  },
  {
   "cell_type": "code",
   "execution_count": null,
   "metadata": {},
   "outputs": [
    {
     "data": {
      "text/plain": [
       "(0.01, 9.99)"
      ]
     },
     "execution_count": null,
     "metadata": {},
     "output_type": "execute_result"
    }
   ],
   "source": [
    "##################\n",
    "### FIGURE 1-a ###\n",
    "##################\n",
    "\n",
    "tab_labels = [\n",
    "    \"$y_2 \\ (2^{nd} \\ \\mathrm{Lorenz \\ component})$\",\n",
    "    \"$y_3 \\ (3^{rd} \\ \\mathrm{Lorenz \\ component})$\",\n",
    "    \"$z_1 = Random(\\mathcal{N}(0,\\sigma^2))$\",\n",
    "]\n",
    "for i in [2, 0, 1]:\n",
    "    plt.plot(t, x[:, i], color=colors[i], label=tab_labels[i])\n",
    "plt.xlabel(\"Time\")\n",
    "plt.legend(loc=1)\n",
    "plt.ylim([-25, 45])\n",
    "plt.xlim([t[0], t[-1]])"
   ]
  },
  {
   "attachments": {},
   "cell_type": "markdown",
   "metadata": {},
   "source": [
    "**NOTE** The function Kalman_SEM mutates the input array, is that wanted?"
   ]
  },
  {
   "cell_type": "code",
   "execution_count": null,
   "metadata": {},
   "outputs": [
    {
     "name": "stderr",
     "output_type": "stream",
     "text": [
      "100%|██████████| 10/10 [00:04<00:00,  2.20it/s]\n"
     ]
    }
   ],
   "source": [
    "# kalman parameters\n",
    "H = np.delete(np.eye(n), 2, axis=0)\n",
    "R = variance_obs_comp * np.eye(p)\n",
    "\n",
    "# stochastic EM\n",
    "x_s_V1, P_s_V1, M_V1, loglik_V1, x, x_f_V1, Q_V1 = Kalman_SEM(x, y, H, R, nb_iter_SEM)\n",
    "\n",
    "# Because Kalman filter mutates input array x, store it in x_V1\n",
    "x_V1 = x.copy()"
   ]
  },
  {
   "cell_type": "code",
   "execution_count": null,
   "metadata": {},
   "outputs": [],
   "source": [
    "# ##################\n",
    "# ### FIGURE 1-b ###\n",
    "# ##################\n",
    "\n",
    "# # tab_labels = ['$x^s_2$', '$x^s_3$', '$x^s_1 \\pm 1.96 \\sqrt{P^s_1}$']\n",
    "# for i in [2, 0, 1]:\n",
    "#     plt.plot(t, x_s_V1[:, i], color=colors[i], label=tab_labels[i])\n",
    "#     plt.fill_between(\n",
    "#         t,\n",
    "#         x_s_V1[:, i] - 1.96 * np.sqrt(P_s_V1[:, i, i]),\n",
    "#         x_s_V1[:, i] + 1.96 * np.sqrt(P_s_V1[:, i, i]),\n",
    "#         facecolor=colors[i],\n",
    "#         alpha=0.30,\n",
    "#     )\n",
    "\n",
    "# plt.xlabel(\"Time\")\n",
    "# plt.legend(loc=1)\n",
    "# plt.ylim([-25, 45])\n",
    "# plt.xlim([t[0], t[-1]])\n",
    "# # plt.savefig(\"timedependent_model_first_draft.png\")"
   ]
  },
  {
   "attachments": {},
   "cell_type": "markdown",
   "metadata": {},
   "source": [
    "#### Identify the Coefficients:\n",
    "$z_1 = a_1 \\dot{x_1} + a_2 \\dot{x_2} $ "
   ]
  },
  {
   "cell_type": "code",
   "execution_count": null,
   "metadata": {},
   "outputs": [
    {
     "data": {
      "text/plain": [
       "(array([0.04083525, 0.07977075]),\n",
       " array([468.60672627]),\n",
       " 2,\n",
       " array([2631.0627768 , 2175.54397359]))"
      ]
     },
     "execution_count": null,
     "metadata": {},
     "output_type": "execute_result"
    }
   ],
   "source": [
    "# regression coefficients\n",
    "# Calculate the 1st order time derivative\n",
    "dx_dt_V1 = np.diff(x_s_V1, axis=0) / dt\n",
    "\n",
    "# perform a linear approximation for the whole state vector\n",
    "regress_V1 = np.linalg.lstsq(dx_dt_V1, x_s_V1[0:-1], rcond=None)\n",
    "regress_coef_V1 = regress_V1[0]\n",
    "x_regress_V1 = dx_dt_V1 @ regress_coef_V1\n",
    "# perform a linear approximation for\n",
    "# d/dt(x2,x3) * a = z1\n",
    "regress_a = np.linalg.lstsq(dx_dt_V1[:, [0, 1]], x_s_V1[0:-1, -1], rcond=None)\n",
    "regress_a_coef = regress_a[0]\n",
    "z1_V1 = regress_a_coef[0] * dx_dt_V1[:, 0] + regress_a_coef[1] * dx_dt_V1[:, 1]\n",
    "regress_a"
   ]
  },
  {
   "cell_type": "code",
   "execution_count": null,
   "metadata": {},
   "outputs": [],
   "source": [
    "fig, ax0 = plt.subplots(1, 1)\n",
    "for i in [0, 1, 2]:\n",
    "    ax0.plot(\n",
    "        t[0:-1], x_s_V1[0:-1, i], label=tab_labels[i] + \" true state\", color=colors[i]\n",
    "    )\n",
    "    plt.fill_between(\n",
    "        t,\n",
    "        x_s_V1[:, i] - 1.96 * np.sqrt(P_s_V1[:, i, i]),\n",
    "        x_s_V1[:, i] + 1.96 * np.sqrt(P_s_V1[:, i, i]),\n",
    "        facecolor=colors[i],\n",
    "        alpha=0.30,\n",
    "        zorder=10,\n",
    "    )\n",
    "for i in [2]:\n",
    "    ax0.plot(\n",
    "        t[0:-1],\n",
    "        (x_regress_V1 - x_regress_V1[0] + x_s_V1[0])[:, i],\n",
    "        label=tab_labels[i] + \" full matrix\",\n",
    "        color=colors[i + 1],\n",
    "        linewidth=3,\n",
    "    )\n",
    "ax0.plot(\n",
    "    t[0:-1], z1_V1, label=tab_labels[i] + \" eq. 6a\", color=colors[i + 2], linewidth=3\n",
    ")\n",
    "ax0.legend(loc=\"lower left\", ncols=2)\n",
    "ax0.set_xlabel(\"System loops\")\n",
    "ax0.set_ylabel(\"Components of the system\")\n",
    "ax0.set_title(\"True state vs full matrix and eq.6\");"
   ]
  },
  {
   "attachments": {},
   "cell_type": "markdown",
   "metadata": {},
   "source": [
    "### V2: $x = [x_2, x_3, z_1, z_2]$"
   ]
  },
  {
   "cell_type": "code",
   "execution_count": null,
   "metadata": {},
   "outputs": [
    {
     "data": {
      "text/plain": [
       "Text(0.5, 1.0, 'Initial x')"
      ]
     },
     "execution_count": null,
     "metadata": {},
     "output_type": "execute_result"
    }
   ],
   "source": [
    "# state\n",
    "z = np.random.normal(\n",
    "    loc=x_t[:, i_unobs_comp] * 0, scale=variance_unobs_comp, size=np.shape(y)[0]\n",
    ")\n",
    "x = np.c_[x_V1, z]\n",
    "\n",
    "# shapes\n",
    "n = np.shape(x)[1]\n",
    "p = np.shape(y)[1]\n",
    "\n",
    "# colors and labels of the components\n",
    "tab_colors = [\"C0\", \"C1\", \"C2\", \"C3\"]\n",
    "tab_labels = [\"$x_2$\", \"$x_3$\", \"$z_1$\", \"$z_2$\"]\n",
    "\n",
    "# plot the components\n",
    "plt.plot(t, x, label=tab_labels)\n",
    "plt.xlabel(\"System loops\")\n",
    "plt.ylabel(\"Components of the system\")\n",
    "plt.legend(loc=1, ncols=2)\n",
    "plt.title(\"Initial x\")"
   ]
  },
  {
   "cell_type": "code",
   "execution_count": null,
   "metadata": {},
   "outputs": [
    {
     "name": "stderr",
     "output_type": "stream",
     "text": [
      "100%|██████████| 10/10 [00:04<00:00,  2.41it/s]\n"
     ]
    }
   ],
   "source": [
    "# kalman parameters\n",
    "H = np.delete(np.eye(n), [2, 3], axis=0)\n",
    "R = variance_obs_comp * np.eye(p)\n",
    "\n",
    "# stochastic EM\n",
    "x_s_V2, P_s_V2, M_V3, loglik_V2, x, x_f_V2, Q_V2 = Kalman_SEM(x, y, H, R, nb_iter_SEM)"
   ]
  },
  {
   "attachments": {},
   "cell_type": "markdown",
   "metadata": {},
   "source": [
    "#### Identify the Coefficients:\n",
    "$z_2 = b_1 \\dot{z_1} + b_2 \\dot{x_2} + b_3 \\dot{x_3} $ "
   ]
  },
  {
   "cell_type": "code",
   "execution_count": null,
   "metadata": {},
   "outputs": [
    {
     "data": {
      "text/plain": [
       "(array([[-0.08656947],\n",
       "        [ 0.0345387 ],\n",
       "        [-0.00301081]]),\n",
       " array([1145.53227217]),\n",
       " 3,\n",
       " array([3171.70938298, 2629.76400034, 2175.52002407]))"
      ]
     },
     "execution_count": null,
     "metadata": {},
     "output_type": "execute_result"
    }
   ],
   "source": [
    "# regression coefficients\n",
    "# Calculate the 1st order time derivative\n",
    "dx_dt_V2 = np.diff(x_s_V2, axis=0) / dt\n",
    "\n",
    "# perform a linear approximation for the whole state vector\n",
    "regress_V2 = np.linalg.lstsq(dx_dt_V2, x_s_V2[0:-1], rcond=None)\n",
    "regress_coef_V2 = regress_V2[0]\n",
    "x_regress_V2 = dx_dt_V2 @ regress_coef_V2\n",
    "# perform a linear approximation for\n",
    "# d/dt(x2,x3) * a = (z1)\n",
    "regress_a_V2 = np.linalg.lstsq(dx_dt_V2[:, [0, 1]], x_s_V2[0:-1, [-2]], rcond=None)\n",
    "regress_a_V2_coef = regress_a_V2[0]\n",
    "z1_V2 = regress_a_V2_coef[0] * dx_dt_V2[:, 0] + regress_a_V2_coef[1] * dx_dt_V2[:, 1]\n",
    "# perform a linear approximation for\n",
    "# d/dt(x2,x3) * b = (z1,z2)\n",
    "regress_b = np.linalg.lstsq(dx_dt_V2[:, [0, 1, 2]], x_s_V2[0:-1, [-1]], rcond=None)\n",
    "regress_b_coef = regress_b[0]\n",
    "z2_V2 = (\n",
    "    regress_b_coef[0] * dx_dt_V2[:, 0]\n",
    "    + regress_b_coef[1] * dx_dt_V2[:, 1]\n",
    "    + regress_b_coef[2] * dx_dt_V2[:, 2]\n",
    ")\n",
    "regress_b"
   ]
  },
  {
   "cell_type": "code",
   "execution_count": null,
   "metadata": {},
   "outputs": [],
   "source": [
    "fig, ax0 = plt.subplots(1, 1)\n",
    "for i in [0, 1, 2, 3]:\n",
    "    ax0.plot(\n",
    "        t[0:-1],\n",
    "        x_s_V2[0:-1, i],\n",
    "        label=tab_labels[i] + \" true state\",\n",
    "        color=colors[i],\n",
    "        linestyle=\":\",\n",
    "    )\n",
    "    plt.fill_between(\n",
    "        t,\n",
    "        x_s_V2[:, i] - 1.96 * np.sqrt(P_s_V2[:, i, i]),\n",
    "        x_s_V2[:, i] + 1.96 * np.sqrt(P_s_V2[:, i, i]),\n",
    "        facecolor=colors[i],\n",
    "        alpha=0.30,\n",
    "        zorder=10,\n",
    "    )\n",
    "for i in [2, 3]:\n",
    "    # ax0.plot(\n",
    "    #     t[0:-1],\n",
    "    #     (x_regress_V2 - x_regress_V2[0])[:, i],\n",
    "    #     label=tab_labels[i] + \"full matrix\",\n",
    "    #     color=colors[i],\n",
    "    #     linestyle=\"--\",\n",
    "    # )\n",
    "    if i == 2:\n",
    "        ax0.plot(\n",
    "            t[0:-1],\n",
    "            z1_V2,\n",
    "            label=tab_labels[i] + \" eq. 6a\",\n",
    "            color=colors[i],\n",
    "            linestyle=\"-\",\n",
    "        )\n",
    "    if i == 3:\n",
    "        ax0.plot(\n",
    "            t[0:-1],\n",
    "            z2_V2,\n",
    "            label=tab_labels[i] + \" eq. 6b\",\n",
    "            color=colors[i],\n",
    "            linestyle=\"-\",\n",
    "        )\n",
    "\n",
    "ax0.legend(loc=\"lower left\", ncols=3)\n",
    "ax0.set_xlabel(\"System loops\")\n",
    "ax0.set_ylabel(\"Components of the system\")\n",
    "ax0.set_title(\"True state vs full matrix and eq.6\");"
   ]
  },
  {
   "attachments": {},
   "cell_type": "markdown",
   "metadata": {},
   "source": [
    "**It is  still known that the true state is related to the PDE**"
   ]
  },
  {
   "cell_type": "code",
   "execution_count": null,
   "metadata": {},
   "outputs": [],
   "source": [
    "def calculate_x1(x2, x3, z1, z2, a, b, sigma, beta, rho):\n",
    "    \"\"\"Calculate the missing component x1 using\n",
    "    - x2 of the Kalman_SEM\n",
    "    - x3 of the Kalman_SEM\n",
    "    - z1 of the Kalman_SEM\n",
    "    - z2 of the Kalman_SEM\n",
    "    - a containing the coefficients a1, a2, a3 (a1 is not used)\n",
    "    - b containing the coefficients b1, b2, b3\n",
    "    For a and b refer to eq.6(a+b) in the paper Tandeo et. al 2023.\n",
    "\n",
    "    Parameters\n",
    "    ----------\n",
    "    x2: np.ndarray\n",
    "        x2 of the Lorenz model.\n",
    "        Needs to be dimension 1 with length N.\n",
    "    x3: np.ndarray\n",
    "        x3 of the Lorenz model.\n",
    "        Needs to be dimension 1 with length N.\n",
    "    z1: np.ndarray\n",
    "        1st additional component used for the Kalman_SEM().\n",
    "        Needs to be dimension 1 with length N.\n",
    "    z2: np.ndarray\n",
    "        2nd additional component used for the Kalman_SEM().\n",
    "        Needs to be dimension 1 with length N.\n",
    "    a: np.ndarray\n",
    "        Array containing the coefficients [a2,a3] for the equation:\n",
    "        z1 = a2* d/dt(x2) + a3* d/dt(x3)\n",
    "    b: np.ndarray\n",
    "        Array containing the coefficients [b1, b2, b3] for the equation:\n",
    "        z2 = b1* d/dt(z1) + b2* d2/dt2(x3) + b3* d2/dt2(x3)\n",
    "\n",
    "    Returns\n",
    "    -------\n",
    "    np.ndarray\n",
    "        The estimation of x1 based the coefficients provided and the assumption of knowing\n",
    "        d/dt(x2) = ... and\n",
    "        d/dt(x3) = ...\n",
    "        from the Lorenz Model PDE.\n",
    "\n",
    "    \"\"\"\n",
    "    a2 = a[0]\n",
    "    a3 = a[1]\n",
    "    b1 = b[0]\n",
    "    b2 = b[1]\n",
    "    b3 = b[2]\n",
    "\n",
    "    # if only z1 is provided, use the equation derived from:\n",
    "    # === 1st ===\n",
    "    # x1 can be derived from z1 :\n",
    "    # z1 = a2*d/dt(x2) +a3*d/dt(x3)\n",
    "    # The solution if the form:\n",
    "    # coef_1 * x1 + coef_0 = 0\n",
    "    if z2 is None or z2 is False:\n",
    "        coef_0 = -z1 - a2 * x2 - a3 * beta * x3\n",
    "        coef_1 = a2 * (rho - x3) + a3 * x2\n",
    "        # return the coefficients\n",
    "        return np.array((coef_0, coef_1))\n",
    "    # === 2st ===\n",
    "    # x1 can be derived from z2 :\n",
    "    # z2 = b1*d/dt(z1) + b2*d2/dt2(x2) +b3*d2/dt2(x3)\n",
    "    # The solution if the form:\n",
    "    # coef_1 * x1**2 + coef_2 * x1 + coef_0 = 0\n",
    "    elif z1 is None or z1 is False:\n",
    "        coef_2 = (rho - x3) * (b2 * a3) - x2 * b1 * a2\n",
    "        coef_1 = (\n",
    "            (rho - x3) * (-(sigma + 1) * (b1 * a2) + b2)\n",
    "            + x3 * (b1 * a2 * beta)\n",
    "            + x2 * (-(sigma + beta + 1) * (b2 * a3) + b3)\n",
    "        )\n",
    "        coef_0 = (\n",
    "            -z2\n",
    "            + (rho - x3) * x2 * b1 * a2 * sigma\n",
    "            + x2**2 * sigma * b2 * a3\n",
    "            + x2 * (b1 * a2 - b2)\n",
    "            + x3 * (b2 * a3 * beta**2)\n",
    "        )\n",
    "        # return the coefficients\n",
    "        return np.array((coef_2, coef_1, coef_0))\n",
    "    # === 3rd ===\n",
    "    # Actually both conditions must be true, this can be done by addid the two equations:\n",
    "\n",
    "    else:\n",
    "        coef_0_z1 = -z1 - a2 * x2 - a3 * beta * x3\n",
    "        coef_1_z1 = a2 * (rho - x3) + a3 * x2\n",
    "        coef_2_z2 = (rho - x3) * (b2 * a3) - x2 * b1 * a2\n",
    "        coef_1_z2 = (\n",
    "            (rho - x3) * (-(sigma + 1) * (b1 * a2) + b2)\n",
    "            + x3 * (b1 * a2 * beta)\n",
    "            + x2 * (-(sigma + beta + 1) * (b2 * a3) + b3)\n",
    "        )\n",
    "        coef_0_z2 = (\n",
    "            -z2\n",
    "            + b1 * a2 * sigma * (rho - x3) * x2\n",
    "            + x2**2 * sigma * b2 * a3\n",
    "            + x2 * (b1 * a2 - b2)\n",
    "            + x3 * (b2 * a3 * beta**2)\n",
    "        )\n",
    "        coef_2 = coef_2_z2\n",
    "        coef_1 = coef_1_z1 + coef_1_z2\n",
    "        coef_0 = coef_0_z1 + coef_0_z2\n",
    "        return np.array((coef_2, coef_1, coef_0))\n",
    "\n",
    "\n",
    "def coefs_to_x1(coefs):\n",
    "    if np.shape(coefs)[0] == 2:\n",
    "        return -coefs[0] / coefs[1]\n",
    "    elif np.shape(coefs)[0] == 3:\n",
    "        coefs = coefs / coefs[0]\n",
    "        res_pos = -coefs[1] / 2 + np.sqrt((coefs[1] / 2) ** 2 - coefs[2])\n",
    "        res_neg = -coefs[1] / 2 - np.sqrt((coefs[1] / 2) ** 2 - coefs[2])\n",
    "        return res_pos, res_neg\n",
    "\n",
    "\n",
    "coefs_z1 = calculate_x1(\n",
    "    x2=x_s_V2[:, 0],\n",
    "    x3=x_s_V2[:, 1],\n",
    "    z1=x_s_V2[:, 2],\n",
    "    z2=False,\n",
    "    a=regress_a_V2_coef,\n",
    "    b=regress_b_coef,\n",
    "    sigma=sigma,\n",
    "    beta=beta,\n",
    "    rho=rho,\n",
    ")\n",
    "coefs_z2 = calculate_x1(\n",
    "    x2=x_s_V2[:, 0],\n",
    "    x3=x_s_V2[:, 1],\n",
    "    z1=False,\n",
    "    z2=x_s_V2[:, 3],\n",
    "    a=regress_a_V2_coef,\n",
    "    b=regress_b_coef,\n",
    "    sigma=sigma,\n",
    "    beta=beta,\n",
    "    rho=rho,\n",
    ")\n",
    "coefs_z1_z2 = calculate_x1(\n",
    "    x2=x_s_V2[:, 0],\n",
    "    x3=x_s_V2[:, 1],\n",
    "    z1=x_s_V2[:, 2],\n",
    "    z2=x_s_V2[:, 3],\n",
    "    a=regress_a_V2_coef,\n",
    "    b=regress_b_coef,\n",
    "    sigma=sigma,\n",
    "    beta=beta,\n",
    "    rho=rho,\n",
    ")"
   ]
  },
  {
   "cell_type": "code",
   "execution_count": null,
   "metadata": {},
   "outputs": [
    {
     "name": "stderr",
     "output_type": "stream",
     "text": [
      "C:\\Users\\Niebaum\\AppData\\Local\\Temp\\ipykernel_1920\\2054118017.py:109: RuntimeWarning: invalid value encountered in sqrt\n",
      "  res_pos = -coefs[1] / 2 + np.sqrt((coefs[1] / 2) ** 2 - coefs[2])\n",
      "C:\\Users\\Niebaum\\AppData\\Local\\Temp\\ipykernel_1920\\2054118017.py:110: RuntimeWarning: invalid value encountered in sqrt\n",
      "  res_neg = -coefs[1] / 2 - np.sqrt((coefs[1] / 2) ** 2 - coefs[2])\n"
     ]
    }
   ],
   "source": [
    "fig, axs = plt.subplots(ncols=1, nrows=3, sharex=True, sharey=True, figsize=(16, 8))\n",
    "for ax in axs:\n",
    "    ax.plot(t, x_t[:, 0], label=r\"$x_1^{true}$\", alpha=1, lw=2)\n",
    "axs[0].plot(\n",
    "    t,\n",
    "    coefs_to_x1(coefs_z1),\n",
    "    label=r\"$x_1^{recon.}$ from $z_1$\",\n",
    "    linestyle=\"-\",\n",
    "    alpha=0.8,\n",
    "    lw=2,\n",
    ")\n",
    "axs[1].plot(\n",
    "    t,\n",
    "    coefs_to_x1(coefs_z2)[0],\n",
    "    label=r\"$x_1^{recon.}$ from $z_2$\",\n",
    "    linestyle=\"-\",\n",
    "    alpha=0.8,\n",
    "    lw=2,\n",
    ")\n",
    "axs[1].plot(\n",
    "    t,\n",
    "    coefs_to_x1(coefs_z2)[1],\n",
    "    label=r\"$x_1^{recon.}$ from $z_2$\",\n",
    "    linestyle=\"-\",\n",
    "    alpha=0.8,\n",
    "    lw=2,\n",
    ")\n",
    "axs[2].plot(\n",
    "    t,\n",
    "    coefs_to_x1(coefs_z1_z2)[0],\n",
    "    label=r\"$x_1^{recon.}$ from $z_1$ and $z_2$\",\n",
    "    linestyle=\"-\",\n",
    "    alpha=0.8,\n",
    "    lw=2,\n",
    ")\n",
    "axs[2].plot(\n",
    "    t,\n",
    "    coefs_to_x1(coefs_z1_z2)[1],\n",
    "    label=r\"$x_1^{recon.}$ from $z_1$ and $z_2$\",\n",
    "    linestyle=\"-\",\n",
    "    alpha=0.8,\n",
    "    lw=2,\n",
    ")\n",
    "axs[0].set_ylim(-20.0, 20.0)\n",
    "for ax in axs:\n",
    "    ax.legend(loc=\"upper right\")\n",
    "    ax.set_xlabel(\"System loops\")\n",
    "    ax.set_ylabel(\"Sys. Comp.\")\n",
    "\n",
    "fig.suptitle(r\"$x_1^{true}$ vs. $x_1^{recon.}$\")\n",
    "fig.tight_layout()"
   ]
  },
  {
   "cell_type": "code",
   "execution_count": null,
   "metadata": {},
   "outputs": [],
   "source": [
    "kwargs = dict(cmap=\"RdBu_r\", vmin=-10, vmax=10)\n",
    "fig, axs_all = plt.subplots(ncols=3, nrows=1, figsize=(12, 5), sharex=True, sharey=True)\n",
    "axs_all = [axs_all]\n",
    "for axs in axs_all:\n",
    "    x1_restored = coefs_to_x1(coefs_z1)\n",
    "    mpl = axs[0].scatter(x_t[:, 1], x_t[:, 2], c=x_t[:, 0], **kwargs)\n",
    "    axs[0].set_title(r\"$x_1^{true}$\")\n",
    "    cbar = fig.colorbar(mappable=mpl, ax=axs[0])\n",
    "    mpl = axs[1].scatter(x_t[:, 1], x_t[:, 2], c=x1_restored, **kwargs)\n",
    "    axs[1].set_title(r\"$x_1^{recon}$\")\n",
    "    fig.colorbar(mappable=mpl, ax=axs[1])\n",
    "    mpl = axs[2].scatter(\n",
    "        x_t[:, 1], x_t[:, 2], c=(x_t[:, 0] - x1_restored) / x_t[:, 0], **kwargs\n",
    "    )\n",
    "    fig.colorbar(mappable=mpl, ax=axs[2])\n",
    "    axs[2].set_title(r\"$(x_1^{true} - x_1^{recon})/x_1^{true}$\")\n",
    "    for ax in axs:\n",
    "        ax.set_xlabel(r\"$x_2^{true}$\")\n",
    "        ax.set_ylabel(r\"$x_3^{true}$\")\n",
    "fig.tight_layout()"
   ]
  },
  {
   "cell_type": "code",
   "execution_count": null,
   "metadata": {},
   "outputs": [],
   "source": [
    "def calc_x1_z1(x2, x3, z1, z2, a, b, sigma, beta, rho):\n",
    "    \"\"\"Calculate the missing component x1 using\n",
    "    - x2 of the Kalman_SEM\n",
    "    - x3 of the Kalman_SEM\n",
    "    - z1 of the Kalman_SEM\n",
    "    - z2 of the Kalman_SEM\n",
    "    - a containing the coefficients a1, a2, a3 (a1 is not used)\n",
    "    - b containing the coefficients b1, b2, b3\n",
    "    For a and b refer to eq.6(a+b) in the paper Tandeo et. al 2023.\n",
    "\n",
    "    Parameters\n",
    "    ----------\n",
    "    x2: np.ndarray\n",
    "        x2 of the Lorenz model.\n",
    "        Needs to be dimension 1 with length N.\n",
    "    x3: np.ndarray\n",
    "        x3 of the Lorenz model.\n",
    "        Needs to be dimension 1 with length N.\n",
    "    z1: np.ndarray\n",
    "        1st additional component used for the Kalman_SEM().\n",
    "        Needs to be dimension 1 with length N.\n",
    "    z2: np.ndarray\n",
    "        2nd additional component used for the Kalman_SEM().\n",
    "        Needs to be dimension 1 with length N.\n",
    "    a: np.ndarray\n",
    "        Array containing the coefficients [a2,a3] for the equation:\n",
    "        z1 = a2* d/dt(x2) + a3* d/dt(x3)\n",
    "    b: np.ndarray\n",
    "        Array containing the coefficients [b1, b2, b3] for the equation:\n",
    "        z2 = b1* d/dt(z1) + b2* d2/dt2(x3) + b3* d2/dt2(x3)\n",
    "\n",
    "    Returns\n",
    "    -------\n",
    "    np.ndarray\n",
    "        The estimation of x1 based the coefficients provided and the assumption of knowing\n",
    "        d/dt(x2) = ... and\n",
    "        d/dt(x3) = ...\n",
    "        from the Lorenz Model PDE.\n",
    "\n",
    "    \"\"\"\n",
    "    a2 = a[0]\n",
    "    a3 = a[1]\n",
    "    b1 = b[0]\n",
    "    b2 = b[1]\n",
    "    b3 = b[2]\n",
    "    coef_0 = -z1 - a2 * x2 - a3 * beta * x3\n",
    "    coef_1 = a2 * (rho - x3) + a3 * x2\n",
    "    x1_1 = -coef_0 / coef_1\n",
    "    # return the coefficients\n",
    "    x1_2 = (a2 * x2 + a3 * beta * x3 + z1) / (a2 * rho - a2 * x3 + a3 * x2)\n",
    "    return [x1_1, x1_2]"
   ]
  },
  {
   "cell_type": "code",
   "execution_count": null,
   "metadata": {},
   "outputs": [],
   "source": [
    "def calc_x1_z2(x2, x3, z1, z2, a, b, sigma, beta, rho):\n",
    "    \"\"\"Calculate the missing component x1 using\n",
    "    - x2 of the Kalman_SEM\n",
    "    - x3 of the Kalman_SEM\n",
    "    - z1 of the Kalman_SEM\n",
    "    - z2 of the Kalman_SEM\n",
    "    - a containing the coefficients a1, a2, a3 (a1 is not used)\n",
    "    - b containing the coefficients b1, b2, b3\n",
    "    For a and b refer to eq.6(a+b) in the paper Tandeo et. al 2023.\n",
    "\n",
    "    Parameters\n",
    "    ----------\n",
    "    x2: np.ndarray\n",
    "        x2 of the Lorenz model.\n",
    "        Needs to be dimension 1 with length N.\n",
    "    x3: np.ndarray\n",
    "        x3 of the Lorenz model.\n",
    "        Needs to be dimension 1 with length N.\n",
    "    z1: np.ndarray\n",
    "        1st additional component used for the Kalman_SEM().\n",
    "        Needs to be dimension 1 with length N.\n",
    "    z2: np.ndarray\n",
    "        2nd additional component used for the Kalman_SEM().\n",
    "        Needs to be dimension 1 with length N.\n",
    "    a: np.ndarray\n",
    "        Array containing the coefficients [a2,a3] for the equation:\n",
    "        z1 = a2* d/dt(x2) + a3* d/dt(x3)\n",
    "    b: np.ndarray\n",
    "        Array containing the coefficients [b1, b2, b3] for the equation:\n",
    "        z2 = b1* d/dt(z1) + b2* d2/dt2(x3) + b3* d2/dt2(x3)\n",
    "\n",
    "    Returns\n",
    "    -------\n",
    "    np.ndarray\n",
    "        The estimation of x1 based the coefficients provided and the assumption of knowing\n",
    "        d/dt(x2) = ... and\n",
    "        d/dt(x3) = ...\n",
    "        from the Lorenz Model PDE.\n",
    "\n",
    "    \"\"\"\n",
    "    a2 = a[0]\n",
    "    a3 = a[1]\n",
    "    b1 = b[0]\n",
    "    b2 = b[1]\n",
    "    b3 = b[2]\n",
    "    x1_res_1 = (\n",
    "        a2 * b1 * beta * x3\n",
    "        - a2 * b1 * rho * sigma\n",
    "        - a2 * b1 * rho\n",
    "        + a2 * b1 * sigma * x3\n",
    "        + a2 * b1 * x3\n",
    "        - a3 * b1 * beta * x2\n",
    "        - a3 * b1 * sigma * x2\n",
    "        - a3 * b1 * x2\n",
    "        + b2 * rho\n",
    "        - b2 * x3\n",
    "        + b3 * x2\n",
    "        - np.sqrt(\n",
    "            a2**2 * b1**2 * beta**2 * x3**2\n",
    "            - 2 * a2**2 * b1**2 * beta * rho * sigma * x3\n",
    "            - 2 * a2**2 * b1**2 * beta * rho * x3\n",
    "            + 2 * a2**2 * b1**2 * beta * sigma * x3**2\n",
    "            + 2 * a2**2 * b1**2 * beta * x3**2\n",
    "            + a2**2 * b1**2 * rho**2 * sigma**2\n",
    "            + 2 * a2**2 * b1**2 * rho**2 * sigma\n",
    "            + a2**2 * b1**2 * rho**2\n",
    "            - 2 * a2**2 * b1**2 * rho * sigma**2 * x3\n",
    "            + 4 * a2**2 * b1**2 * rho * sigma * x2**2\n",
    "            - 4 * a2**2 * b1**2 * rho * sigma * x3\n",
    "            - 2 * a2**2 * b1**2 * rho * x3\n",
    "            + a2**2 * b1**2 * sigma**2 * x3**2\n",
    "            - 4 * a2**2 * b1**2 * sigma * x2**2 * x3\n",
    "            + 2 * a2**2 * b1**2 * sigma * x3**2\n",
    "            + 4 * a2**2 * b1**2 * x2**2\n",
    "            + a2**2 * b1**2 * x3**2\n",
    "            + 2 * a2 * a3 * b1**2 * beta**2 * x2 * x3\n",
    "            + 2 * a2 * a3 * b1**2 * beta * rho * sigma * x2\n",
    "            + 2 * a2 * a3 * b1**2 * beta * rho * x2\n",
    "            - 4 * a2 * a3 * b1**2 * beta * sigma * x2 * x3\n",
    "            - 4 * a2 * a3 * b1**2 * beta * x2 * x3\n",
    "            - 4 * a2 * a3 * b1**2 * rho**2 * sigma * x2\n",
    "            + 2 * a2 * a3 * b1**2 * rho * sigma**2 * x2\n",
    "            + 8 * a2 * a3 * b1**2 * rho * sigma * x2 * x3\n",
    "            + 4 * a2 * a3 * b1**2 * rho * sigma * x2\n",
    "            - 2 * a2 * a3 * b1**2 * rho * x2\n",
    "            - 2 * a2 * a3 * b1**2 * sigma**2 * x2 * x3\n",
    "            + 4 * a2 * a3 * b1**2 * sigma * x2**3\n",
    "            - 4 * a2 * a3 * b1**2 * sigma * x2 * x3**2\n",
    "            - 4 * a2 * a3 * b1**2 * sigma * x2 * x3\n",
    "            + 2 * a2 * a3 * b1**2 * x2 * x3\n",
    "            + 2 * a2 * b1 * b2 * beta * rho * x3\n",
    "            - 2 * a2 * b1 * b2 * beta * x3**2\n",
    "            - 2 * a2 * b1 * b2 * rho**2 * sigma\n",
    "            - 2 * a2 * b1 * b2 * rho**2\n",
    "            + 4 * a2 * b1 * b2 * rho * sigma * x3\n",
    "            + 4 * a2 * b1 * b2 * rho * x3\n",
    "            - 2 * a2 * b1 * b2 * sigma * x3**2\n",
    "            - 4 * a2 * b1 * b2 * x2**2\n",
    "            - 2 * a2 * b1 * b2 * x3**2\n",
    "            - 2 * a2 * b1 * b3 * beta * x2 * x3\n",
    "            - 2 * a2 * b1 * b3 * rho * sigma * x2\n",
    "            - 2 * a2 * b1 * b3 * rho * x2\n",
    "            + 2 * a2 * b1 * b3 * sigma * x2 * x3\n",
    "            + 2 * a2 * b1 * b3 * x2 * x3\n",
    "            - 4 * a2 * b1 * x2 * z2\n",
    "            - 4 * a3**2 * b1**2 * beta**2 * rho * x3\n",
    "            + a3**2 * b1**2 * beta**2 * x2**2\n",
    "            + 4 * a3**2 * b1**2 * beta**2 * x3**2\n",
    "            + 2 * a3**2 * b1**2 * beta * sigma * x2**2\n",
    "            + 2 * a3**2 * b1**2 * beta * x2**2\n",
    "            - 4 * a3**2 * b1**2 * rho * sigma * x2**2\n",
    "            + a3**2 * b1**2 * sigma**2 * x2**2\n",
    "            + 4 * a3**2 * b1**2 * sigma * x2**2 * x3\n",
    "            + 2 * a3**2 * b1**2 * sigma * x2**2\n",
    "            + a3**2 * b1**2 * x2**2\n",
    "            - 2 * a3 * b1 * b2 * beta * rho * x2\n",
    "            + 2 * a3 * b1 * b2 * beta * x2 * x3\n",
    "            - 2 * a3 * b1 * b2 * rho * sigma * x2\n",
    "            + 2 * a3 * b1 * b2 * rho * x2\n",
    "            + 2 * a3 * b1 * b2 * sigma * x2 * x3\n",
    "            - 2 * a3 * b1 * b2 * x2 * x3\n",
    "            + 4 * a3 * b1 * b3 * beta * rho * x3\n",
    "            - 2 * a3 * b1 * b3 * beta * x2**2\n",
    "            - 4 * a3 * b1 * b3 * beta * x3**2\n",
    "            - 2 * a3 * b1 * b3 * sigma * x2**2\n",
    "            - 2 * a3 * b1 * b3 * x2**2\n",
    "            + 4 * a3 * b1 * rho * z2\n",
    "            - 4 * a3 * b1 * x3 * z2\n",
    "            + b2**2 * rho**2\n",
    "            - 2 * b2**2 * rho * x3\n",
    "            + b2**2 * x3**2\n",
    "            + 2 * b2 * b3 * rho * x2\n",
    "            - 2 * b2 * b3 * x2 * x3\n",
    "            + b3**2 * x2**2\n",
    "        )\n",
    "    ) / (2 * b1 * (a2 * x2 - a3 * rho + a3 * x3))\n",
    "    x1_res_2 = (\n",
    "        a2 * b1 * beta * x3\n",
    "        - a2 * b1 * rho * sigma\n",
    "        - a2 * b1 * rho\n",
    "        + a2 * b1 * sigma * x3\n",
    "        + a2 * b1 * x3\n",
    "        - a3 * b1 * beta * x2\n",
    "        - a3 * b1 * sigma * x2\n",
    "        - a3 * b1 * x2\n",
    "        + b2 * rho\n",
    "        - b2 * x3\n",
    "        + b3 * x2\n",
    "        + np.sqrt(\n",
    "            a2**2 * b1**2 * beta**2 * x3**2\n",
    "            - 2 * a2**2 * b1**2 * beta * rho * sigma * x3\n",
    "            - 2 * a2**2 * b1**2 * beta * rho * x3\n",
    "            + 2 * a2**2 * b1**2 * beta * sigma * x3**2\n",
    "            + 2 * a2**2 * b1**2 * beta * x3**2\n",
    "            + a2**2 * b1**2 * rho**2 * sigma**2\n",
    "            + 2 * a2**2 * b1**2 * rho**2 * sigma\n",
    "            + a2**2 * b1**2 * rho**2\n",
    "            - 2 * a2**2 * b1**2 * rho * sigma**2 * x3\n",
    "            + 4 * a2**2 * b1**2 * rho * sigma * x2**2\n",
    "            - 4 * a2**2 * b1**2 * rho * sigma * x3\n",
    "            - 2 * a2**2 * b1**2 * rho * x3\n",
    "            + a2**2 * b1**2 * sigma**2 * x3**2\n",
    "            - 4 * a2**2 * b1**2 * sigma * x2**2 * x3\n",
    "            + 2 * a2**2 * b1**2 * sigma * x3**2\n",
    "            + 4 * a2**2 * b1**2 * x2**2\n",
    "            + a2**2 * b1**2 * x3**2\n",
    "            + 2 * a2 * a3 * b1**2 * beta**2 * x2 * x3\n",
    "            + 2 * a2 * a3 * b1**2 * beta * rho * sigma * x2\n",
    "            + 2 * a2 * a3 * b1**2 * beta * rho * x2\n",
    "            - 4 * a2 * a3 * b1**2 * beta * sigma * x2 * x3\n",
    "            - 4 * a2 * a3 * b1**2 * beta * x2 * x3\n",
    "            - 4 * a2 * a3 * b1**2 * rho**2 * sigma * x2\n",
    "            + 2 * a2 * a3 * b1**2 * rho * sigma**2 * x2\n",
    "            + 8 * a2 * a3 * b1**2 * rho * sigma * x2 * x3\n",
    "            + 4 * a2 * a3 * b1**2 * rho * sigma * x2\n",
    "            - 2 * a2 * a3 * b1**2 * rho * x2\n",
    "            - 2 * a2 * a3 * b1**2 * sigma**2 * x2 * x3\n",
    "            + 4 * a2 * a3 * b1**2 * sigma * x2**3\n",
    "            - 4 * a2 * a3 * b1**2 * sigma * x2 * x3**2\n",
    "            - 4 * a2 * a3 * b1**2 * sigma * x2 * x3\n",
    "            + 2 * a2 * a3 * b1**2 * x2 * x3\n",
    "            + 2 * a2 * b1 * b2 * beta * rho * x3\n",
    "            - 2 * a2 * b1 * b2 * beta * x3**2\n",
    "            - 2 * a2 * b1 * b2 * rho**2 * sigma\n",
    "            - 2 * a2 * b1 * b2 * rho**2\n",
    "            + 4 * a2 * b1 * b2 * rho * sigma * x3\n",
    "            + 4 * a2 * b1 * b2 * rho * x3\n",
    "            - 2 * a2 * b1 * b2 * sigma * x3**2\n",
    "            - 4 * a2 * b1 * b2 * x2**2\n",
    "            - 2 * a2 * b1 * b2 * x3**2\n",
    "            - 2 * a2 * b1 * b3 * beta * x2 * x3\n",
    "            - 2 * a2 * b1 * b3 * rho * sigma * x2\n",
    "            - 2 * a2 * b1 * b3 * rho * x2\n",
    "            + 2 * a2 * b1 * b3 * sigma * x2 * x3\n",
    "            + 2 * a2 * b1 * b3 * x2 * x3\n",
    "            - 4 * a2 * b1 * x2 * z2\n",
    "            - 4 * a3**2 * b1**2 * beta**2 * rho * x3\n",
    "            + a3**2 * b1**2 * beta**2 * x2**2\n",
    "            + 4 * a3**2 * b1**2 * beta**2 * x3**2\n",
    "            + 2 * a3**2 * b1**2 * beta * sigma * x2**2\n",
    "            + 2 * a3**2 * b1**2 * beta * x2**2\n",
    "            - 4 * a3**2 * b1**2 * rho * sigma * x2**2\n",
    "            + a3**2 * b1**2 * sigma**2 * x2**2\n",
    "            + 4 * a3**2 * b1**2 * sigma * x2**2 * x3\n",
    "            + 2 * a3**2 * b1**2 * sigma * x2**2\n",
    "            + a3**2 * b1**2 * x2**2\n",
    "            - 2 * a3 * b1 * b2 * beta * rho * x2\n",
    "            + 2 * a3 * b1 * b2 * beta * x2 * x3\n",
    "            - 2 * a3 * b1 * b2 * rho * sigma * x2\n",
    "            + 2 * a3 * b1 * b2 * rho * x2\n",
    "            + 2 * a3 * b1 * b2 * sigma * x2 * x3\n",
    "            - 2 * a3 * b1 * b2 * x2 * x3\n",
    "            + 4 * a3 * b1 * b3 * beta * rho * x3\n",
    "            - 2 * a3 * b1 * b3 * beta * x2**2\n",
    "            - 4 * a3 * b1 * b3 * beta * x3**2\n",
    "            - 2 * a3 * b1 * b3 * sigma * x2**2\n",
    "            - 2 * a3 * b1 * b3 * x2**2\n",
    "            + 4 * a3 * b1 * rho * z2\n",
    "            - 4 * a3 * b1 * x3 * z2\n",
    "            + b2**2 * rho**2\n",
    "            - 2 * b2**2 * rho * x3\n",
    "            + b2**2 * x3**2\n",
    "            + 2 * b2 * b3 * rho * x2\n",
    "            - 2 * b2 * b3 * x2 * x3\n",
    "            + b3**2 * x2**2\n",
    "        )\n",
    "    ) / (2 * b1 * (a2 * x2 - a3 * rho + a3 * x3))\n",
    "    return x1_res_1, x1_res_2"
   ]
  },
  {
   "cell_type": "code",
   "execution_count": null,
   "metadata": {},
   "outputs": [],
   "source": [
    "def calc_x1_z1_z2(x2, x3, z1, z2, a, b, sigma, beta, rho):\n",
    "    \"\"\"Calculate the missing component x1 using\n",
    "    - x2 of the Kalman_SEM\n",
    "    - x3 of the Kalman_SEM\n",
    "    - z1 of the Kalman_SEM\n",
    "    - z2 of the Kalman_SEM\n",
    "    - a containing the coefficients a1, a2, a3 (a1 is not used)\n",
    "    - b containing the coefficients b1, b2, b3\n",
    "    For a and b refer to eq.6(a+b) in the paper Tandeo et. al 2023.\n",
    "\n",
    "    Parameters\n",
    "    ----------\n",
    "    x2: np.ndarray\n",
    "        x2 of the Lorenz model.\n",
    "        Needs to be dimension 1 with length N.\n",
    "    x3: np.ndarray\n",
    "        x3 of the Lorenz model.\n",
    "        Needs to be dimension 1 with length N.\n",
    "    z1: np.ndarray\n",
    "        1st additional component used for the Kalman_SEM().\n",
    "        Needs to be dimension 1 with length N.\n",
    "    z2: np.ndarray\n",
    "        2nd additional component used for the Kalman_SEM().\n",
    "        Needs to be dimension 1 with length N.\n",
    "    a: np.ndarray\n",
    "        Array containing the coefficients [a2,a3] for the equation:\n",
    "        z1 = a2* d/dt(x2) + a3* d/dt(x3)\n",
    "    b: np.ndarray\n",
    "        Array containing the coefficients [b1, b2, b3] for the equation:\n",
    "        z2 = b1* d/dt(z1) + b2* d2/dt2(x3) + b3* d2/dt2(x3)\n",
    "\n",
    "    Returns\n",
    "    -------\n",
    "    np.ndarray\n",
    "        The estimation of x1 based the coefficients provided and the assumption of knowing\n",
    "        d/dt(x2) = ... and\n",
    "        d/dt(x3) = ...\n",
    "        from the Lorenz Model PDE.\n",
    "\n",
    "    \"\"\"\n",
    "    a2 = a[0]\n",
    "    a3 = a[1]\n",
    "    b1 = b[0]\n",
    "    b2 = b[1]\n",
    "    b3 = b[2]\n",
    "\n",
    "    x1_1 = [\n",
    "        (\n",
    "            a2 * b1 * beta * sigma\n",
    "            + a2 * b1 * beta * x2\n",
    "            - a2 * b1 * rho\n",
    "            - a2 * b1 * sigma * x3\n",
    "            + a2 * b1 * x3\n",
    "            + a2 * rho\n",
    "            - a2 * x3\n",
    "            - a3 * b1 * beta * rho\n",
    "            + a3 * b1 * beta * x3\n",
    "            + a3 * b1 * sigma * x2\n",
    "            + a3 * b1 * x2\n",
    "            + a3 * x2\n",
    "            + b2 * rho\n",
    "            - b2 * x3\n",
    "            + b3 * x2\n",
    "            - np.sqrt(\n",
    "                a2**2 * b1**2 * beta**2 * sigma**2\n",
    "                + 2 * a2**2 * b1**2 * beta**2 * sigma * x2\n",
    "                + a2**2 * b1**2 * beta**2 * x2**2\n",
    "                - 2 * a2**2 * b1**2 * beta * rho * sigma\n",
    "                - 2 * a2**2 * b1**2 * beta * rho * x2\n",
    "                - 2 * a2**2 * b1**2 * beta * sigma**2 * x3\n",
    "                - 4 * a2**2 * b1**2 * beta * sigma * x2**2\n",
    "                - 2 * a2**2 * b1**2 * beta * sigma * x2 * x3\n",
    "                + 2 * a2**2 * b1**2 * beta * sigma * x3\n",
    "                + 2 * a2**2 * b1**2 * beta * x2 * x3\n",
    "                + a2**2 * b1**2 * rho**2\n",
    "                + 2 * a2**2 * b1**2 * rho * sigma * x3\n",
    "                - 2 * a2**2 * b1**2 * rho * x3\n",
    "                + a2**2 * b1**2 * sigma**2 * x3**2\n",
    "                + 4 * a2**2 * b1**2 * sigma * x2**2 * x3\n",
    "                - 2 * a2**2 * b1**2 * sigma * x3**2\n",
    "                + 4 * a2**2 * b1**2 * x2**2\n",
    "                + a2**2 * b1**2 * x3**2\n",
    "                + 2 * a2**2 * b1 * beta * rho * sigma\n",
    "                + 2 * a2**2 * b1 * beta * rho * x2\n",
    "                - 2 * a2**2 * b1 * beta * sigma * x3\n",
    "                - 2 * a2**2 * b1 * beta * x2 * x3\n",
    "                - 2 * a2**2 * b1 * rho**2\n",
    "                - 2 * a2**2 * b1 * rho * sigma * x3\n",
    "                + 4 * a2**2 * b1 * rho * x3\n",
    "                + 2 * a2**2 * b1 * sigma * x3**2\n",
    "                - 4 * a2**2 * b1 * x2**2\n",
    "                - 2 * a2**2 * b1 * x3**2\n",
    "                + a2**2 * rho**2\n",
    "                - 2 * a2**2 * rho * x3\n",
    "                + a2**2 * x3**2\n",
    "                - 2 * a2 * a3 * b1**2 * beta**2 * rho * sigma\n",
    "                - 2 * a2 * a3 * b1**2 * beta**2 * rho * x2\n",
    "                + 2 * a2 * a3 * b1**2 * beta**2 * sigma * x3\n",
    "                + 2 * a2 * a3 * b1**2 * beta**2 * x2 * x3\n",
    "                + 2 * a2 * a3 * b1**2 * beta * rho**2\n",
    "                - 4 * a2 * a3 * b1**2 * beta * rho * sigma * x2\n",
    "                + 2 * a2 * a3 * b1**2 * beta * rho * sigma * x3\n",
    "                - 4 * a2 * a3 * b1**2 * beta * rho * x3\n",
    "                + 2 * a2 * a3 * b1**2 * beta * sigma**2 * x2\n",
    "                + 2 * a2 * a3 * b1**2 * beta * sigma * x2**2\n",
    "                + 4 * a2 * a3 * b1**2 * beta * sigma * x2 * x3\n",
    "                + 2 * a2 * a3 * b1**2 * beta * sigma * x2\n",
    "                - 2 * a2 * a3 * b1**2 * beta * sigma * x3**2\n",
    "                + 6 * a2 * a3 * b1**2 * beta * x2**2\n",
    "                + 2 * a2 * a3 * b1**2 * beta * x3**2\n",
    "                + 4 * a2 * a3 * b1**2 * rho * sigma * x2 * x3\n",
    "                - 2 * a2 * a3 * b1**2 * rho * sigma * x2\n",
    "                + 2 * a2 * a3 * b1**2 * rho * x2\n",
    "                - 2 * a2 * a3 * b1**2 * sigma**2 * x2 * x3\n",
    "                - 4 * a2 * a3 * b1**2 * sigma * x2**3\n",
    "                - 4 * a2 * a3 * b1**2 * sigma * x2 * x3**2\n",
    "                - 2 * a2 * a3 * b1**2 * x2 * x3\n",
    "                - 2 * a2 * a3 * b1 * beta * rho**2\n",
    "                + 4 * a2 * a3 * b1 * beta * rho * x3\n",
    "                + 2 * a2 * a3 * b1 * beta * sigma * x2\n",
    "                - 2 * a2 * a3 * b1 * beta * x2**2\n",
    "                - 2 * a2 * a3 * b1 * beta * x3**2\n",
    "                + 2 * a2 * a3 * b1 * rho * sigma * x2\n",
    "                - 4 * a2 * a3 * b1 * rho * x2\n",
    "                - 4 * a2 * a3 * b1 * sigma * x2 * x3\n",
    "                + 4 * a2 * a3 * b1 * x2 * x3\n",
    "                + 2 * a2 * a3 * rho * x2\n",
    "                - 2 * a2 * a3 * x2 * x3\n",
    "                + 2 * a2 * b1 * b2 * beta * rho * sigma\n",
    "                + 2 * a2 * b1 * b2 * beta * rho * x2\n",
    "                - 2 * a2 * b1 * b2 * beta * sigma * x3\n",
    "                - 2 * a2 * b1 * b2 * beta * x2 * x3\n",
    "                - 2 * a2 * b1 * b2 * rho**2\n",
    "                - 2 * a2 * b1 * b2 * rho * sigma * x3\n",
    "                + 4 * a2 * b1 * b2 * rho * x3\n",
    "                + 2 * a2 * b1 * b2 * sigma * x3**2\n",
    "                - 4 * a2 * b1 * b2 * x2**2\n",
    "                - 2 * a2 * b1 * b2 * x3**2\n",
    "                + 2 * a2 * b1 * b3 * beta * sigma * x2\n",
    "                - 2 * a2 * b1 * b3 * beta * x2**2\n",
    "                - 2 * a2 * b1 * b3 * rho * x2\n",
    "                - 2 * a2 * b1 * b3 * sigma * x2 * x3\n",
    "                + 2 * a2 * b1 * b3 * x2 * x3\n",
    "                - 4 * a2 * b1 * x2 * z1\n",
    "                - 4 * a2 * b1 * x2 * z2\n",
    "                + 2 * a2 * b2 * rho**2\n",
    "                - 4 * a2 * b2 * rho * x3\n",
    "                + 2 * a2 * b2 * x3**2\n",
    "                + 2 * a2 * b3 * rho * x2\n",
    "                - 2 * a2 * b3 * x2 * x3\n",
    "                + a3**2 * b1**2 * beta**2 * rho**2\n",
    "                - 2 * a3**2 * b1**2 * beta**2 * rho * x3\n",
    "                + a3**2 * b1**2 * beta**2 * x3**2\n",
    "                - 2 * a3**2 * b1**2 * beta * rho * sigma * x2\n",
    "                + 2 * a3**2 * b1**2 * beta * rho * x2\n",
    "                + 2 * a3**2 * b1**2 * beta * sigma * x2 * x3\n",
    "                - 2 * a3**2 * b1**2 * beta * x2 * x3\n",
    "                - 4 * a3**2 * b1**2 * rho * sigma * x2**2\n",
    "                + a3**2 * b1**2 * sigma**2 * x2**2\n",
    "                + 4 * a3**2 * b1**2 * sigma * x2**2 * x3\n",
    "                + 2 * a3**2 * b1**2 * sigma * x2**2\n",
    "                + a3**2 * b1**2 * x2**2\n",
    "                - 6 * a3**2 * b1 * beta * rho * x2\n",
    "                + 6 * a3**2 * b1 * beta * x2 * x3\n",
    "                + 2 * a3**2 * b1 * sigma * x2**2\n",
    "                + 2 * a3**2 * b1 * x2**2\n",
    "                + a3**2 * x2**2\n",
    "                - 2 * a3 * b1 * b2 * beta * rho**2\n",
    "                + 4 * a3 * b1 * b2 * beta * rho * x3\n",
    "                - 2 * a3 * b1 * b2 * beta * x3**2\n",
    "                + 2 * a3 * b1 * b2 * rho * sigma * x2\n",
    "                - 2 * a3 * b1 * b2 * rho * x2\n",
    "                - 2 * a3 * b1 * b2 * sigma * x2 * x3\n",
    "                + 2 * a3 * b1 * b2 * x2 * x3\n",
    "                - 6 * a3 * b1 * b3 * beta * rho * x2\n",
    "                + 6 * a3 * b1 * b3 * beta * x2 * x3\n",
    "                + 2 * a3 * b1 * b3 * sigma * x2**2\n",
    "                + 2 * a3 * b1 * b3 * x2**2\n",
    "                - 4 * a3 * b1 * rho * z1\n",
    "                - 4 * a3 * b1 * rho * z2\n",
    "                + 4 * a3 * b1 * x3 * z1\n",
    "                + 4 * a3 * b1 * x3 * z2\n",
    "                + 2 * a3 * b2 * rho * x2\n",
    "                - 2 * a3 * b2 * x2 * x3\n",
    "                + 2 * a3 * b3 * x2**2\n",
    "                + b2**2 * rho**2\n",
    "                - 2 * b2**2 * rho * x3\n",
    "                + b2**2 * x3**2\n",
    "                + 2 * b2 * b3 * rho * x2\n",
    "                - 2 * b2 * b3 * x2 * x3\n",
    "                + b3**2 * x2**2\n",
    "            )\n",
    "        )\n",
    "        / (2 * b1 * (a2 * x2 + a3 * rho - a3 * x3))\n",
    "    ]\n",
    "    x1_2 = [\n",
    "        (\n",
    "            a2 * b1 * beta * sigma\n",
    "            + a2 * b1 * beta * x2\n",
    "            - a2 * b1 * rho\n",
    "            - a2 * b1 * sigma * x3\n",
    "            + a2 * b1 * x3\n",
    "            + a2 * rho\n",
    "            - a2 * x3\n",
    "            - a3 * b1 * beta * rho\n",
    "            + a3 * b1 * beta * x3\n",
    "            + a3 * b1 * sigma * x2\n",
    "            + a3 * b1 * x2\n",
    "            + a3 * x2\n",
    "            + b2 * rho\n",
    "            - b2 * x3\n",
    "            + b3 * x2\n",
    "            + np.sqrt(\n",
    "                a2**2 * b1**2 * beta**2 * sigma**2\n",
    "                + 2 * a2**2 * b1**2 * beta**2 * sigma * x2\n",
    "                + a2**2 * b1**2 * beta**2 * x2**2\n",
    "                - 2 * a2**2 * b1**2 * beta * rho * sigma\n",
    "                - 2 * a2**2 * b1**2 * beta * rho * x2\n",
    "                - 2 * a2**2 * b1**2 * beta * sigma**2 * x3\n",
    "                - 4 * a2**2 * b1**2 * beta * sigma * x2**2\n",
    "                - 2 * a2**2 * b1**2 * beta * sigma * x2 * x3\n",
    "                + 2 * a2**2 * b1**2 * beta * sigma * x3\n",
    "                + 2 * a2**2 * b1**2 * beta * x2 * x3\n",
    "                + a2**2 * b1**2 * rho**2\n",
    "                + 2 * a2**2 * b1**2 * rho * sigma * x3\n",
    "                - 2 * a2**2 * b1**2 * rho * x3\n",
    "                + a2**2 * b1**2 * sigma**2 * x3**2\n",
    "                + 4 * a2**2 * b1**2 * sigma * x2**2 * x3\n",
    "                - 2 * a2**2 * b1**2 * sigma * x3**2\n",
    "                + 4 * a2**2 * b1**2 * x2**2\n",
    "                + a2**2 * b1**2 * x3**2\n",
    "                + 2 * a2**2 * b1 * beta * rho * sigma\n",
    "                + 2 * a2**2 * b1 * beta * rho * x2\n",
    "                - 2 * a2**2 * b1 * beta * sigma * x3\n",
    "                - 2 * a2**2 * b1 * beta * x2 * x3\n",
    "                - 2 * a2**2 * b1 * rho**2\n",
    "                - 2 * a2**2 * b1 * rho * sigma * x3\n",
    "                + 4 * a2**2 * b1 * rho * x3\n",
    "                + 2 * a2**2 * b1 * sigma * x3**2\n",
    "                - 4 * a2**2 * b1 * x2**2\n",
    "                - 2 * a2**2 * b1 * x3**2\n",
    "                + a2**2 * rho**2\n",
    "                - 2 * a2**2 * rho * x3\n",
    "                + a2**2 * x3**2\n",
    "                - 2 * a2 * a3 * b1**2 * beta**2 * rho * sigma\n",
    "                - 2 * a2 * a3 * b1**2 * beta**2 * rho * x2\n",
    "                + 2 * a2 * a3 * b1**2 * beta**2 * sigma * x3\n",
    "                + 2 * a2 * a3 * b1**2 * beta**2 * x2 * x3\n",
    "                + 2 * a2 * a3 * b1**2 * beta * rho**2\n",
    "                - 4 * a2 * a3 * b1**2 * beta * rho * sigma * x2\n",
    "                + 2 * a2 * a3 * b1**2 * beta * rho * sigma * x3\n",
    "                - 4 * a2 * a3 * b1**2 * beta * rho * x3\n",
    "                + 2 * a2 * a3 * b1**2 * beta * sigma**2 * x2\n",
    "                + 2 * a2 * a3 * b1**2 * beta * sigma * x2**2\n",
    "                + 4 * a2 * a3 * b1**2 * beta * sigma * x2 * x3\n",
    "                + 2 * a2 * a3 * b1**2 * beta * sigma * x2\n",
    "                - 2 * a2 * a3 * b1**2 * beta * sigma * x3**2\n",
    "                + 6 * a2 * a3 * b1**2 * beta * x2**2\n",
    "                + 2 * a2 * a3 * b1**2 * beta * x3**2\n",
    "                + 4 * a2 * a3 * b1**2 * rho * sigma * x2 * x3\n",
    "                - 2 * a2 * a3 * b1**2 * rho * sigma * x2\n",
    "                + 2 * a2 * a3 * b1**2 * rho * x2\n",
    "                - 2 * a2 * a3 * b1**2 * sigma**2 * x2 * x3\n",
    "                - 4 * a2 * a3 * b1**2 * sigma * x2**3\n",
    "                - 4 * a2 * a3 * b1**2 * sigma * x2 * x3**2\n",
    "                - 2 * a2 * a3 * b1**2 * x2 * x3\n",
    "                - 2 * a2 * a3 * b1 * beta * rho**2\n",
    "                + 4 * a2 * a3 * b1 * beta * rho * x3\n",
    "                + 2 * a2 * a3 * b1 * beta * sigma * x2\n",
    "                - 2 * a2 * a3 * b1 * beta * x2**2\n",
    "                - 2 * a2 * a3 * b1 * beta * x3**2\n",
    "                + 2 * a2 * a3 * b1 * rho * sigma * x2\n",
    "                - 4 * a2 * a3 * b1 * rho * x2\n",
    "                - 4 * a2 * a3 * b1 * sigma * x2 * x3\n",
    "                + 4 * a2 * a3 * b1 * x2 * x3\n",
    "                + 2 * a2 * a3 * rho * x2\n",
    "                - 2 * a2 * a3 * x2 * x3\n",
    "                + 2 * a2 * b1 * b2 * beta * rho * sigma\n",
    "                + 2 * a2 * b1 * b2 * beta * rho * x2\n",
    "                - 2 * a2 * b1 * b2 * beta * sigma * x3\n",
    "                - 2 * a2 * b1 * b2 * beta * x2 * x3\n",
    "                - 2 * a2 * b1 * b2 * rho**2\n",
    "                - 2 * a2 * b1 * b2 * rho * sigma * x3\n",
    "                + 4 * a2 * b1 * b2 * rho * x3\n",
    "                + 2 * a2 * b1 * b2 * sigma * x3**2\n",
    "                - 4 * a2 * b1 * b2 * x2**2\n",
    "                - 2 * a2 * b1 * b2 * x3**2\n",
    "                + 2 * a2 * b1 * b3 * beta * sigma * x2\n",
    "                - 2 * a2 * b1 * b3 * beta * x2**2\n",
    "                - 2 * a2 * b1 * b3 * rho * x2\n",
    "                - 2 * a2 * b1 * b3 * sigma * x2 * x3\n",
    "                + 2 * a2 * b1 * b3 * x2 * x3\n",
    "                - 4 * a2 * b1 * x2 * z1\n",
    "                - 4 * a2 * b1 * x2 * z2\n",
    "                + 2 * a2 * b2 * rho**2\n",
    "                - 4 * a2 * b2 * rho * x3\n",
    "                + 2 * a2 * b2 * x3**2\n",
    "                + 2 * a2 * b3 * rho * x2\n",
    "                - 2 * a2 * b3 * x2 * x3\n",
    "                + a3**2 * b1**2 * beta**2 * rho**2\n",
    "                - 2 * a3**2 * b1**2 * beta**2 * rho * x3\n",
    "                + a3**2 * b1**2 * beta**2 * x3**2\n",
    "                - 2 * a3**2 * b1**2 * beta * rho * sigma * x2\n",
    "                + 2 * a3**2 * b1**2 * beta * rho * x2\n",
    "                + 2 * a3**2 * b1**2 * beta * sigma * x2 * x3\n",
    "                - 2 * a3**2 * b1**2 * beta * x2 * x3\n",
    "                - 4 * a3**2 * b1**2 * rho * sigma * x2**2\n",
    "                + a3**2 * b1**2 * sigma**2 * x2**2\n",
    "                + 4 * a3**2 * b1**2 * sigma * x2**2 * x3\n",
    "                + 2 * a3**2 * b1**2 * sigma * x2**2\n",
    "                + a3**2 * b1**2 * x2**2\n",
    "                - 6 * a3**2 * b1 * beta * rho * x2\n",
    "                + 6 * a3**2 * b1 * beta * x2 * x3\n",
    "                + 2 * a3**2 * b1 * sigma * x2**2\n",
    "                + 2 * a3**2 * b1 * x2**2\n",
    "                + a3**2 * x2**2\n",
    "                - 2 * a3 * b1 * b2 * beta * rho**2\n",
    "                + 4 * a3 * b1 * b2 * beta * rho * x3\n",
    "                - 2 * a3 * b1 * b2 * beta * x3**2\n",
    "                + 2 * a3 * b1 * b2 * rho * sigma * x2\n",
    "                - 2 * a3 * b1 * b2 * rho * x2\n",
    "                - 2 * a3 * b1 * b2 * sigma * x2 * x3\n",
    "                + 2 * a3 * b1 * b2 * x2 * x3\n",
    "                - 6 * a3 * b1 * b3 * beta * rho * x2\n",
    "                + 6 * a3 * b1 * b3 * beta * x2 * x3\n",
    "                + 2 * a3 * b1 * b3 * sigma * x2**2\n",
    "                + 2 * a3 * b1 * b3 * x2**2\n",
    "                - 4 * a3 * b1 * rho * z1\n",
    "                - 4 * a3 * b1 * rho * z2\n",
    "                + 4 * a3 * b1 * x3 * z1\n",
    "                + 4 * a3 * b1 * x3 * z2\n",
    "                + 2 * a3 * b2 * rho * x2\n",
    "                - 2 * a3 * b2 * x2 * x3\n",
    "                + 2 * a3 * b3 * x2**2\n",
    "                + b2**2 * rho**2\n",
    "                - 2 * b2**2 * rho * x3\n",
    "                + b2**2 * x3**2\n",
    "                + 2 * b2 * b3 * rho * x2\n",
    "                - 2 * b2 * b3 * x2 * x3\n",
    "                + b3**2 * x2**2\n",
    "            )\n",
    "        )\n",
    "        / (2 * b1 * (a2 * x2 + a3 * rho - a3 * x3))\n",
    "    ]\n",
    "    return x1_1[0], x1_2[0]"
   ]
  },
  {
   "cell_type": "code",
   "execution_count": null,
   "metadata": {},
   "outputs": [],
   "source": [
    "result1 = calc_x1_z1(\n",
    "    x2=x_s_V2[:, 0],\n",
    "    x3=x_s_V2[:, 1],\n",
    "    z1=x_s_V2[:, 2],\n",
    "    z2=x_s_V2[:, 3],\n",
    "    a=regress_a_V2_coef,\n",
    "    b=regress_b_coef,\n",
    "    sigma=sigma,\n",
    "    beta=beta,\n",
    "    rho=rho,\n",
    ")\n",
    "\n",
    "result2 = calc_x1_z2(\n",
    "    x2=x_s_V2[:, 0],\n",
    "    x3=x_s_V2[:, 1],\n",
    "    z1=x_s_V2[:, 2],\n",
    "    z2=x_s_V2[:, 3],\n",
    "    a=regress_a_V2_coef,\n",
    "    b=regress_b_coef,\n",
    "    sigma=sigma,\n",
    "    beta=beta,\n",
    "    rho=rho,\n",
    ")"
   ]
  },
  {
   "cell_type": "code",
   "execution_count": null,
   "metadata": {},
   "outputs": [
    {
     "data": {
      "text/plain": [
       "(-20.0, 20.0)"
      ]
     },
     "execution_count": null,
     "metadata": {},
     "output_type": "execute_result"
    }
   ],
   "source": [
    "plt.plot(t, x_t[:, 0].T)\n",
    "idx = 0\n",
    "for res in [result2]:\n",
    "    idx += 1\n",
    "    plt.plot(t, res[0], color=colors[idx])\n",
    "    # plt.plot(t, res[1], color = colors[idx])\n",
    "plt.ylim(-20, 20)"
   ]
  },
  {
   "cell_type": "code",
   "execution_count": null,
   "metadata": {},
   "outputs": [],
   "source": []
  }
 ],
 "metadata": {
  "anaconda-cloud": {},
  "kernelspec": {
   "display_name": "Python 3",
   "language": "python",
   "name": "python3"
  },
  "language_info": {
   "codemirror_mode": {
    "name": "ipython",
    "version": 3
   },
   "file_extension": ".py",
   "mimetype": "text/x-python",
   "name": "python",
   "nbconvert_exporter": "python",
   "pygments_lexer": "ipython3",
   "version": "3.10.9"
  },
  "nbpresent": {
   "slides": {
    "1d42f838-0c49-4169-ace3-6cbe2ef3bcb8": {
     "id": "1d42f838-0c49-4169-ace3-6cbe2ef3bcb8",
     "prev": "a79bbd87-5da4-453d-b024-19a2123d05bd",
     "regions": {
      "1265fdae-ba33-4f63-bb1b-066a18e00ea9": {
       "attrs": {
        "height": 0.8,
        "width": 0.8,
        "x": 0.1,
        "y": 0.1
       },
       "content": {
        "cell": "d1760a5b-8d30-43df-87d2-fa83c3bd6553",
        "part": "whole"
       },
       "id": "1265fdae-ba33-4f63-bb1b-066a18e00ea9"
      }
     }
    },
    "2ced89bd-2571-4751-aebc-f597ccefbe76": {
     "id": "2ced89bd-2571-4751-aebc-f597ccefbe76",
     "prev": "add23d58-b14d-49d8-b2aa-577f38d2e1e2",
     "regions": {
      "17b915d1-242d-4df1-82e2-63084727c865": {
       "attrs": {
        "height": 0.8,
        "width": 0.8,
        "x": 0.1,
        "y": 0.1
       },
       "content": {
        "cell": "3c8d57d0-c7b5-4ec6-9ecb-d91aaffbf836",
        "part": "whole"
       },
       "id": "17b915d1-242d-4df1-82e2-63084727c865"
      }
     }
    },
    "336153f3-0ab5-44bc-a573-edaf69c0b238": {
     "id": "336153f3-0ab5-44bc-a573-edaf69c0b238",
     "prev": "42177add-a63c-4114-b63f-3ddf964ef110",
     "regions": {
      "ba96f47c-67a0-4f8e-8aa5-df9e5aaacc1f": {
       "attrs": {
        "height": 0.8,
        "width": 0.8,
        "x": 0.1,
        "y": 0.1
       },
       "content": {
        "cell": "837aa478-c139-42fb-9609-b0a98c79fae1",
        "part": "whole"
       },
       "id": "ba96f47c-67a0-4f8e-8aa5-df9e5aaacc1f"
      }
     }
    },
    "42177add-a63c-4114-b63f-3ddf964ef110": {
     "id": "42177add-a63c-4114-b63f-3ddf964ef110",
     "prev": "724df457-c17c-4540-b34c-7bef5cb716ca",
     "regions": {
      "54f1cdca-2aa4-4698-8246-2a1c5e145547": {
       "attrs": {
        "height": 0.8,
        "width": 0.8,
        "x": 0.1,
        "y": 0.1
       },
       "content": {
        "cell": "241f9ce2-fe11-4533-be8f-991a700f3920",
        "part": "whole"
       },
       "id": "54f1cdca-2aa4-4698-8246-2a1c5e145547"
      }
     }
    },
    "5828c160-102d-4b0b-a02e-a1347935177e": {
     "id": "5828c160-102d-4b0b-a02e-a1347935177e",
     "prev": "aa2c9167-4c71-4984-8932-50f07ece09ee",
     "regions": {
      "844a550a-1b12-4ed5-996d-bdc5c6673cfb": {
       "attrs": {
        "height": 0.8,
        "width": 0.8,
        "x": 0.1,
        "y": 0.1
       },
       "content": {
        "cell": "150c861c-fecc-4dfc-8bb7-c54189d675cb",
        "part": "whole"
       },
       "id": "844a550a-1b12-4ed5-996d-bdc5c6673cfb"
      }
     }
    },
    "67ee6b5b-5315-44b8-ae26-5f1cd7459cdf": {
     "id": "67ee6b5b-5315-44b8-ae26-5f1cd7459cdf",
     "prev": "78cfb209-fb42-41a3-9b67-2d8976535bfd",
     "regions": {
      "69ee6591-33f8-486f-abd2-80b224924624": {
       "attrs": {
        "height": 0.8,
        "width": 0.8,
        "x": 0.1,
        "y": 0.1
       },
       "content": {
        "cell": "f975dd20-65cf-43f8-8a6e-96f2acbad4e4",
        "part": "whole"
       },
       "id": "69ee6591-33f8-486f-abd2-80b224924624"
      }
     }
    },
    "724df457-c17c-4540-b34c-7bef5cb716ca": {
     "id": "724df457-c17c-4540-b34c-7bef5cb716ca",
     "prev": "9fe87c5b-707b-4b01-b745-e8ded89e9df3",
     "regions": {
      "240d4d84-1531-44fe-a100-4420357b11d5": {
       "attrs": {
        "height": 0.8,
        "width": 0.8,
        "x": 0.1,
        "y": 0.1
       },
       "content": {
        "cell": "81f56606-9081-47fd-8968-13d85c93063c",
        "part": "whole"
       },
       "id": "240d4d84-1531-44fe-a100-4420357b11d5"
      }
     }
    },
    "77584b6a-a79a-4c2a-9877-16ceb1f8abd0": {
     "id": "77584b6a-a79a-4c2a-9877-16ceb1f8abd0",
     "prev": "5828c160-102d-4b0b-a02e-a1347935177e",
     "regions": {
      "8c07716a-3ea3-46ee-9c54-ad6fc7312519": {
       "attrs": {
        "height": 0.8,
        "width": 0.8,
        "x": 0.1,
        "y": 0.1
       },
       "content": {
        "cell": "8150ad94-0ca4-4664-99f2-16b477d0a987",
        "part": "whole"
       },
       "id": "8c07716a-3ea3-46ee-9c54-ad6fc7312519"
      }
     }
    },
    "78cfb209-fb42-41a3-9b67-2d8976535bfd": {
     "id": "78cfb209-fb42-41a3-9b67-2d8976535bfd",
     "prev": "c903fa48-923d-4a62-9cb0-bb5947fd72fc",
     "regions": {
      "ccafd74d-69fc-4fee-a9d4-a08c42b93603": {
       "attrs": {
        "height": 0.8,
        "width": 0.8,
        "x": 0.1,
        "y": 0.1
       },
       "content": {
        "cell": "af657441-0912-4749-b537-6e1734f875bb",
        "part": "whole"
       },
       "id": "ccafd74d-69fc-4fee-a9d4-a08c42b93603"
      }
     }
    },
    "7adb904a-fb6f-4d67-94d8-4c711e07ac11": {
     "id": "7adb904a-fb6f-4d67-94d8-4c711e07ac11",
     "prev": "d17e8d89-9e35-46c9-b929-566d91fdb7f1",
     "regions": {
      "7ea089b6-47be-4579-9234-db684b9d36a5": {
       "attrs": {
        "height": 0.8,
        "width": 0.8,
        "x": 0.1,
        "y": 0.1
       },
       "content": {
        "cell": "c4e459e9-33bc-43f1-91e8-5a5d05746979",
        "part": "whole"
       },
       "id": "7ea089b6-47be-4579-9234-db684b9d36a5"
      }
     }
    },
    "9563799e-a48a-4472-be8d-4d8cd293d2ad": {
     "id": "9563799e-a48a-4472-be8d-4d8cd293d2ad",
     "prev": "f27ef294-a3b8-4e5c-9050-45addbe0b149",
     "regions": {
      "98b47946-ed94-4959-9d5f-02151a5ec080": {
       "attrs": {
        "height": 0.8,
        "width": 0.8,
        "x": 0.1,
        "y": 0.1
       },
       "content": {
        "cell": "7a6c203f-bcbb-4c52-8b85-7e6be3945044",
        "part": "whole"
       },
       "id": "98b47946-ed94-4959-9d5f-02151a5ec080"
      }
     }
    },
    "9fe87c5b-707b-4b01-b745-e8ded89e9df3": {
     "id": "9fe87c5b-707b-4b01-b745-e8ded89e9df3",
     "prev": "67ee6b5b-5315-44b8-ae26-5f1cd7459cdf",
     "regions": {
      "88a6792f-b8da-46f8-9d2f-4f7eb16621dd": {
       "attrs": {
        "height": 0.8,
        "width": 0.8,
        "x": 0.1,
        "y": 0.1
       },
       "content": {
        "cell": "702967c4-5161-4544-a9f1-88cd5d0155da",
        "part": "whole"
       },
       "id": "88a6792f-b8da-46f8-9d2f-4f7eb16621dd"
      }
     }
    },
    "a79bbd87-5da4-453d-b024-19a2123d05bd": {
     "id": "a79bbd87-5da4-453d-b024-19a2123d05bd",
     "prev": "7adb904a-fb6f-4d67-94d8-4c711e07ac11",
     "regions": {
      "4f5dad50-8402-438d-a99a-65f489665bcb": {
       "attrs": {
        "height": 0.8,
        "width": 0.8,
        "x": 0.1,
        "y": 0.1
       },
       "content": {
        "cell": "b00e2703-18c9-46e3-b935-dd07e82d80e5",
        "part": "whole"
       },
       "id": "4f5dad50-8402-438d-a99a-65f489665bcb"
      }
     }
    },
    "aa2c9167-4c71-4984-8932-50f07ece09ee": {
     "id": "aa2c9167-4c71-4984-8932-50f07ece09ee",
     "prev": "1d42f838-0c49-4169-ace3-6cbe2ef3bcb8",
     "regions": {
      "320b99ad-7a18-4224-a500-b94e65a48833": {
       "attrs": {
        "height": 0.8,
        "width": 0.8,
        "x": 0.1,
        "y": 0.1
       },
       "content": {
        "cell": "604a659e-82bf-4618-95bf-77ef755b9088",
        "part": "whole"
       },
       "id": "320b99ad-7a18-4224-a500-b94e65a48833"
      }
     }
    },
    "ad8135f7-ac79-4ac1-a610-10a935b49a98": {
     "id": "ad8135f7-ac79-4ac1-a610-10a935b49a98",
     "prev": "2ced89bd-2571-4751-aebc-f597ccefbe76",
     "regions": {
      "0e52e387-23f1-4ed3-9940-8c389e971206": {
       "attrs": {
        "height": 0.8,
        "width": 0.8,
        "x": 0.1,
        "y": 0.1
       },
       "content": {
        "cell": "8f5b99c6-6771-4a2f-8ff5-f6693d6b9916",
        "part": "whole"
       },
       "id": "0e52e387-23f1-4ed3-9940-8c389e971206"
      }
     }
    },
    "add23d58-b14d-49d8-b2aa-577f38d2e1e2": {
     "id": "add23d58-b14d-49d8-b2aa-577f38d2e1e2",
     "prev": "ee4674c1-f707-4364-8f98-920a3a4dccdd",
     "regions": {
      "4ff09800-dc8f-4d70-a6fa-122728d7b7ce": {
       "attrs": {
        "height": 0.8,
        "width": 0.8,
        "x": 0.1,
        "y": 0.1
       },
       "content": {
        "cell": "35f54171-6e87-4b0f-9cb2-821d9c0d8b96",
        "part": "whole"
       },
       "id": "4ff09800-dc8f-4d70-a6fa-122728d7b7ce"
      }
     }
    },
    "c903fa48-923d-4a62-9cb0-bb5947fd72fc": {
     "id": "c903fa48-923d-4a62-9cb0-bb5947fd72fc",
     "prev": null,
     "regions": {
      "9af22ce6-60f7-4b0f-b583-587632ca1c4d": {
       "attrs": {
        "height": 0.8,
        "width": 0.8,
        "x": 0.1,
        "y": 0.1
       },
       "content": {
        "cell": "76428090-b279-4d85-b5bc-e0fdefafc294",
        "part": "whole"
       },
       "id": "9af22ce6-60f7-4b0f-b583-587632ca1c4d"
      }
     }
    },
    "d17e8d89-9e35-46c9-b929-566d91fdb7f1": {
     "id": "d17e8d89-9e35-46c9-b929-566d91fdb7f1",
     "prev": "9563799e-a48a-4472-be8d-4d8cd293d2ad",
     "regions": {
      "8014a801-52b8-4b31-b0b3-57c09db3642a": {
       "attrs": {
        "height": 0.8,
        "width": 0.8,
        "x": 0.1,
        "y": 0.1
       },
       "content": {
        "cell": "971ff88b-e8dc-43dc-897e-71a7b6b659c0",
        "part": "whole"
       },
       "id": "8014a801-52b8-4b31-b0b3-57c09db3642a"
      }
     }
    },
    "ee4674c1-f707-4364-8f98-920a3a4dccdd": {
     "id": "ee4674c1-f707-4364-8f98-920a3a4dccdd",
     "prev": "77584b6a-a79a-4c2a-9877-16ceb1f8abd0",
     "regions": {
      "88808a64-d487-4a72-b74f-5b1db506cbec": {
       "attrs": {
        "height": 0.8,
        "width": 0.8,
        "x": 0.1,
        "y": 0.1
       },
       "content": {
        "cell": "02cf2959-e712-4af8-8bb6-f914608e15ac",
        "part": "whole"
       },
       "id": "88808a64-d487-4a72-b74f-5b1db506cbec"
      }
     }
    },
    "f27ef294-a3b8-4e5c-9050-45addbe0b149": {
     "id": "f27ef294-a3b8-4e5c-9050-45addbe0b149",
     "prev": "336153f3-0ab5-44bc-a573-edaf69c0b238",
     "regions": {
      "c15a426b-5006-40a7-b0ef-45a7aa142ea6": {
       "attrs": {
        "height": 0.8,
        "width": 0.8,
        "x": 0.1,
        "y": 0.1
       },
       "content": {
        "cell": "3ed39876-5608-4f08-ba3c-a08d1c1d2c84",
        "part": "whole"
       },
       "id": "c15a426b-5006-40a7-b0ef-45a7aa142ea6"
      }
     }
    }
   },
   "themes": {}
  }
 },
 "nbformat": 4,
 "nbformat_minor": 1
}
